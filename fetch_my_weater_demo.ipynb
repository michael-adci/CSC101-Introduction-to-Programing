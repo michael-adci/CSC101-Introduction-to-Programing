{
  "nbformat": 4,
  "nbformat_minor": 0,
  "metadata": {
    "colab": {
      "provenance": [],
      "authorship_tag": "ABX9TyP2IaLRECznqGJWqRG3rWVy",
      "include_colab_link": true
    },
    "kernelspec": {
      "name": "python3",
      "display_name": "Python 3"
    },
    "language_info": {
      "name": "python"
    },
    "widgets": {
      "application/vnd.jupyter.widget-state+json": {
        "e34035ac53ef4d6ab5464deb59f6a1cf": {
          "model_module": "@jupyter-widgets/controls",
          "model_name": "TextModel",
          "model_module_version": "1.5.0",
          "state": {
            "_dom_classes": [],
            "_model_module": "@jupyter-widgets/controls",
            "_model_module_version": "1.5.0",
            "_model_name": "TextModel",
            "_view_count": null,
            "_view_module": "@jupyter-widgets/controls",
            "_view_module_version": "1.5.0",
            "_view_name": "TextView",
            "continuous_update": true,
            "description": "Cities:",
            "description_tooltip": null,
            "disabled": false,
            "layout": "IPY_MODEL_a9498360422c4ee1bcfaa3b2b2746610",
            "placeholder": "Enter cities separated by commas",
            "style": "IPY_MODEL_c022886e141448dbbdcaa96a5d1d6618",
            "value": "Perth, Paris"
          }
        },
        "a9498360422c4ee1bcfaa3b2b2746610": {
          "model_module": "@jupyter-widgets/base",
          "model_name": "LayoutModel",
          "model_module_version": "1.2.0",
          "state": {
            "_model_module": "@jupyter-widgets/base",
            "_model_module_version": "1.2.0",
            "_model_name": "LayoutModel",
            "_view_count": null,
            "_view_module": "@jupyter-widgets/base",
            "_view_module_version": "1.2.0",
            "_view_name": "LayoutView",
            "align_content": null,
            "align_items": null,
            "align_self": null,
            "border": null,
            "bottom": null,
            "display": null,
            "flex": null,
            "flex_flow": null,
            "grid_area": null,
            "grid_auto_columns": null,
            "grid_auto_flow": null,
            "grid_auto_rows": null,
            "grid_column": null,
            "grid_gap": null,
            "grid_row": null,
            "grid_template_areas": null,
            "grid_template_columns": null,
            "grid_template_rows": null,
            "height": null,
            "justify_content": null,
            "justify_items": null,
            "left": null,
            "margin": null,
            "max_height": null,
            "max_width": null,
            "min_height": null,
            "min_width": null,
            "object_fit": null,
            "object_position": null,
            "order": null,
            "overflow": null,
            "overflow_x": null,
            "overflow_y": null,
            "padding": null,
            "right": null,
            "top": null,
            "visibility": null,
            "width": null
          }
        },
        "c022886e141448dbbdcaa96a5d1d6618": {
          "model_module": "@jupyter-widgets/controls",
          "model_name": "DescriptionStyleModel",
          "model_module_version": "1.5.0",
          "state": {
            "_model_module": "@jupyter-widgets/controls",
            "_model_module_version": "1.5.0",
            "_model_name": "DescriptionStyleModel",
            "_view_count": null,
            "_view_module": "@jupyter-widgets/base",
            "_view_module_version": "1.2.0",
            "_view_name": "StyleView",
            "description_width": ""
          }
        },
        "ed1a2734fdc544649c8f519aece82ca0": {
          "model_module": "@jupyter-widgets/controls",
          "model_name": "ButtonModel",
          "model_module_version": "1.5.0",
          "state": {
            "_dom_classes": [],
            "_model_module": "@jupyter-widgets/controls",
            "_model_module_version": "1.5.0",
            "_model_name": "ButtonModel",
            "_view_count": null,
            "_view_module": "@jupyter-widgets/controls",
            "_view_module_version": "1.5.0",
            "_view_name": "ButtonView",
            "button_style": "",
            "description": "Get Weather",
            "disabled": false,
            "icon": "cloud",
            "layout": "IPY_MODEL_4bb52bb1e7d14791bd2845445259fafe",
            "style": "IPY_MODEL_a75e077bc3f54757971c9d93ef472f2f",
            "tooltip": "Click to get weather"
          }
        },
        "4bb52bb1e7d14791bd2845445259fafe": {
          "model_module": "@jupyter-widgets/base",
          "model_name": "LayoutModel",
          "model_module_version": "1.2.0",
          "state": {
            "_model_module": "@jupyter-widgets/base",
            "_model_module_version": "1.2.0",
            "_model_name": "LayoutModel",
            "_view_count": null,
            "_view_module": "@jupyter-widgets/base",
            "_view_module_version": "1.2.0",
            "_view_name": "LayoutView",
            "align_content": null,
            "align_items": null,
            "align_self": null,
            "border": null,
            "bottom": null,
            "display": null,
            "flex": null,
            "flex_flow": null,
            "grid_area": null,
            "grid_auto_columns": null,
            "grid_auto_flow": null,
            "grid_auto_rows": null,
            "grid_column": null,
            "grid_gap": null,
            "grid_row": null,
            "grid_template_areas": null,
            "grid_template_columns": null,
            "grid_template_rows": null,
            "height": null,
            "justify_content": null,
            "justify_items": null,
            "left": null,
            "margin": null,
            "max_height": null,
            "max_width": null,
            "min_height": null,
            "min_width": null,
            "object_fit": null,
            "object_position": null,
            "order": null,
            "overflow": null,
            "overflow_x": null,
            "overflow_y": null,
            "padding": null,
            "right": null,
            "top": null,
            "visibility": null,
            "width": null
          }
        },
        "a75e077bc3f54757971c9d93ef472f2f": {
          "model_module": "@jupyter-widgets/controls",
          "model_name": "ButtonStyleModel",
          "model_module_version": "1.5.0",
          "state": {
            "_model_module": "@jupyter-widgets/controls",
            "_model_module_version": "1.5.0",
            "_model_name": "ButtonStyleModel",
            "_view_count": null,
            "_view_module": "@jupyter-widgets/base",
            "_view_module_version": "1.2.0",
            "_view_name": "StyleView",
            "button_color": null,
            "font_weight": ""
          }
        },
        "bc6f37492c7841649883e2293814933e": {
          "model_module": "@jupyter-widgets/controls",
          "model_name": "TextModel",
          "model_module_version": "1.5.0",
          "state": {
            "_dom_classes": [],
            "_model_module": "@jupyter-widgets/controls",
            "_model_module_version": "1.5.0",
            "_model_name": "TextModel",
            "_view_count": null,
            "_view_module": "@jupyter-widgets/controls",
            "_view_module_version": "1.5.0",
            "_view_name": "TextView",
            "continuous_update": true,
            "description": "Cities:",
            "description_tooltip": null,
            "disabled": false,
            "layout": "IPY_MODEL_9e5ffc9ded4b48728dfa318d3cbd87ca",
            "placeholder": "Enter cities separated by commas",
            "style": "IPY_MODEL_09bd2a7f1c8e4dfa854187b3d8521b9d",
            "value": "Paris, London, Brisbane"
          }
        },
        "9e5ffc9ded4b48728dfa318d3cbd87ca": {
          "model_module": "@jupyter-widgets/base",
          "model_name": "LayoutModel",
          "model_module_version": "1.2.0",
          "state": {
            "_model_module": "@jupyter-widgets/base",
            "_model_module_version": "1.2.0",
            "_model_name": "LayoutModel",
            "_view_count": null,
            "_view_module": "@jupyter-widgets/base",
            "_view_module_version": "1.2.0",
            "_view_name": "LayoutView",
            "align_content": null,
            "align_items": null,
            "align_self": null,
            "border": null,
            "bottom": null,
            "display": null,
            "flex": null,
            "flex_flow": null,
            "grid_area": null,
            "grid_auto_columns": null,
            "grid_auto_flow": null,
            "grid_auto_rows": null,
            "grid_column": null,
            "grid_gap": null,
            "grid_row": null,
            "grid_template_areas": null,
            "grid_template_columns": null,
            "grid_template_rows": null,
            "height": null,
            "justify_content": null,
            "justify_items": null,
            "left": null,
            "margin": null,
            "max_height": null,
            "max_width": null,
            "min_height": null,
            "min_width": null,
            "object_fit": null,
            "object_position": null,
            "order": null,
            "overflow": null,
            "overflow_x": null,
            "overflow_y": null,
            "padding": null,
            "right": null,
            "top": null,
            "visibility": null,
            "width": null
          }
        },
        "09bd2a7f1c8e4dfa854187b3d8521b9d": {
          "model_module": "@jupyter-widgets/controls",
          "model_name": "DescriptionStyleModel",
          "model_module_version": "1.5.0",
          "state": {
            "_model_module": "@jupyter-widgets/controls",
            "_model_module_version": "1.5.0",
            "_model_name": "DescriptionStyleModel",
            "_view_count": null,
            "_view_module": "@jupyter-widgets/base",
            "_view_module_version": "1.2.0",
            "_view_name": "StyleView",
            "description_width": ""
          }
        },
        "f62d21f3e4cd431d8113e0bb96cb6d76": {
          "model_module": "@jupyter-widgets/controls",
          "model_name": "ButtonModel",
          "model_module_version": "1.5.0",
          "state": {
            "_dom_classes": [],
            "_model_module": "@jupyter-widgets/controls",
            "_model_module_version": "1.5.0",
            "_model_name": "ButtonModel",
            "_view_count": null,
            "_view_module": "@jupyter-widgets/controls",
            "_view_module_version": "1.5.0",
            "_view_name": "ButtonView",
            "button_style": "",
            "description": "Get Weather",
            "disabled": false,
            "icon": "cloud",
            "layout": "IPY_MODEL_fd845fbd7111487ea1ac2e7d4a2c2a97",
            "style": "IPY_MODEL_f10c0694784148dca0d86607d577bdda",
            "tooltip": "Click to get weather"
          }
        },
        "fd845fbd7111487ea1ac2e7d4a2c2a97": {
          "model_module": "@jupyter-widgets/base",
          "model_name": "LayoutModel",
          "model_module_version": "1.2.0",
          "state": {
            "_model_module": "@jupyter-widgets/base",
            "_model_module_version": "1.2.0",
            "_model_name": "LayoutModel",
            "_view_count": null,
            "_view_module": "@jupyter-widgets/base",
            "_view_module_version": "1.2.0",
            "_view_name": "LayoutView",
            "align_content": null,
            "align_items": null,
            "align_self": null,
            "border": null,
            "bottom": null,
            "display": null,
            "flex": null,
            "flex_flow": null,
            "grid_area": null,
            "grid_auto_columns": null,
            "grid_auto_flow": null,
            "grid_auto_rows": null,
            "grid_column": null,
            "grid_gap": null,
            "grid_row": null,
            "grid_template_areas": null,
            "grid_template_columns": null,
            "grid_template_rows": null,
            "height": null,
            "justify_content": null,
            "justify_items": null,
            "left": null,
            "margin": null,
            "max_height": null,
            "max_width": null,
            "min_height": null,
            "min_width": null,
            "object_fit": null,
            "object_position": null,
            "order": null,
            "overflow": null,
            "overflow_x": null,
            "overflow_y": null,
            "padding": null,
            "right": null,
            "top": null,
            "visibility": null,
            "width": null
          }
        },
        "f10c0694784148dca0d86607d577bdda": {
          "model_module": "@jupyter-widgets/controls",
          "model_name": "ButtonStyleModel",
          "model_module_version": "1.5.0",
          "state": {
            "_model_module": "@jupyter-widgets/controls",
            "_model_module_version": "1.5.0",
            "_model_name": "ButtonStyleModel",
            "_view_count": null,
            "_view_module": "@jupyter-widgets/base",
            "_view_module_version": "1.2.0",
            "_view_name": "StyleView",
            "button_color": null,
            "font_weight": ""
          }
        },
        "1b0b3f877b304198a1cd6120171c08ab": {
          "model_module": "@jupyter-widgets/controls",
          "model_name": "TextModel",
          "model_module_version": "1.5.0",
          "state": {
            "_dom_classes": [],
            "_model_module": "@jupyter-widgets/controls",
            "_model_module_version": "1.5.0",
            "_model_name": "TextModel",
            "_view_count": null,
            "_view_module": "@jupyter-widgets/controls",
            "_view_module_version": "1.5.0",
            "_view_name": "TextView",
            "continuous_update": true,
            "description": "Cities:",
            "description_tooltip": null,
            "disabled": false,
            "layout": "IPY_MODEL_858b698dcba2458db95fc3c92d672bca",
            "placeholder": "Enter cities separated by commas",
            "style": "IPY_MODEL_07623a0122f4416480f1a0a6bd56daa3",
            "value": "Paris, Perth, London"
          }
        },
        "858b698dcba2458db95fc3c92d672bca": {
          "model_module": "@jupyter-widgets/base",
          "model_name": "LayoutModel",
          "model_module_version": "1.2.0",
          "state": {
            "_model_module": "@jupyter-widgets/base",
            "_model_module_version": "1.2.0",
            "_model_name": "LayoutModel",
            "_view_count": null,
            "_view_module": "@jupyter-widgets/base",
            "_view_module_version": "1.2.0",
            "_view_name": "LayoutView",
            "align_content": null,
            "align_items": null,
            "align_self": null,
            "border": null,
            "bottom": null,
            "display": null,
            "flex": null,
            "flex_flow": null,
            "grid_area": null,
            "grid_auto_columns": null,
            "grid_auto_flow": null,
            "grid_auto_rows": null,
            "grid_column": null,
            "grid_gap": null,
            "grid_row": null,
            "grid_template_areas": null,
            "grid_template_columns": null,
            "grid_template_rows": null,
            "height": null,
            "justify_content": null,
            "justify_items": null,
            "left": null,
            "margin": null,
            "max_height": null,
            "max_width": null,
            "min_height": null,
            "min_width": null,
            "object_fit": null,
            "object_position": null,
            "order": null,
            "overflow": null,
            "overflow_x": null,
            "overflow_y": null,
            "padding": null,
            "right": null,
            "top": null,
            "visibility": null,
            "width": null
          }
        },
        "07623a0122f4416480f1a0a6bd56daa3": {
          "model_module": "@jupyter-widgets/controls",
          "model_name": "DescriptionStyleModel",
          "model_module_version": "1.5.0",
          "state": {
            "_model_module": "@jupyter-widgets/controls",
            "_model_module_version": "1.5.0",
            "_model_name": "DescriptionStyleModel",
            "_view_count": null,
            "_view_module": "@jupyter-widgets/base",
            "_view_module_version": "1.2.0",
            "_view_name": "StyleView",
            "description_width": ""
          }
        },
        "ccf2573a11ce417896a7a689c967a237": {
          "model_module": "@jupyter-widgets/controls",
          "model_name": "ButtonModel",
          "model_module_version": "1.5.0",
          "state": {
            "_dom_classes": [],
            "_model_module": "@jupyter-widgets/controls",
            "_model_module_version": "1.5.0",
            "_model_name": "ButtonModel",
            "_view_count": null,
            "_view_module": "@jupyter-widgets/controls",
            "_view_module_version": "1.5.0",
            "_view_name": "ButtonView",
            "button_style": "",
            "description": "Get Weather",
            "disabled": false,
            "icon": "cloud",
            "layout": "IPY_MODEL_57ea8310524944398fc05e7ce9013c31",
            "style": "IPY_MODEL_93b6f5817c5b4b26a27bf2d5d950ffbe",
            "tooltip": "Click to get weather"
          }
        },
        "57ea8310524944398fc05e7ce9013c31": {
          "model_module": "@jupyter-widgets/base",
          "model_name": "LayoutModel",
          "model_module_version": "1.2.0",
          "state": {
            "_model_module": "@jupyter-widgets/base",
            "_model_module_version": "1.2.0",
            "_model_name": "LayoutModel",
            "_view_count": null,
            "_view_module": "@jupyter-widgets/base",
            "_view_module_version": "1.2.0",
            "_view_name": "LayoutView",
            "align_content": null,
            "align_items": null,
            "align_self": null,
            "border": null,
            "bottom": null,
            "display": null,
            "flex": null,
            "flex_flow": null,
            "grid_area": null,
            "grid_auto_columns": null,
            "grid_auto_flow": null,
            "grid_auto_rows": null,
            "grid_column": null,
            "grid_gap": null,
            "grid_row": null,
            "grid_template_areas": null,
            "grid_template_columns": null,
            "grid_template_rows": null,
            "height": null,
            "justify_content": null,
            "justify_items": null,
            "left": null,
            "margin": null,
            "max_height": null,
            "max_width": null,
            "min_height": null,
            "min_width": null,
            "object_fit": null,
            "object_position": null,
            "order": null,
            "overflow": null,
            "overflow_x": null,
            "overflow_y": null,
            "padding": null,
            "right": null,
            "top": null,
            "visibility": null,
            "width": null
          }
        },
        "93b6f5817c5b4b26a27bf2d5d950ffbe": {
          "model_module": "@jupyter-widgets/controls",
          "model_name": "ButtonStyleModel",
          "model_module_version": "1.5.0",
          "state": {
            "_model_module": "@jupyter-widgets/controls",
            "_model_module_version": "1.5.0",
            "_model_name": "ButtonStyleModel",
            "_view_count": null,
            "_view_module": "@jupyter-widgets/base",
            "_view_module_version": "1.2.0",
            "_view_name": "StyleView",
            "button_color": null,
            "font_weight": ""
          }
        },
        "af35b0dcb8d24bfea5e3e3fe9a8c33f7": {
          "model_module": "@jupyter-widgets/output",
          "model_name": "OutputModel",
          "model_module_version": "1.0.0",
          "state": {
            "_dom_classes": [],
            "_model_module": "@jupyter-widgets/output",
            "_model_module_version": "1.0.0",
            "_model_name": "OutputModel",
            "_view_count": null,
            "_view_module": "@jupyter-widgets/output",
            "_view_module_version": "1.0.0",
            "_view_name": "OutputView",
            "layout": "IPY_MODEL_00d740bc9150493d873be25d05be11cd",
            "msg_id": "",
            "outputs": [
              {
                "output_type": "display_data",
                "data": {
                  "text/plain": "<IPython.core.display.HTML object>",
                  "text/html": "Paris: 9°C, Partly cloudy<br>Perth: 21°C, Sunny<br>London: 5°C, Partly cloudy"
                },
                "metadata": {}
              }
            ]
          }
        },
        "00d740bc9150493d873be25d05be11cd": {
          "model_module": "@jupyter-widgets/base",
          "model_name": "LayoutModel",
          "model_module_version": "1.2.0",
          "state": {
            "_model_module": "@jupyter-widgets/base",
            "_model_module_version": "1.2.0",
            "_model_name": "LayoutModel",
            "_view_count": null,
            "_view_module": "@jupyter-widgets/base",
            "_view_module_version": "1.2.0",
            "_view_name": "LayoutView",
            "align_content": null,
            "align_items": null,
            "align_self": null,
            "border": null,
            "bottom": null,
            "display": null,
            "flex": null,
            "flex_flow": null,
            "grid_area": null,
            "grid_auto_columns": null,
            "grid_auto_flow": null,
            "grid_auto_rows": null,
            "grid_column": null,
            "grid_gap": null,
            "grid_row": null,
            "grid_template_areas": null,
            "grid_template_columns": null,
            "grid_template_rows": null,
            "height": null,
            "justify_content": null,
            "justify_items": null,
            "left": null,
            "margin": null,
            "max_height": null,
            "max_width": null,
            "min_height": null,
            "min_width": null,
            "object_fit": null,
            "object_position": null,
            "order": null,
            "overflow": null,
            "overflow_x": null,
            "overflow_y": null,
            "padding": null,
            "right": null,
            "top": null,
            "visibility": null,
            "width": null
          }
        },
        "d50b81655de349b292ba7954512405b9": {
          "model_module": "@jupyter-widgets/controls",
          "model_name": "TextModel",
          "model_module_version": "1.5.0",
          "state": {
            "_dom_classes": [],
            "_model_module": "@jupyter-widgets/controls",
            "_model_module_version": "1.5.0",
            "_model_name": "TextModel",
            "_view_count": null,
            "_view_module": "@jupyter-widgets/controls",
            "_view_module_version": "1.5.0",
            "_view_name": "TextView",
            "continuous_update": true,
            "description": "Cities:",
            "description_tooltip": null,
            "disabled": false,
            "layout": "IPY_MODEL_35781631e4064dac81eb553946e73225",
            "placeholder": "Enter cities separated by commas",
            "style": "IPY_MODEL_ea3d146c23d8456080c474655dc33732",
            "value": "Perth, Paris"
          }
        },
        "35781631e4064dac81eb553946e73225": {
          "model_module": "@jupyter-widgets/base",
          "model_name": "LayoutModel",
          "model_module_version": "1.2.0",
          "state": {
            "_model_module": "@jupyter-widgets/base",
            "_model_module_version": "1.2.0",
            "_model_name": "LayoutModel",
            "_view_count": null,
            "_view_module": "@jupyter-widgets/base",
            "_view_module_version": "1.2.0",
            "_view_name": "LayoutView",
            "align_content": null,
            "align_items": null,
            "align_self": null,
            "border": null,
            "bottom": null,
            "display": null,
            "flex": null,
            "flex_flow": null,
            "grid_area": null,
            "grid_auto_columns": null,
            "grid_auto_flow": null,
            "grid_auto_rows": null,
            "grid_column": null,
            "grid_gap": null,
            "grid_row": null,
            "grid_template_areas": null,
            "grid_template_columns": null,
            "grid_template_rows": null,
            "height": null,
            "justify_content": null,
            "justify_items": null,
            "left": null,
            "margin": null,
            "max_height": null,
            "max_width": null,
            "min_height": null,
            "min_width": null,
            "object_fit": null,
            "object_position": null,
            "order": null,
            "overflow": null,
            "overflow_x": null,
            "overflow_y": null,
            "padding": null,
            "right": null,
            "top": null,
            "visibility": null,
            "width": null
          }
        },
        "ea3d146c23d8456080c474655dc33732": {
          "model_module": "@jupyter-widgets/controls",
          "model_name": "DescriptionStyleModel",
          "model_module_version": "1.5.0",
          "state": {
            "_model_module": "@jupyter-widgets/controls",
            "_model_module_version": "1.5.0",
            "_model_name": "DescriptionStyleModel",
            "_view_count": null,
            "_view_module": "@jupyter-widgets/base",
            "_view_module_version": "1.2.0",
            "_view_name": "StyleView",
            "description_width": ""
          }
        },
        "a56c73c9e05b42ef8cf532de67444bff": {
          "model_module": "@jupyter-widgets/controls",
          "model_name": "ButtonModel",
          "model_module_version": "1.5.0",
          "state": {
            "_dom_classes": [],
            "_model_module": "@jupyter-widgets/controls",
            "_model_module_version": "1.5.0",
            "_model_name": "ButtonModel",
            "_view_count": null,
            "_view_module": "@jupyter-widgets/controls",
            "_view_module_version": "1.5.0",
            "_view_name": "ButtonView",
            "button_style": "",
            "description": "Get Weather",
            "disabled": false,
            "icon": "cloud",
            "layout": "IPY_MODEL_c6867b6db39b4bc3be23c82d9205cbbd",
            "style": "IPY_MODEL_3a04b0269d1e4393847755331b1a40ac",
            "tooltip": "Click to get weather"
          }
        },
        "c6867b6db39b4bc3be23c82d9205cbbd": {
          "model_module": "@jupyter-widgets/base",
          "model_name": "LayoutModel",
          "model_module_version": "1.2.0",
          "state": {
            "_model_module": "@jupyter-widgets/base",
            "_model_module_version": "1.2.0",
            "_model_name": "LayoutModel",
            "_view_count": null,
            "_view_module": "@jupyter-widgets/base",
            "_view_module_version": "1.2.0",
            "_view_name": "LayoutView",
            "align_content": null,
            "align_items": null,
            "align_self": null,
            "border": null,
            "bottom": null,
            "display": null,
            "flex": null,
            "flex_flow": null,
            "grid_area": null,
            "grid_auto_columns": null,
            "grid_auto_flow": null,
            "grid_auto_rows": null,
            "grid_column": null,
            "grid_gap": null,
            "grid_row": null,
            "grid_template_areas": null,
            "grid_template_columns": null,
            "grid_template_rows": null,
            "height": null,
            "justify_content": null,
            "justify_items": null,
            "left": null,
            "margin": null,
            "max_height": null,
            "max_width": null,
            "min_height": null,
            "min_width": null,
            "object_fit": null,
            "object_position": null,
            "order": null,
            "overflow": null,
            "overflow_x": null,
            "overflow_y": null,
            "padding": null,
            "right": null,
            "top": null,
            "visibility": null,
            "width": null
          }
        },
        "3a04b0269d1e4393847755331b1a40ac": {
          "model_module": "@jupyter-widgets/controls",
          "model_name": "ButtonStyleModel",
          "model_module_version": "1.5.0",
          "state": {
            "_model_module": "@jupyter-widgets/controls",
            "_model_module_version": "1.5.0",
            "_model_name": "ButtonStyleModel",
            "_view_count": null,
            "_view_module": "@jupyter-widgets/base",
            "_view_module_version": "1.2.0",
            "_view_name": "StyleView",
            "button_color": null,
            "font_weight": ""
          }
        },
        "10d9d68ac8fd44738ca54d1ee0a70068": {
          "model_module": "@jupyter-widgets/output",
          "model_name": "OutputModel",
          "model_module_version": "1.0.0",
          "state": {
            "_dom_classes": [],
            "_model_module": "@jupyter-widgets/output",
            "_model_module_version": "1.0.0",
            "_model_name": "OutputModel",
            "_view_count": null,
            "_view_module": "@jupyter-widgets/output",
            "_view_module_version": "1.0.0",
            "_view_name": "OutputView",
            "layout": "IPY_MODEL_a5c1d2757b6e4ee38ba6f7b5feaf66d0",
            "msg_id": "",
            "outputs": [
              {
                "output_type": "display_data",
                "data": {
                  "text/plain": "HTML(value='<pre>Weather for Perth:\\nWeather report: Perth\\n\\n  \\x1b[38;5;226m    \\\\   /    \\x1b[0m Sunny\\n  \\…",
                  "application/vnd.jupyter.widget-view+json": {
                    "version_major": 2,
                    "version_minor": 0,
                    "model_id": "85ab8820ad464524a892fc813366c95a"
                  }
                },
                "metadata": {}
              }
            ]
          }
        },
        "a5c1d2757b6e4ee38ba6f7b5feaf66d0": {
          "model_module": "@jupyter-widgets/base",
          "model_name": "LayoutModel",
          "model_module_version": "1.2.0",
          "state": {
            "_model_module": "@jupyter-widgets/base",
            "_model_module_version": "1.2.0",
            "_model_name": "LayoutModel",
            "_view_count": null,
            "_view_module": "@jupyter-widgets/base",
            "_view_module_version": "1.2.0",
            "_view_name": "LayoutView",
            "align_content": null,
            "align_items": null,
            "align_self": null,
            "border": null,
            "bottom": null,
            "display": null,
            "flex": null,
            "flex_flow": null,
            "grid_area": null,
            "grid_auto_columns": null,
            "grid_auto_flow": null,
            "grid_auto_rows": null,
            "grid_column": null,
            "grid_gap": null,
            "grid_row": null,
            "grid_template_areas": null,
            "grid_template_columns": null,
            "grid_template_rows": null,
            "height": null,
            "justify_content": null,
            "justify_items": null,
            "left": null,
            "margin": null,
            "max_height": null,
            "max_width": null,
            "min_height": null,
            "min_width": null,
            "object_fit": null,
            "object_position": null,
            "order": null,
            "overflow": null,
            "overflow_x": null,
            "overflow_y": null,
            "padding": null,
            "right": null,
            "top": null,
            "visibility": null,
            "width": null
          }
        },
        "920083e7dc234686ae476eaca5d861bc": {
          "model_module": "@jupyter-widgets/controls",
          "model_name": "HTMLModel",
          "model_module_version": "1.5.0",
          "state": {
            "_dom_classes": [],
            "_model_module": "@jupyter-widgets/controls",
            "_model_module_version": "1.5.0",
            "_model_name": "HTMLModel",
            "_view_count": null,
            "_view_module": "@jupyter-widgets/controls",
            "_view_module_version": "1.5.0",
            "_view_name": "HTMLView",
            "description": "",
            "description_tooltip": null,
            "layout": "IPY_MODEL_2b813016ec6e40ca814db861565c260a",
            "placeholder": "​",
            "style": "IPY_MODEL_5035b78fd45b427da8cfee0d76d7cf50",
            "value": "<pre>Weather for Perth:\nWeather report: Perth\n\n  \u001b[38;5;226m    \\   /    \u001b[0m Sunny\n  \u001b[38;5;226m     .-.     \u001b[0m \u001b[38;5;226m+23\u001b[0m(\u001b[38;5;226m24\u001b[0m) °C\u001b[0m     \n  \u001b[38;5;226m  ― (   ) ―  \u001b[0m \u001b[1m↙\u001b[0m \u001b[38;5;226m15\u001b[0m km/h\u001b[0m      \n  \u001b[38;5;226m     `-’     \u001b[0m 10 km\u001b[0m          \n  \u001b[38;5;226m    /   \\    \u001b[0m 0.0 mm\u001b[0m         \n                                                       ┌─────────────┐                                                       \n┌──────────────────────────────┬───────────────────────┤  Wed 07 May ├───────────────────────┬──────────────────────────────┐\n│            Morning           │             Noon      └──────┬──────┘     Evening           │             Night            │\n├──────────────────────────────┼──────────────────────────────┼──────────────────────────────┼──────────────────────────────┤\n│ \u001b[38;5;226m    \\   /    \u001b[0m Sunny          │ \u001b[38;5;226m    \\   /    \u001b[0m Sunny          │ \u001b[38;5;226m    \\   /    \u001b[0m Clear          │ \u001b[38;5;226m    \\   /    \u001b[0m Clear          │\n│ \u001b[38;5;226m     .-.     \u001b[0m \u001b[38;5;154m18\u001b[0m °C\u001b[0m          │ \u001b[38;5;226m     .-.     \u001b[0m \u001b[38;5;226m+24\u001b[0m(\u001b[38;5;220m25\u001b[0m) °C\u001b[0m     │ \u001b[38;5;226m     .-.     \u001b[0m \u001b[38;5;226m+23\u001b[0m(\u001b[38;5;226m24\u001b[0m) °C\u001b[0m     │ \u001b[38;5;226m     .-.     \u001b[0m \u001b[38;5;190m20\u001b[0m °C\u001b[0m          │\n│ \u001b[38;5;226m  ― (   ) ―  \u001b[0m \u001b[1m←\u001b[0m \u001b[38;5;214m23\u001b[0m-\u001b[38;5;202m28\u001b[0m km/h\u001b[0m   │ \u001b[38;5;226m  ― (   ) ―  \u001b[0m \u001b[1m↙\u001b[0m \u001b[38;5;220m18\u001b[0m-\u001b[38;5;214m21\u001b[0m km/h\u001b[0m   │ \u001b[38;5;226m  ― (   ) ―  \u001b[0m \u001b[1m←\u001b[0m \u001b[38;5;190m10\u001b[0m-\u001b[38;5;214m20\u001b[0m km/h\u001b[0m   │ \u001b[38;5;226m  ― (   ) ―  \u001b[0m \u001b[1m←\u001b[0m \u001b[38;5;226m15\u001b[0m-\u001b[38;5;202m31\u001b[0m km/h\u001b[0m   │\n│ \u001b[38;5;226m     `-’     \u001b[0m 10 km\u001b[0m          │ \u001b[38;5;226m     `-’     \u001b[0m 10 km\u001b[0m          │ \u001b[38;5;226m     `-’     \u001b[0m 10 km\u001b[0m          │ \u001b[38;5;226m     `-’     \u001b[0m 10 km\u001b[0m          │\n│ \u001b[38;5;226m    /   \\    \u001b[0m 0.0 mm | 0%\u001b[0m    │ \u001b[38;5;226m    /   \\    \u001b[0m 0.0 mm | 0%\u001b[0m    │ \u001b[38;5;226m    /   \\    \u001b[0m 0.0 mm | 0%\u001b[0m    │ \u001b[38;5;226m    /   \\    \u001b[0m 0.0 mm | 0%\u001b[0m    │\n└──────────────────────────────┴──────────────────────────────┴──────────────────────────────┴──────────────────────────────┘\n                                                       ┌─────────────┐                                                       \n┌──────────────────────────────┬───────────────────────┤  Thu 08 May ├───────────────────────┬──────────────────────────────┐\n│            Morning           │             Noon      └──────┬──────┘     Evening           │             Night            │\n├──────────────────────────────┼──────────────────────────────┼──────────────────────────────┼──────────────────────────────┤\n│ \u001b[38;5;226m    \\   /    \u001b[0m Sunny          │ \u001b[38;5;226m    \\   /    \u001b[0m Sunny          │ \u001b[38;5;226m    \\   /    \u001b[0m Clear          │ \u001b[38;5;226m    \\   /    \u001b[0m Clear          │\n│ \u001b[38;5;226m     .-.     \u001b[0m \u001b[38;5;226m22\u001b[0m °C\u001b[0m          │ \u001b[38;5;226m     .-.     \u001b[0m \u001b[38;5;214m+28\u001b[0m(\u001b[38;5;220m27\u001b[0m) °C\u001b[0m     │ \u001b[38;5;226m     .-.     \u001b[0m \u001b[38;5;220m25\u001b[0m °C\u001b[0m          │ \u001b[38;5;226m     .-.     \u001b[0m \u001b[38;5;226m+23\u001b[0m(\u001b[38;5;226m24\u001b[0m) °C\u001b[0m     │\n│ \u001b[38;5;226m  ― (   ) ―  \u001b[0m \u001b[1m↙\u001b[0m \u001b[38;5;214m21\u001b[0m-\u001b[38;5;202m28\u001b[0m km/h\u001b[0m   │ \u001b[38;5;226m  ― (   ) ―  \u001b[0m \u001b[1m↓\u001b[0m \u001b[38;5;220m16\u001b[0m-\u001b[38;5;214m23\u001b[0m km/h\u001b[0m   │ \u001b[38;5;226m  ― (   ) ―  \u001b[0m \u001b[1m↖\u001b[0m \u001b[38;5;118m5\u001b[0m-\u001b[38;5;190m10\u001b[0m km/h\u001b[0m    │ \u001b[38;5;226m  ― (   ) ―  \u001b[0m \u001b[1m↙\u001b[0m \u001b[38;5;190m10\u001b[0m-\u001b[38;5;214m22\u001b[0m km/h\u001b[0m   │\n│ \u001b[38;5;226m     `-’     \u001b[0m 10 km\u001b[0m          │ \u001b[38;5;226m     `-’     \u001b[0m 10 km\u001b[0m          │ \u001b[38;5;226m     `-’     \u001b[0m 10 km\u001b[0m          │ \u001b[38;5;226m     `-’     \u001b[0m 10 km\u001b[0m          │\n│ \u001b[38;5;226m    /   \\    \u001b[0m 0.0 mm | 0%\u001b[0m    │ \u001b[38;5;226m    /   \\    \u001b[0m 0.0 mm | 0%\u001b[0m    │ \u001b[38;5;226m    /   \\    \u001b[0m 0.0 mm | 0%\u001b[0m    │ \u001b[38;5;226m    /   \\    \u001b[0m 0.0 mm | 0%\u001b[0m    │\n└──────────────────────────────┴──────────────────────────────┴──────────────────────────────┴──────────────────────────────┘\n                                                       ┌─────────────┐                                                       \n┌──────────────────────────────┬───────────────────────┤  Fri 09 May ├───────────────────────┬──────────────────────────────┐\n│            Morning           │             Noon      └──────┬──────┘     Evening           │             Night            │\n├──────────────────────────────┼──────────────────────────────┼──────────────────────────────┼──────────────────────────────┤\n│ \u001b[38;5;226m    \\   /    \u001b[0m Sunny          │ \u001b[38;5;226m    \\   /    \u001b[0m Sunny          │ \u001b[38;5;226m    \\   /    \u001b[0m Clear          │ \u001b[38;5;226m    \\   /    \u001b[0m Clear          │\n│ \u001b[38;5;226m     .-.     \u001b[0m \u001b[38;5;226m+24\u001b[0m(\u001b[38;5;220m25\u001b[0m) °C\u001b[0m     │ \u001b[38;5;226m     .-.     \u001b[0m \u001b[38;5;214m+29\u001b[0m(\u001b[38;5;214m28\u001b[0m) °C\u001b[0m     │ \u001b[38;5;226m     .-.     \u001b[0m \u001b[38;5;226m+23\u001b[0m(\u001b[38;5;220m25\u001b[0m) °C\u001b[0m     │ \u001b[38;5;226m     .-.     \u001b[0m \u001b[38;5;226m22\u001b[0m °C\u001b[0m          │\n│ \u001b[38;5;226m  ― (   ) ―  \u001b[0m \u001b[1m↓\u001b[0m \u001b[38;5;220m19\u001b[0m-\u001b[38;5;208m27\u001b[0m km/h\u001b[0m   │ \u001b[38;5;226m  ― (   ) ―  \u001b[0m \u001b[1m↘\u001b[0m \u001b[38;5;226m13\u001b[0m-\u001b[38;5;214m21\u001b[0m km/h\u001b[0m   │ \u001b[38;5;226m  ― (   ) ―  \u001b[0m \u001b[1m↗\u001b[0m \u001b[38;5;118m5\u001b[0m-\u001b[38;5;154m8\u001b[0m km/h\u001b[0m     │ \u001b[38;5;226m  ― (   ) ―  \u001b[0m \u001b[1m↓\u001b[0m \u001b[38;5;082m1\u001b[0m km/h\u001b[0m       │\n│ \u001b[38;5;226m     `-’     \u001b[0m 10 km\u001b[0m          │ \u001b[38;5;226m     `-’     \u001b[0m 10 km\u001b[0m          │ \u001b[38;5;226m     `-’     \u001b[0m 10 km\u001b[0m          │ \u001b[38;5;226m     `-’     \u001b[0m 10 km\u001b[0m          │\n│ \u001b[38;5;226m    /   \\    \u001b[0m 0.0 mm | 0%\u001b[0m    │ \u001b[38;5;226m    /   \\    \u001b[0m 0.0 mm | 0%\u001b[0m    │ \u001b[38;5;226m    /   \\    \u001b[0m 0.0 mm | 0%\u001b[0m    │ \u001b[38;5;226m    /   \\    \u001b[0m 0.0 mm | 0%\u001b[0m    │\n└──────────────────────────────┴──────────────────────────────┴──────────────────────────────┴──────────────────────────────┘\nLocation: Perth, Western Australia, Australia [-31.952712,115.8604796]\n\nFollow \u001b[46m\u001b[30m@igor_chubin\u001b[0m for wttr.in updates\n\n\nWeather for Paris:\nWeather report: Paris\n\n  \u001b[38;5;226m _`/\"\"\u001b[38;5;250m.-.    \u001b[0m Patchy rain nearby\n  \u001b[38;5;226m  ,\\_\u001b[38;5;250m(   ).  \u001b[0m \u001b[38;5;046m+9\u001b[0m(\u001b[38;5;047m7\u001b[0m) °C\u001b[0m       \n  \u001b[38;5;226m   /\u001b[38;5;250m(___(__) \u001b[0m \u001b[1m↓\u001b[0m \u001b[38;5;220m16\u001b[0m km/h\u001b[0m      \n  \u001b[38;5;111m     ‘ ‘ ‘ ‘ \u001b[0m 10 km\u001b[0m          \n  \u001b[38;5;111m    ‘ ‘ ‘ ‘  \u001b[0m 0.0 mm\u001b[0m         \n                                                       ┌─────────────┐                                                       \n┌──────────────────────────────┬───────────────────────┤  Wed 07 May ├───────────────────────┬──────────────────────────────┐\n│            Morning           │             Noon      └──────┬──────┘     Evening           │             Night            │\n├──────────────────────────────┼──────────────────────────────┼──────────────────────────────┼──────────────────────────────┤\n│               Cloudy         │ \u001b[38;5;226m   \\  /\u001b[0m       Partly Cloudy  │               Cloudy         │ \u001b[38;5;226m   \\  /\u001b[0m       Partly Cloudy  │\n│ \u001b[38;5;250m     .--.    \u001b[0m \u001b[38;5;082m+12\u001b[0m(\u001b[38;5;082m10\u001b[0m) °C\u001b[0m     │ \u001b[38;5;226m _ /\"\"\u001b[38;5;250m.-.    \u001b[0m \u001b[38;5;118m15\u001b[0m °C\u001b[0m          │ \u001b[38;5;250m     .--.    \u001b[0m \u001b[38;5;154m17\u001b[0m °C\u001b[0m          │ \u001b[38;5;226m _ /\"\"\u001b[38;5;250m.-.    \u001b[0m \u001b[38;5;082m+12\u001b[0m(\u001b[38;5;082m10\u001b[0m) °C\u001b[0m     │\n│ \u001b[38;5;250m  .-(    ).  \u001b[0m \u001b[1m↓\u001b[0m \u001b[38;5;220m18\u001b[0m-\u001b[38;5;214m20\u001b[0m km/h\u001b[0m   │ \u001b[38;5;226m   \\_\u001b[38;5;250m(   ).  \u001b[0m \u001b[1m↓\u001b[0m \u001b[38;5;220m17\u001b[0m-\u001b[38;5;214m20\u001b[0m km/h\u001b[0m   │ \u001b[38;5;250m  .-(    ).  \u001b[0m \u001b[1m↙\u001b[0m \u001b[38;5;220m18\u001b[0m-\u001b[38;5;214m22\u001b[0m km/h\u001b[0m   │ \u001b[38;5;226m   \\_\u001b[38;5;250m(   ).  \u001b[0m \u001b[1m↓\u001b[0m \u001b[38;5;226m13\u001b[0m-\u001b[38;5;214m21\u001b[0m km/h\u001b[0m   │\n│ \u001b[38;5;250m (___.__)__) \u001b[0m 10 km\u001b[0m          │ \u001b[38;5;226m   /\u001b[38;5;250m(___(__) \u001b[0m 10 km\u001b[0m          │ \u001b[38;5;250m (___.__)__) \u001b[0m 10 km\u001b[0m          │ \u001b[38;5;226m   /\u001b[38;5;250m(___(__) \u001b[0m 10 km\u001b[0m          │\n│               0.0 mm | 0%\u001b[0m    │               0.0 mm | 0%\u001b[0m    │               0.0 mm | 0%\u001b[0m    │               0.0 mm | 0%\u001b[0m    │\n└──────────────────────────────┴──────────────────────────────┴──────────────────────────────┴──────────────────────────────┘\n                                                       ┌─────────────┐                                                       \n┌──────────────────────────────┬───────────────────────┤  Thu 08 May ├───────────────────────┬──────────────────────────────┐\n│            Morning           │             Noon      └──────┬──────┘     Evening           │             Night            │\n├──────────────────────────────┼──────────────────────────────┼──────────────────────────────┼──────────────────────────────┤\n│ \u001b[38;5;226m   \\  /\u001b[0m       Partly Cloudy  │ \u001b[38;5;226m _`/\"\"\u001b[38;5;250m.-.    \u001b[0m Patchy rain ne…│ \u001b[38;5;226m   \\  /\u001b[0m       Partly Cloudy  │ \u001b[38;5;226m   \\  /\u001b[0m       Partly Cloudy  │\n│ \u001b[38;5;226m _ /\"\"\u001b[38;5;250m.-.    \u001b[0m \u001b[38;5;118m+13\u001b[0m(\u001b[38;5;082m12\u001b[0m) °C\u001b[0m     │ \u001b[38;5;226m  ,\\_\u001b[38;5;250m(   ).  \u001b[0m \u001b[38;5;154m17\u001b[0m °C\u001b[0m          │ \u001b[38;5;226m _ /\"\"\u001b[38;5;250m.-.    \u001b[0m \u001b[38;5;154m16\u001b[0m °C\u001b[0m          │ \u001b[38;5;226m _ /\"\"\u001b[38;5;250m.-.    \u001b[0m \u001b[38;5;118m+13\u001b[0m(\u001b[38;5;082m12\u001b[0m) °C\u001b[0m     │\n│ \u001b[38;5;226m   \\_\u001b[38;5;250m(   ).  \u001b[0m \u001b[1m↙\u001b[0m \u001b[38;5;190m12\u001b[0m-\u001b[38;5;226m14\u001b[0m km/h\u001b[0m   │ \u001b[38;5;226m   /\u001b[38;5;250m(___(__) \u001b[0m \u001b[1m↙\u001b[0m \u001b[38;5;226m15\u001b[0m-\u001b[38;5;220m17\u001b[0m km/h\u001b[0m   │ \u001b[38;5;226m   \\_\u001b[38;5;250m(   ).  \u001b[0m \u001b[1m↙\u001b[0m \u001b[38;5;220m16\u001b[0m-\u001b[38;5;214m21\u001b[0m km/h\u001b[0m   │ \u001b[38;5;226m   \\_\u001b[38;5;250m(   ).  \u001b[0m \u001b[1m↙\u001b[0m \u001b[38;5;226m14\u001b[0m-\u001b[38;5;208m24\u001b[0m km/h\u001b[0m   │\n│ \u001b[38;5;226m   /\u001b[38;5;250m(___(__) \u001b[0m 10 km\u001b[0m          │ \u001b[38;5;111m     ‘ ‘ ‘ ‘ \u001b[0m 10 km\u001b[0m          │ \u001b[38;5;226m   /\u001b[38;5;250m(___(__) \u001b[0m 10 km\u001b[0m          │ \u001b[38;5;226m   /\u001b[38;5;250m(___(__) \u001b[0m 10 km\u001b[0m          │\n│               0.0 mm | 0%\u001b[0m    │ \u001b[38;5;111m    ‘ ‘ ‘ ‘  \u001b[0m 0.1 mm | 100%\u001b[0m  │               0.0 mm | 0%\u001b[0m    │               0.0 mm | 0%\u001b[0m    │\n└──────────────────────────────┴──────────────────────────────┴──────────────────────────────┴──────────────────────────────┘\n                                                       ┌─────────────┐                                                       \n┌──────────────────────────────┬───────────────────────┤  Fri 09 May ├───────────────────────┬──────────────────────────────┐\n│            Morning           │             Noon      └──────┬──────┘     Evening           │             Night            │\n├──────────────────────────────┼──────────────────────────────┼──────────────────────────────┼──────────────────────────────┤\n│ \u001b[38;5;226m    \\   /    \u001b[0m Sunny          │ \u001b[38;5;226m   \\  /\u001b[0m       Partly Cloudy  │ \u001b[38;5;226m    \\   /    \u001b[0m Sunny          │ \u001b[38;5;226m    \\   /    \u001b[0m Sunny          │\n│ \u001b[38;5;226m     .-.     \u001b[0m \u001b[38;5;118m+13\u001b[0m(\u001b[38;5;082m12\u001b[0m) °C\u001b[0m     │ \u001b[38;5;226m _ /\"\"\u001b[38;5;250m.-.    \u001b[0m \u001b[38;5;154m18\u001b[0m °C\u001b[0m          │ \u001b[38;5;226m     .-.     \u001b[0m \u001b[38;5;154m18\u001b[0m °C\u001b[0m          │ \u001b[38;5;226m     .-.     \u001b[0m \u001b[38;5;118m+14\u001b[0m(\u001b[38;5;118m13\u001b[0m) °C\u001b[0m     │\n│ \u001b[38;5;226m  ― (   ) ―  \u001b[0m \u001b[1m↙\u001b[0m \u001b[38;5;220m17\u001b[0m-\u001b[38;5;220m19\u001b[0m km/h\u001b[0m   │ \u001b[38;5;226m   \\_\u001b[38;5;250m(   ).  \u001b[0m \u001b[1m↙\u001b[0m \u001b[38;5;214m21\u001b[0m-\u001b[38;5;208m24\u001b[0m km/h\u001b[0m   │ \u001b[38;5;226m  ― (   ) ―  \u001b[0m \u001b[1m←\u001b[0m \u001b[38;5;214m20\u001b[0m-\u001b[38;5;208m24\u001b[0m km/h\u001b[0m   │ \u001b[38;5;226m  ― (   ) ―  \u001b[0m \u001b[1m↙\u001b[0m \u001b[38;5;226m14\u001b[0m-\u001b[38;5;208m24\u001b[0m km/h\u001b[0m   │\n│ \u001b[38;5;226m     `-’     \u001b[0m 10 km\u001b[0m          │ \u001b[38;5;226m   /\u001b[38;5;250m(___(__) \u001b[0m 10 km\u001b[0m          │ \u001b[38;5;226m     `-’     \u001b[0m 10 km\u001b[0m          │ \u001b[38;5;226m     `-’     \u001b[0m 10 km\u001b[0m          │\n│ \u001b[38;5;226m    /   \\    \u001b[0m 0.0 mm | 0%\u001b[0m    │               0.0 mm | 0%\u001b[0m    │ \u001b[38;5;226m    /   \\    \u001b[0m 0.0 mm | 0%\u001b[0m    │ \u001b[38;5;226m    /   \\    \u001b[0m 0.0 mm | 0%\u001b[0m    │\n└──────────────────────────────┴──────────────────────────────┴──────────────────────────────┴──────────────────────────────┘\nLocation: Paris, Île-de-France, France métropolitaine, 75000;75001;75002;75003;75004;75005;75006;75007;75008;75009;75010;75011;75012;75013;75014;75015;75016;75017;75018;75019;75020;75116, France [48.8566101,2.3514992]\n\nFollow \u001b[46m\u001b[30m@igor_chubin\u001b[0m for wttr.in updates\n</pre>"
          }
        },
        "2b813016ec6e40ca814db861565c260a": {
          "model_module": "@jupyter-widgets/base",
          "model_name": "LayoutModel",
          "model_module_version": "1.2.0",
          "state": {
            "_model_module": "@jupyter-widgets/base",
            "_model_module_version": "1.2.0",
            "_model_name": "LayoutModel",
            "_view_count": null,
            "_view_module": "@jupyter-widgets/base",
            "_view_module_version": "1.2.0",
            "_view_name": "LayoutView",
            "align_content": null,
            "align_items": null,
            "align_self": null,
            "border": null,
            "bottom": null,
            "display": null,
            "flex": null,
            "flex_flow": null,
            "grid_area": null,
            "grid_auto_columns": null,
            "grid_auto_flow": null,
            "grid_auto_rows": null,
            "grid_column": null,
            "grid_gap": null,
            "grid_row": null,
            "grid_template_areas": null,
            "grid_template_columns": null,
            "grid_template_rows": null,
            "height": null,
            "justify_content": null,
            "justify_items": null,
            "left": null,
            "margin": null,
            "max_height": null,
            "max_width": null,
            "min_height": null,
            "min_width": null,
            "object_fit": null,
            "object_position": null,
            "order": null,
            "overflow": null,
            "overflow_x": null,
            "overflow_y": null,
            "padding": null,
            "right": null,
            "top": null,
            "visibility": null,
            "width": null
          }
        },
        "5035b78fd45b427da8cfee0d76d7cf50": {
          "model_module": "@jupyter-widgets/controls",
          "model_name": "DescriptionStyleModel",
          "model_module_version": "1.5.0",
          "state": {
            "_model_module": "@jupyter-widgets/controls",
            "_model_module_version": "1.5.0",
            "_model_name": "DescriptionStyleModel",
            "_view_count": null,
            "_view_module": "@jupyter-widgets/base",
            "_view_module_version": "1.2.0",
            "_view_name": "StyleView",
            "description_width": ""
          }
        },
        "85ab8820ad464524a892fc813366c95a": {
          "model_module": "@jupyter-widgets/controls",
          "model_name": "HTMLModel",
          "model_module_version": "1.5.0",
          "state": {
            "_dom_classes": [],
            "_model_module": "@jupyter-widgets/controls",
            "_model_module_version": "1.5.0",
            "_model_name": "HTMLModel",
            "_view_count": null,
            "_view_module": "@jupyter-widgets/controls",
            "_view_module_version": "1.5.0",
            "_view_name": "HTMLView",
            "description": "",
            "description_tooltip": null,
            "layout": "IPY_MODEL_209cf324091340f48b0d2c5f30c897ec",
            "placeholder": "​",
            "style": "IPY_MODEL_4f7d6ad4b2ac4e54af9078de66362786",
            "value": "<pre>Weather for Perth:\nWeather report: Perth\n\n  \u001b[38;5;226m    \\   /    \u001b[0m Sunny\n  \u001b[38;5;226m     .-.     \u001b[0m \u001b[38;5;226m+23\u001b[0m(\u001b[38;5;226m24\u001b[0m) °C\u001b[0m     \n  \u001b[38;5;226m  ― (   ) ―  \u001b[0m \u001b[1m↙\u001b[0m \u001b[38;5;226m15\u001b[0m km/h\u001b[0m      \n  \u001b[38;5;226m     `-’     \u001b[0m 10 km\u001b[0m          \n  \u001b[38;5;226m    /   \\    \u001b[0m 0.0 mm\u001b[0m         \n                                                       ┌─────────────┐                                                       \n┌──────────────────────────────┬───────────────────────┤  Wed 07 May ├───────────────────────┬──────────────────────────────┐\n│            Morning           │             Noon      └──────┬──────┘     Evening           │             Night            │\n├──────────────────────────────┼──────────────────────────────┼──────────────────────────────┼──────────────────────────────┤\n│ \u001b[38;5;226m    \\   /    \u001b[0m Sunny          │ \u001b[38;5;226m    \\   /    \u001b[0m Sunny          │ \u001b[38;5;226m    \\   /    \u001b[0m Clear          │ \u001b[38;5;226m    \\   /    \u001b[0m Clear          │\n│ \u001b[38;5;226m     .-.     \u001b[0m \u001b[38;5;154m18\u001b[0m °C\u001b[0m          │ \u001b[38;5;226m     .-.     \u001b[0m \u001b[38;5;226m+24\u001b[0m(\u001b[38;5;220m25\u001b[0m) °C\u001b[0m     │ \u001b[38;5;226m     .-.     \u001b[0m \u001b[38;5;226m+23\u001b[0m(\u001b[38;5;226m24\u001b[0m) °C\u001b[0m     │ \u001b[38;5;226m     .-.     \u001b[0m \u001b[38;5;190m20\u001b[0m °C\u001b[0m          │\n│ \u001b[38;5;226m  ― (   ) ―  \u001b[0m \u001b[1m←\u001b[0m \u001b[38;5;214m23\u001b[0m-\u001b[38;5;202m28\u001b[0m km/h\u001b[0m   │ \u001b[38;5;226m  ― (   ) ―  \u001b[0m \u001b[1m↙\u001b[0m \u001b[38;5;220m18\u001b[0m-\u001b[38;5;214m21\u001b[0m km/h\u001b[0m   │ \u001b[38;5;226m  ― (   ) ―  \u001b[0m \u001b[1m←\u001b[0m \u001b[38;5;190m10\u001b[0m-\u001b[38;5;214m20\u001b[0m km/h\u001b[0m   │ \u001b[38;5;226m  ― (   ) ―  \u001b[0m \u001b[1m←\u001b[0m \u001b[38;5;226m15\u001b[0m-\u001b[38;5;202m31\u001b[0m km/h\u001b[0m   │\n│ \u001b[38;5;226m     `-’     \u001b[0m 10 km\u001b[0m          │ \u001b[38;5;226m     `-’     \u001b[0m 10 km\u001b[0m          │ \u001b[38;5;226m     `-’     \u001b[0m 10 km\u001b[0m          │ \u001b[38;5;226m     `-’     \u001b[0m 10 km\u001b[0m          │\n│ \u001b[38;5;226m    /   \\    \u001b[0m 0.0 mm | 0%\u001b[0m    │ \u001b[38;5;226m    /   \\    \u001b[0m 0.0 mm | 0%\u001b[0m    │ \u001b[38;5;226m    /   \\    \u001b[0m 0.0 mm | 0%\u001b[0m    │ \u001b[38;5;226m    /   \\    \u001b[0m 0.0 mm | 0%\u001b[0m    │\n└──────────────────────────────┴──────────────────────────────┴──────────────────────────────┴──────────────────────────────┘\n                                                       ┌─────────────┐                                                       \n┌──────────────────────────────┬───────────────────────┤  Thu 08 May ├───────────────────────┬──────────────────────────────┐\n│            Morning           │             Noon      └──────┬──────┘     Evening           │             Night            │\n├──────────────────────────────┼──────────────────────────────┼──────────────────────────────┼──────────────────────────────┤\n│ \u001b[38;5;226m    \\   /    \u001b[0m Sunny          │ \u001b[38;5;226m    \\   /    \u001b[0m Sunny          │ \u001b[38;5;226m    \\   /    \u001b[0m Clear          │ \u001b[38;5;226m    \\   /    \u001b[0m Clear          │\n│ \u001b[38;5;226m     .-.     \u001b[0m \u001b[38;5;226m22\u001b[0m °C\u001b[0m          │ \u001b[38;5;226m     .-.     \u001b[0m \u001b[38;5;214m+28\u001b[0m(\u001b[38;5;220m27\u001b[0m) °C\u001b[0m     │ \u001b[38;5;226m     .-.     \u001b[0m \u001b[38;5;220m25\u001b[0m °C\u001b[0m          │ \u001b[38;5;226m     .-.     \u001b[0m \u001b[38;5;226m+23\u001b[0m(\u001b[38;5;226m24\u001b[0m) °C\u001b[0m     │\n│ \u001b[38;5;226m  ― (   ) ―  \u001b[0m \u001b[1m↙\u001b[0m \u001b[38;5;214m21\u001b[0m-\u001b[38;5;202m28\u001b[0m km/h\u001b[0m   │ \u001b[38;5;226m  ― (   ) ―  \u001b[0m \u001b[1m↓\u001b[0m \u001b[38;5;220m16\u001b[0m-\u001b[38;5;214m23\u001b[0m km/h\u001b[0m   │ \u001b[38;5;226m  ― (   ) ―  \u001b[0m \u001b[1m↖\u001b[0m \u001b[38;5;118m5\u001b[0m-\u001b[38;5;190m10\u001b[0m km/h\u001b[0m    │ \u001b[38;5;226m  ― (   ) ―  \u001b[0m \u001b[1m↙\u001b[0m \u001b[38;5;190m10\u001b[0m-\u001b[38;5;214m22\u001b[0m km/h\u001b[0m   │\n│ \u001b[38;5;226m     `-’     \u001b[0m 10 km\u001b[0m          │ \u001b[38;5;226m     `-’     \u001b[0m 10 km\u001b[0m          │ \u001b[38;5;226m     `-’     \u001b[0m 10 km\u001b[0m          │ \u001b[38;5;226m     `-’     \u001b[0m 10 km\u001b[0m          │\n│ \u001b[38;5;226m    /   \\    \u001b[0m 0.0 mm | 0%\u001b[0m    │ \u001b[38;5;226m    /   \\    \u001b[0m 0.0 mm | 0%\u001b[0m    │ \u001b[38;5;226m    /   \\    \u001b[0m 0.0 mm | 0%\u001b[0m    │ \u001b[38;5;226m    /   \\    \u001b[0m 0.0 mm | 0%\u001b[0m    │\n└──────────────────────────────┴──────────────────────────────┴──────────────────────────────┴──────────────────────────────┘\n                                                       ┌─────────────┐                                                       \n┌──────────────────────────────┬───────────────────────┤  Fri 09 May ├───────────────────────┬──────────────────────────────┐\n│            Morning           │             Noon      └──────┬──────┘     Evening           │             Night            │\n├──────────────────────────────┼──────────────────────────────┼──────────────────────────────┼──────────────────────────────┤\n│ \u001b[38;5;226m    \\   /    \u001b[0m Sunny          │ \u001b[38;5;226m    \\   /    \u001b[0m Sunny          │ \u001b[38;5;226m    \\   /    \u001b[0m Clear          │ \u001b[38;5;226m    \\   /    \u001b[0m Clear          │\n│ \u001b[38;5;226m     .-.     \u001b[0m \u001b[38;5;226m+24\u001b[0m(\u001b[38;5;220m25\u001b[0m) °C\u001b[0m     │ \u001b[38;5;226m     .-.     \u001b[0m \u001b[38;5;214m+29\u001b[0m(\u001b[38;5;214m28\u001b[0m) °C\u001b[0m     │ \u001b[38;5;226m     .-.     \u001b[0m \u001b[38;5;226m+23\u001b[0m(\u001b[38;5;220m25\u001b[0m) °C\u001b[0m     │ \u001b[38;5;226m     .-.     \u001b[0m \u001b[38;5;226m22\u001b[0m °C\u001b[0m          │\n│ \u001b[38;5;226m  ― (   ) ―  \u001b[0m \u001b[1m↓\u001b[0m \u001b[38;5;220m19\u001b[0m-\u001b[38;5;208m27\u001b[0m km/h\u001b[0m   │ \u001b[38;5;226m  ― (   ) ―  \u001b[0m \u001b[1m↘\u001b[0m \u001b[38;5;226m13\u001b[0m-\u001b[38;5;214m21\u001b[0m km/h\u001b[0m   │ \u001b[38;5;226m  ― (   ) ―  \u001b[0m \u001b[1m↗\u001b[0m \u001b[38;5;118m5\u001b[0m-\u001b[38;5;154m8\u001b[0m km/h\u001b[0m     │ \u001b[38;5;226m  ― (   ) ―  \u001b[0m \u001b[1m↓\u001b[0m \u001b[38;5;082m1\u001b[0m km/h\u001b[0m       │\n│ \u001b[38;5;226m     `-’     \u001b[0m 10 km\u001b[0m          │ \u001b[38;5;226m     `-’     \u001b[0m 10 km\u001b[0m          │ \u001b[38;5;226m     `-’     \u001b[0m 10 km\u001b[0m          │ \u001b[38;5;226m     `-’     \u001b[0m 10 km\u001b[0m          │\n│ \u001b[38;5;226m    /   \\    \u001b[0m 0.0 mm | 0%\u001b[0m    │ \u001b[38;5;226m    /   \\    \u001b[0m 0.0 mm | 0%\u001b[0m    │ \u001b[38;5;226m    /   \\    \u001b[0m 0.0 mm | 0%\u001b[0m    │ \u001b[38;5;226m    /   \\    \u001b[0m 0.0 mm | 0%\u001b[0m    │\n└──────────────────────────────┴──────────────────────────────┴──────────────────────────────┴──────────────────────────────┘\nLocation: Perth, Western Australia, Australia [-31.952712,115.8604796]\n\nFollow \u001b[46m\u001b[30m@igor_chubin\u001b[0m for wttr.in updates\n\n\nWeather for Paris:\nWeather report: Paris\n\n  \u001b[38;5;226m _`/\"\"\u001b[38;5;250m.-.    \u001b[0m Patchy rain nearby\n  \u001b[38;5;226m  ,\\_\u001b[38;5;250m(   ).  \u001b[0m \u001b[38;5;046m+9\u001b[0m(\u001b[38;5;047m7\u001b[0m) °C\u001b[0m       \n  \u001b[38;5;226m   /\u001b[38;5;250m(___(__) \u001b[0m \u001b[1m↓\u001b[0m \u001b[38;5;220m16\u001b[0m km/h\u001b[0m      \n  \u001b[38;5;111m     ‘ ‘ ‘ ‘ \u001b[0m 10 km\u001b[0m          \n  \u001b[38;5;111m    ‘ ‘ ‘ ‘  \u001b[0m 0.0 mm\u001b[0m         \n                                                       ┌─────────────┐                                                       \n┌──────────────────────────────┬───────────────────────┤  Wed 07 May ├───────────────────────┬──────────────────────────────┐\n│            Morning           │             Noon      └──────┬──────┘     Evening           │             Night            │\n├──────────────────────────────┼──────────────────────────────┼──────────────────────────────┼──────────────────────────────┤\n│               Cloudy         │ \u001b[38;5;226m   \\  /\u001b[0m       Partly Cloudy  │               Cloudy         │ \u001b[38;5;226m   \\  /\u001b[0m       Partly Cloudy  │\n│ \u001b[38;5;250m     .--.    \u001b[0m \u001b[38;5;082m+12\u001b[0m(\u001b[38;5;082m10\u001b[0m) °C\u001b[0m     │ \u001b[38;5;226m _ /\"\"\u001b[38;5;250m.-.    \u001b[0m \u001b[38;5;118m15\u001b[0m °C\u001b[0m          │ \u001b[38;5;250m     .--.    \u001b[0m \u001b[38;5;154m17\u001b[0m °C\u001b[0m          │ \u001b[38;5;226m _ /\"\"\u001b[38;5;250m.-.    \u001b[0m \u001b[38;5;082m+12\u001b[0m(\u001b[38;5;082m10\u001b[0m) °C\u001b[0m     │\n│ \u001b[38;5;250m  .-(    ).  \u001b[0m \u001b[1m↓\u001b[0m \u001b[38;5;220m18\u001b[0m-\u001b[38;5;214m20\u001b[0m km/h\u001b[0m   │ \u001b[38;5;226m   \\_\u001b[38;5;250m(   ).  \u001b[0m \u001b[1m↓\u001b[0m \u001b[38;5;220m17\u001b[0m-\u001b[38;5;214m20\u001b[0m km/h\u001b[0m   │ \u001b[38;5;250m  .-(    ).  \u001b[0m \u001b[1m↙\u001b[0m \u001b[38;5;220m18\u001b[0m-\u001b[38;5;214m22\u001b[0m km/h\u001b[0m   │ \u001b[38;5;226m   \\_\u001b[38;5;250m(   ).  \u001b[0m \u001b[1m↓\u001b[0m \u001b[38;5;226m13\u001b[0m-\u001b[38;5;214m21\u001b[0m km/h\u001b[0m   │\n│ \u001b[38;5;250m (___.__)__) \u001b[0m 10 km\u001b[0m          │ \u001b[38;5;226m   /\u001b[38;5;250m(___(__) \u001b[0m 10 km\u001b[0m          │ \u001b[38;5;250m (___.__)__) \u001b[0m 10 km\u001b[0m          │ \u001b[38;5;226m   /\u001b[38;5;250m(___(__) \u001b[0m 10 km\u001b[0m          │\n│               0.0 mm | 0%\u001b[0m    │               0.0 mm | 0%\u001b[0m    │               0.0 mm | 0%\u001b[0m    │               0.0 mm | 0%\u001b[0m    │\n└──────────────────────────────┴──────────────────────────────┴──────────────────────────────┴──────────────────────────────┘\n                                                       ┌─────────────┐                                                       \n┌──────────────────────────────┬───────────────────────┤  Thu 08 May ├───────────────────────┬──────────────────────────────┐\n│            Morning           │             Noon      └──────┬──────┘     Evening           │             Night            │\n├──────────────────────────────┼──────────────────────────────┼──────────────────────────────┼──────────────────────────────┤\n│ \u001b[38;5;226m   \\  /\u001b[0m       Partly Cloudy  │ \u001b[38;5;226m _`/\"\"\u001b[38;5;250m.-.    \u001b[0m Patchy rain ne…│ \u001b[38;5;226m   \\  /\u001b[0m       Partly Cloudy  │ \u001b[38;5;226m   \\  /\u001b[0m       Partly Cloudy  │\n│ \u001b[38;5;226m _ /\"\"\u001b[38;5;250m.-.    \u001b[0m \u001b[38;5;118m+13\u001b[0m(\u001b[38;5;082m12\u001b[0m) °C\u001b[0m     │ \u001b[38;5;226m  ,\\_\u001b[38;5;250m(   ).  \u001b[0m \u001b[38;5;154m17\u001b[0m °C\u001b[0m          │ \u001b[38;5;226m _ /\"\"\u001b[38;5;250m.-.    \u001b[0m \u001b[38;5;154m16\u001b[0m °C\u001b[0m          │ \u001b[38;5;226m _ /\"\"\u001b[38;5;250m.-.    \u001b[0m \u001b[38;5;118m+13\u001b[0m(\u001b[38;5;082m12\u001b[0m) °C\u001b[0m     │\n│ \u001b[38;5;226m   \\_\u001b[38;5;250m(   ).  \u001b[0m \u001b[1m↙\u001b[0m \u001b[38;5;190m12\u001b[0m-\u001b[38;5;226m14\u001b[0m km/h\u001b[0m   │ \u001b[38;5;226m   /\u001b[38;5;250m(___(__) \u001b[0m \u001b[1m↙\u001b[0m \u001b[38;5;226m15\u001b[0m-\u001b[38;5;220m17\u001b[0m km/h\u001b[0m   │ \u001b[38;5;226m   \\_\u001b[38;5;250m(   ).  \u001b[0m \u001b[1m↙\u001b[0m \u001b[38;5;220m16\u001b[0m-\u001b[38;5;214m21\u001b[0m km/h\u001b[0m   │ \u001b[38;5;226m   \\_\u001b[38;5;250m(   ).  \u001b[0m \u001b[1m↙\u001b[0m \u001b[38;5;226m14\u001b[0m-\u001b[38;5;208m24\u001b[0m km/h\u001b[0m   │\n│ \u001b[38;5;226m   /\u001b[38;5;250m(___(__) \u001b[0m 10 km\u001b[0m          │ \u001b[38;5;111m     ‘ ‘ ‘ ‘ \u001b[0m 10 km\u001b[0m          │ \u001b[38;5;226m   /\u001b[38;5;250m(___(__) \u001b[0m 10 km\u001b[0m          │ \u001b[38;5;226m   /\u001b[38;5;250m(___(__) \u001b[0m 10 km\u001b[0m          │\n│               0.0 mm | 0%\u001b[0m    │ \u001b[38;5;111m    ‘ ‘ ‘ ‘  \u001b[0m 0.1 mm | 100%\u001b[0m  │               0.0 mm | 0%\u001b[0m    │               0.0 mm | 0%\u001b[0m    │\n└──────────────────────────────┴──────────────────────────────┴──────────────────────────────┴──────────────────────────────┘\n                                                       ┌─────────────┐                                                       \n┌──────────────────────────────┬───────────────────────┤  Fri 09 May ├───────────────────────┬──────────────────────────────┐\n│            Morning           │             Noon      └──────┬──────┘     Evening           │             Night            │\n├──────────────────────────────┼──────────────────────────────┼──────────────────────────────┼──────────────────────────────┤\n│ \u001b[38;5;226m    \\   /    \u001b[0m Sunny          │ \u001b[38;5;226m   \\  /\u001b[0m       Partly Cloudy  │ \u001b[38;5;226m    \\   /    \u001b[0m Sunny          │ \u001b[38;5;226m    \\   /    \u001b[0m Sunny          │\n│ \u001b[38;5;226m     .-.     \u001b[0m \u001b[38;5;118m+13\u001b[0m(\u001b[38;5;082m12\u001b[0m) °C\u001b[0m     │ \u001b[38;5;226m _ /\"\"\u001b[38;5;250m.-.    \u001b[0m \u001b[38;5;154m18\u001b[0m °C\u001b[0m          │ \u001b[38;5;226m     .-.     \u001b[0m \u001b[38;5;154m18\u001b[0m °C\u001b[0m          │ \u001b[38;5;226m     .-.     \u001b[0m \u001b[38;5;118m+14\u001b[0m(\u001b[38;5;118m13\u001b[0m) °C\u001b[0m     │\n│ \u001b[38;5;226m  ― (   ) ―  \u001b[0m \u001b[1m↙\u001b[0m \u001b[38;5;220m17\u001b[0m-\u001b[38;5;220m19\u001b[0m km/h\u001b[0m   │ \u001b[38;5;226m   \\_\u001b[38;5;250m(   ).  \u001b[0m \u001b[1m↙\u001b[0m \u001b[38;5;214m21\u001b[0m-\u001b[38;5;208m24\u001b[0m km/h\u001b[0m   │ \u001b[38;5;226m  ― (   ) ―  \u001b[0m \u001b[1m←\u001b[0m \u001b[38;5;214m20\u001b[0m-\u001b[38;5;208m24\u001b[0m km/h\u001b[0m   │ \u001b[38;5;226m  ― (   ) ―  \u001b[0m \u001b[1m↙\u001b[0m \u001b[38;5;226m14\u001b[0m-\u001b[38;5;208m24\u001b[0m km/h\u001b[0m   │\n│ \u001b[38;5;226m     `-’     \u001b[0m 10 km\u001b[0m          │ \u001b[38;5;226m   /\u001b[38;5;250m(___(__) \u001b[0m 10 km\u001b[0m          │ \u001b[38;5;226m     `-’     \u001b[0m 10 km\u001b[0m          │ \u001b[38;5;226m     `-’     \u001b[0m 10 km\u001b[0m          │\n│ \u001b[38;5;226m    /   \\    \u001b[0m 0.0 mm | 0%\u001b[0m    │               0.0 mm | 0%\u001b[0m    │ \u001b[38;5;226m    /   \\    \u001b[0m 0.0 mm | 0%\u001b[0m    │ \u001b[38;5;226m    /   \\    \u001b[0m 0.0 mm | 0%\u001b[0m    │\n└──────────────────────────────┴──────────────────────────────┴──────────────────────────────┴──────────────────────────────┘\nLocation: Paris, Île-de-France, France métropolitaine, 75000;75001;75002;75003;75004;75005;75006;75007;75008;75009;75010;75011;75012;75013;75014;75015;75016;75017;75018;75019;75020;75116, France [48.8566101,2.3514992]\n\nFollow \u001b[46m\u001b[30m@igor_chubin\u001b[0m for wttr.in updates\n</pre>"
          }
        },
        "209cf324091340f48b0d2c5f30c897ec": {
          "model_module": "@jupyter-widgets/base",
          "model_name": "LayoutModel",
          "model_module_version": "1.2.0",
          "state": {
            "_model_module": "@jupyter-widgets/base",
            "_model_module_version": "1.2.0",
            "_model_name": "LayoutModel",
            "_view_count": null,
            "_view_module": "@jupyter-widgets/base",
            "_view_module_version": "1.2.0",
            "_view_name": "LayoutView",
            "align_content": null,
            "align_items": null,
            "align_self": null,
            "border": null,
            "bottom": null,
            "display": null,
            "flex": null,
            "flex_flow": null,
            "grid_area": null,
            "grid_auto_columns": null,
            "grid_auto_flow": null,
            "grid_auto_rows": null,
            "grid_column": null,
            "grid_gap": null,
            "grid_row": null,
            "grid_template_areas": null,
            "grid_template_columns": null,
            "grid_template_rows": null,
            "height": null,
            "justify_content": null,
            "justify_items": null,
            "left": null,
            "margin": null,
            "max_height": null,
            "max_width": null,
            "min_height": null,
            "min_width": null,
            "object_fit": null,
            "object_position": null,
            "order": null,
            "overflow": null,
            "overflow_x": null,
            "overflow_y": null,
            "padding": null,
            "right": null,
            "top": null,
            "visibility": null,
            "width": null
          }
        },
        "4f7d6ad4b2ac4e54af9078de66362786": {
          "model_module": "@jupyter-widgets/controls",
          "model_name": "DescriptionStyleModel",
          "model_module_version": "1.5.0",
          "state": {
            "_model_module": "@jupyter-widgets/controls",
            "_model_module_version": "1.5.0",
            "_model_name": "DescriptionStyleModel",
            "_view_count": null,
            "_view_module": "@jupyter-widgets/base",
            "_view_module_version": "1.2.0",
            "_view_name": "StyleView",
            "description_width": ""
          }
        },
        "a713b182f5c640f3bade22d6651853fd": {
          "model_module": "@jupyter-widgets/controls",
          "model_name": "TextModel",
          "model_module_version": "1.5.0",
          "state": {
            "_dom_classes": [],
            "_model_module": "@jupyter-widgets/controls",
            "_model_module_version": "1.5.0",
            "_model_name": "TextModel",
            "_view_count": null,
            "_view_module": "@jupyter-widgets/controls",
            "_view_module_version": "1.5.0",
            "_view_name": "TextView",
            "continuous_update": true,
            "description": "Cities:",
            "description_tooltip": null,
            "disabled": false,
            "layout": "IPY_MODEL_655df96d4e8641acb6e14598844b30e2",
            "placeholder": "Enter cities separated by commas",
            "style": "IPY_MODEL_51585d4aac1c496dad432dcf0afed8ed",
            "value": "Perth, Paris"
          }
        },
        "655df96d4e8641acb6e14598844b30e2": {
          "model_module": "@jupyter-widgets/base",
          "model_name": "LayoutModel",
          "model_module_version": "1.2.0",
          "state": {
            "_model_module": "@jupyter-widgets/base",
            "_model_module_version": "1.2.0",
            "_model_name": "LayoutModel",
            "_view_count": null,
            "_view_module": "@jupyter-widgets/base",
            "_view_module_version": "1.2.0",
            "_view_name": "LayoutView",
            "align_content": null,
            "align_items": null,
            "align_self": null,
            "border": null,
            "bottom": null,
            "display": null,
            "flex": null,
            "flex_flow": null,
            "grid_area": null,
            "grid_auto_columns": null,
            "grid_auto_flow": null,
            "grid_auto_rows": null,
            "grid_column": null,
            "grid_gap": null,
            "grid_row": null,
            "grid_template_areas": null,
            "grid_template_columns": null,
            "grid_template_rows": null,
            "height": null,
            "justify_content": null,
            "justify_items": null,
            "left": null,
            "margin": null,
            "max_height": null,
            "max_width": null,
            "min_height": null,
            "min_width": null,
            "object_fit": null,
            "object_position": null,
            "order": null,
            "overflow": null,
            "overflow_x": null,
            "overflow_y": null,
            "padding": null,
            "right": null,
            "top": null,
            "visibility": null,
            "width": null
          }
        },
        "51585d4aac1c496dad432dcf0afed8ed": {
          "model_module": "@jupyter-widgets/controls",
          "model_name": "DescriptionStyleModel",
          "model_module_version": "1.5.0",
          "state": {
            "_model_module": "@jupyter-widgets/controls",
            "_model_module_version": "1.5.0",
            "_model_name": "DescriptionStyleModel",
            "_view_count": null,
            "_view_module": "@jupyter-widgets/base",
            "_view_module_version": "1.2.0",
            "_view_name": "StyleView",
            "description_width": ""
          }
        },
        "4516bf6f01484089a39cfee524fe64e0": {
          "model_module": "@jupyter-widgets/controls",
          "model_name": "ButtonModel",
          "model_module_version": "1.5.0",
          "state": {
            "_dom_classes": [],
            "_model_module": "@jupyter-widgets/controls",
            "_model_module_version": "1.5.0",
            "_model_name": "ButtonModel",
            "_view_count": null,
            "_view_module": "@jupyter-widgets/controls",
            "_view_module_version": "1.5.0",
            "_view_name": "ButtonView",
            "button_style": "",
            "description": "Get Weather",
            "disabled": false,
            "icon": "cloud",
            "layout": "IPY_MODEL_30e1f38bf49443a89d8b2259f8c7ff88",
            "style": "IPY_MODEL_433bf30b24be4bbd85ab523dd040d296",
            "tooltip": "Click to get weather"
          }
        },
        "30e1f38bf49443a89d8b2259f8c7ff88": {
          "model_module": "@jupyter-widgets/base",
          "model_name": "LayoutModel",
          "model_module_version": "1.2.0",
          "state": {
            "_model_module": "@jupyter-widgets/base",
            "_model_module_version": "1.2.0",
            "_model_name": "LayoutModel",
            "_view_count": null,
            "_view_module": "@jupyter-widgets/base",
            "_view_module_version": "1.2.0",
            "_view_name": "LayoutView",
            "align_content": null,
            "align_items": null,
            "align_self": null,
            "border": null,
            "bottom": null,
            "display": null,
            "flex": null,
            "flex_flow": null,
            "grid_area": null,
            "grid_auto_columns": null,
            "grid_auto_flow": null,
            "grid_auto_rows": null,
            "grid_column": null,
            "grid_gap": null,
            "grid_row": null,
            "grid_template_areas": null,
            "grid_template_columns": null,
            "grid_template_rows": null,
            "height": null,
            "justify_content": null,
            "justify_items": null,
            "left": null,
            "margin": null,
            "max_height": null,
            "max_width": null,
            "min_height": null,
            "min_width": null,
            "object_fit": null,
            "object_position": null,
            "order": null,
            "overflow": null,
            "overflow_x": null,
            "overflow_y": null,
            "padding": null,
            "right": null,
            "top": null,
            "visibility": null,
            "width": null
          }
        },
        "433bf30b24be4bbd85ab523dd040d296": {
          "model_module": "@jupyter-widgets/controls",
          "model_name": "ButtonStyleModel",
          "model_module_version": "1.5.0",
          "state": {
            "_model_module": "@jupyter-widgets/controls",
            "_model_module_version": "1.5.0",
            "_model_name": "ButtonStyleModel",
            "_view_count": null,
            "_view_module": "@jupyter-widgets/base",
            "_view_module_version": "1.2.0",
            "_view_name": "StyleView",
            "button_color": null,
            "font_weight": ""
          }
        },
        "adfc1831c6634eeea661db4d74b3d45d": {
          "model_module": "@jupyter-widgets/output",
          "model_name": "OutputModel",
          "model_module_version": "1.0.0",
          "state": {
            "_dom_classes": [],
            "_model_module": "@jupyter-widgets/output",
            "_model_module_version": "1.0.0",
            "_model_name": "OutputModel",
            "_view_count": null,
            "_view_module": "@jupyter-widgets/output",
            "_view_module_version": "1.0.0",
            "_view_name": "OutputView",
            "layout": "IPY_MODEL_a4fd42038e5244ecb44be36cead10e73",
            "msg_id": "",
            "outputs": [
              {
                "output_type": "display_data",
                "data": {
                  "text/plain": "HTML(value='<pre>Weather for Perth:\\nWeather report: Perth\\n\\n  \\x1b[38;5;226m    \\\\   /    \\x1b[0m Sunny\\n  \\…",
                  "application/vnd.jupyter.widget-view+json": {
                    "version_major": 2,
                    "version_minor": 0,
                    "model_id": "61d6ab106dfc4bb3b9e77581123d39d1"
                  }
                },
                "metadata": {}
              }
            ]
          }
        },
        "a4fd42038e5244ecb44be36cead10e73": {
          "model_module": "@jupyter-widgets/base",
          "model_name": "LayoutModel",
          "model_module_version": "1.2.0",
          "state": {
            "_model_module": "@jupyter-widgets/base",
            "_model_module_version": "1.2.0",
            "_model_name": "LayoutModel",
            "_view_count": null,
            "_view_module": "@jupyter-widgets/base",
            "_view_module_version": "1.2.0",
            "_view_name": "LayoutView",
            "align_content": null,
            "align_items": null,
            "align_self": null,
            "border": null,
            "bottom": null,
            "display": null,
            "flex": null,
            "flex_flow": null,
            "grid_area": null,
            "grid_auto_columns": null,
            "grid_auto_flow": null,
            "grid_auto_rows": null,
            "grid_column": null,
            "grid_gap": null,
            "grid_row": null,
            "grid_template_areas": null,
            "grid_template_columns": null,
            "grid_template_rows": null,
            "height": null,
            "justify_content": null,
            "justify_items": null,
            "left": null,
            "margin": null,
            "max_height": null,
            "max_width": null,
            "min_height": null,
            "min_width": null,
            "object_fit": null,
            "object_position": null,
            "order": null,
            "overflow": null,
            "overflow_x": null,
            "overflow_y": null,
            "padding": null,
            "right": null,
            "top": null,
            "visibility": null,
            "width": null
          }
        },
        "61d6ab106dfc4bb3b9e77581123d39d1": {
          "model_module": "@jupyter-widgets/controls",
          "model_name": "HTMLModel",
          "model_module_version": "1.5.0",
          "state": {
            "_dom_classes": [],
            "_model_module": "@jupyter-widgets/controls",
            "_model_module_version": "1.5.0",
            "_model_name": "HTMLModel",
            "_view_count": null,
            "_view_module": "@jupyter-widgets/controls",
            "_view_module_version": "1.5.0",
            "_view_name": "HTMLView",
            "description": "",
            "description_tooltip": null,
            "layout": "IPY_MODEL_50a65f44f4e6405ca16cc44d0b604f4f",
            "placeholder": "​",
            "style": "IPY_MODEL_f2b7b8ae6381499c957e6b0e2dc5d1cd",
            "value": "<pre>Weather for Perth:\nWeather report: Perth\n\n  \u001b[38;5;226m    \\   /    \u001b[0m Sunny\n  \u001b[38;5;226m     .-.     \u001b[0m \u001b[38;5;226m+23\u001b[0m(\u001b[38;5;226m24\u001b[0m) °C\u001b[0m     \n  \u001b[38;5;226m  ― (   ) ―  \u001b[0m \u001b[1m↙\u001b[0m \u001b[38;5;226m15\u001b[0m km/h\u001b[0m      \n  \u001b[38;5;226m     `-’     \u001b[0m 10 km\u001b[0m          \n  \u001b[38;5;226m    /   \\    \u001b[0m 0.0 mm\u001b[0m         \n\n\nWeather for Paris:\nWeather report: Paris\n\n  \u001b[38;5;226m _`/\"\"\u001b[38;5;250m.-.    \u001b[0m Patchy rain nearby\n  \u001b[38;5;226m  ,\\_\u001b[38;5;250m(   ).  \u001b[0m \u001b[38;5;046m+9\u001b[0m(\u001b[38;5;047m7\u001b[0m) °C\u001b[0m       \n  \u001b[38;5;226m   /\u001b[38;5;250m(___(__) \u001b[0m \u001b[1m↓\u001b[0m \u001b[38;5;220m16\u001b[0m km/h\u001b[0m      \n  \u001b[38;5;111m     ‘ ‘ ‘ ‘ \u001b[0m 10 km\u001b[0m          \n  \u001b[38;5;111m    ‘ ‘ ‘ ‘  \u001b[0m 0.0 mm\u001b[0m         \n</pre>"
          }
        },
        "50a65f44f4e6405ca16cc44d0b604f4f": {
          "model_module": "@jupyter-widgets/base",
          "model_name": "LayoutModel",
          "model_module_version": "1.2.0",
          "state": {
            "_model_module": "@jupyter-widgets/base",
            "_model_module_version": "1.2.0",
            "_model_name": "LayoutModel",
            "_view_count": null,
            "_view_module": "@jupyter-widgets/base",
            "_view_module_version": "1.2.0",
            "_view_name": "LayoutView",
            "align_content": null,
            "align_items": null,
            "align_self": null,
            "border": null,
            "bottom": null,
            "display": null,
            "flex": null,
            "flex_flow": null,
            "grid_area": null,
            "grid_auto_columns": null,
            "grid_auto_flow": null,
            "grid_auto_rows": null,
            "grid_column": null,
            "grid_gap": null,
            "grid_row": null,
            "grid_template_areas": null,
            "grid_template_columns": null,
            "grid_template_rows": null,
            "height": null,
            "justify_content": null,
            "justify_items": null,
            "left": null,
            "margin": null,
            "max_height": null,
            "max_width": null,
            "min_height": null,
            "min_width": null,
            "object_fit": null,
            "object_position": null,
            "order": null,
            "overflow": null,
            "overflow_x": null,
            "overflow_y": null,
            "padding": null,
            "right": null,
            "top": null,
            "visibility": null,
            "width": null
          }
        },
        "f2b7b8ae6381499c957e6b0e2dc5d1cd": {
          "model_module": "@jupyter-widgets/controls",
          "model_name": "DescriptionStyleModel",
          "model_module_version": "1.5.0",
          "state": {
            "_model_module": "@jupyter-widgets/controls",
            "_model_module_version": "1.5.0",
            "_model_name": "DescriptionStyleModel",
            "_view_count": null,
            "_view_module": "@jupyter-widgets/base",
            "_view_module_version": "1.2.0",
            "_view_name": "StyleView",
            "description_width": ""
          }
        },
        "8b4ab2e366c04df7ac7dbf9b6c73adb1": {
          "model_module": "@jupyter-widgets/controls",
          "model_name": "TextModel",
          "model_module_version": "1.5.0",
          "state": {
            "_dom_classes": [],
            "_model_module": "@jupyter-widgets/controls",
            "_model_module_version": "1.5.0",
            "_model_name": "TextModel",
            "_view_count": null,
            "_view_module": "@jupyter-widgets/controls",
            "_view_module_version": "1.5.0",
            "_view_name": "TextView",
            "continuous_update": true,
            "description": "Cities:",
            "description_tooltip": null,
            "disabled": false,
            "layout": "IPY_MODEL_bd786eb76ffb4c55b1f5dcdc49f10689",
            "placeholder": "Enter cities separated by commas",
            "style": "IPY_MODEL_3453d33d3a1a4e2ea1eaba2237147afe",
            "value": "Paris, Perth"
          }
        },
        "bd786eb76ffb4c55b1f5dcdc49f10689": {
          "model_module": "@jupyter-widgets/base",
          "model_name": "LayoutModel",
          "model_module_version": "1.2.0",
          "state": {
            "_model_module": "@jupyter-widgets/base",
            "_model_module_version": "1.2.0",
            "_model_name": "LayoutModel",
            "_view_count": null,
            "_view_module": "@jupyter-widgets/base",
            "_view_module_version": "1.2.0",
            "_view_name": "LayoutView",
            "align_content": null,
            "align_items": null,
            "align_self": null,
            "border": null,
            "bottom": null,
            "display": null,
            "flex": null,
            "flex_flow": null,
            "grid_area": null,
            "grid_auto_columns": null,
            "grid_auto_flow": null,
            "grid_auto_rows": null,
            "grid_column": null,
            "grid_gap": null,
            "grid_row": null,
            "grid_template_areas": null,
            "grid_template_columns": null,
            "grid_template_rows": null,
            "height": null,
            "justify_content": null,
            "justify_items": null,
            "left": null,
            "margin": null,
            "max_height": null,
            "max_width": null,
            "min_height": null,
            "min_width": null,
            "object_fit": null,
            "object_position": null,
            "order": null,
            "overflow": null,
            "overflow_x": null,
            "overflow_y": null,
            "padding": null,
            "right": null,
            "top": null,
            "visibility": null,
            "width": null
          }
        },
        "3453d33d3a1a4e2ea1eaba2237147afe": {
          "model_module": "@jupyter-widgets/controls",
          "model_name": "DescriptionStyleModel",
          "model_module_version": "1.5.0",
          "state": {
            "_model_module": "@jupyter-widgets/controls",
            "_model_module_version": "1.5.0",
            "_model_name": "DescriptionStyleModel",
            "_view_count": null,
            "_view_module": "@jupyter-widgets/base",
            "_view_module_version": "1.2.0",
            "_view_name": "StyleView",
            "description_width": ""
          }
        },
        "b33cdb39c91141bd88432f0c1eedd112": {
          "model_module": "@jupyter-widgets/controls",
          "model_name": "ButtonModel",
          "model_module_version": "1.5.0",
          "state": {
            "_dom_classes": [],
            "_model_module": "@jupyter-widgets/controls",
            "_model_module_version": "1.5.0",
            "_model_name": "ButtonModel",
            "_view_count": null,
            "_view_module": "@jupyter-widgets/controls",
            "_view_module_version": "1.5.0",
            "_view_name": "ButtonView",
            "button_style": "",
            "description": "Get Weather",
            "disabled": false,
            "icon": "cloud",
            "layout": "IPY_MODEL_9355c1142e4e443595d85c35e3257dc5",
            "style": "IPY_MODEL_91cc91ce1fb34241845ac49ca9b7a28d",
            "tooltip": "Click to get weather"
          }
        },
        "9355c1142e4e443595d85c35e3257dc5": {
          "model_module": "@jupyter-widgets/base",
          "model_name": "LayoutModel",
          "model_module_version": "1.2.0",
          "state": {
            "_model_module": "@jupyter-widgets/base",
            "_model_module_version": "1.2.0",
            "_model_name": "LayoutModel",
            "_view_count": null,
            "_view_module": "@jupyter-widgets/base",
            "_view_module_version": "1.2.0",
            "_view_name": "LayoutView",
            "align_content": null,
            "align_items": null,
            "align_self": null,
            "border": null,
            "bottom": null,
            "display": null,
            "flex": null,
            "flex_flow": null,
            "grid_area": null,
            "grid_auto_columns": null,
            "grid_auto_flow": null,
            "grid_auto_rows": null,
            "grid_column": null,
            "grid_gap": null,
            "grid_row": null,
            "grid_template_areas": null,
            "grid_template_columns": null,
            "grid_template_rows": null,
            "height": null,
            "justify_content": null,
            "justify_items": null,
            "left": null,
            "margin": null,
            "max_height": null,
            "max_width": null,
            "min_height": null,
            "min_width": null,
            "object_fit": null,
            "object_position": null,
            "order": null,
            "overflow": null,
            "overflow_x": null,
            "overflow_y": null,
            "padding": null,
            "right": null,
            "top": null,
            "visibility": null,
            "width": null
          }
        },
        "91cc91ce1fb34241845ac49ca9b7a28d": {
          "model_module": "@jupyter-widgets/controls",
          "model_name": "ButtonStyleModel",
          "model_module_version": "1.5.0",
          "state": {
            "_model_module": "@jupyter-widgets/controls",
            "_model_module_version": "1.5.0",
            "_model_name": "ButtonStyleModel",
            "_view_count": null,
            "_view_module": "@jupyter-widgets/base",
            "_view_module_version": "1.2.0",
            "_view_name": "StyleView",
            "button_color": null,
            "font_weight": ""
          }
        },
        "bd30871270204ea0b6009dbfb09e1a65": {
          "model_module": "@jupyter-widgets/output",
          "model_name": "OutputModel",
          "model_module_version": "1.0.0",
          "state": {
            "_dom_classes": [],
            "_model_module": "@jupyter-widgets/output",
            "_model_module_version": "1.0.0",
            "_model_name": "OutputModel",
            "_view_count": null,
            "_view_module": "@jupyter-widgets/output",
            "_view_module_version": "1.0.0",
            "_view_name": "OutputView",
            "layout": "IPY_MODEL_c7f0b57d04ed4f2a8a37ee53e72f666f",
            "msg_id": "",
            "outputs": [
              {
                "output_type": "display_data",
                "data": {
                  "text/plain": "HTML(value='<pre>Weather for Paris:\\nWeather report: Paris\\n\\n   _`/\"\".-.     Patchy rain nearby\\n    ,\\\\_(   …",
                  "application/vnd.jupyter.widget-view+json": {
                    "version_major": 2,
                    "version_minor": 0,
                    "model_id": "3262b3ad647e498d9bb722ab3aa8f204"
                  }
                },
                "metadata": {}
              }
            ]
          }
        },
        "c7f0b57d04ed4f2a8a37ee53e72f666f": {
          "model_module": "@jupyter-widgets/base",
          "model_name": "LayoutModel",
          "model_module_version": "1.2.0",
          "state": {
            "_model_module": "@jupyter-widgets/base",
            "_model_module_version": "1.2.0",
            "_model_name": "LayoutModel",
            "_view_count": null,
            "_view_module": "@jupyter-widgets/base",
            "_view_module_version": "1.2.0",
            "_view_name": "LayoutView",
            "align_content": null,
            "align_items": null,
            "align_self": null,
            "border": null,
            "bottom": null,
            "display": null,
            "flex": null,
            "flex_flow": null,
            "grid_area": null,
            "grid_auto_columns": null,
            "grid_auto_flow": null,
            "grid_auto_rows": null,
            "grid_column": null,
            "grid_gap": null,
            "grid_row": null,
            "grid_template_areas": null,
            "grid_template_columns": null,
            "grid_template_rows": null,
            "height": null,
            "justify_content": null,
            "justify_items": null,
            "left": null,
            "margin": null,
            "max_height": null,
            "max_width": null,
            "min_height": null,
            "min_width": null,
            "object_fit": null,
            "object_position": null,
            "order": null,
            "overflow": null,
            "overflow_x": null,
            "overflow_y": null,
            "padding": null,
            "right": null,
            "top": null,
            "visibility": null,
            "width": null
          }
        },
        "495b5fd5ee7647c8bffd641a87170e0b": {
          "model_module": "@jupyter-widgets/controls",
          "model_name": "HTMLModel",
          "model_module_version": "1.5.0",
          "state": {
            "_dom_classes": [],
            "_model_module": "@jupyter-widgets/controls",
            "_model_module_version": "1.5.0",
            "_model_name": "HTMLModel",
            "_view_count": null,
            "_view_module": "@jupyter-widgets/controls",
            "_view_module_version": "1.5.0",
            "_view_name": "HTMLView",
            "description": "",
            "description_tooltip": null,
            "layout": "IPY_MODEL_0cabe81ca3cd4590b676202d9592d7cf",
            "placeholder": "​",
            "style": "IPY_MODEL_51bbe1b59a5c463b94e4746ca3423fd6",
            "value": "<pre>Weather for Paris Perth:\nWeather report: Paris Perth\n\n     \\  /       Partly cloudy\n   _ /\"\".-.     +10(8) °C      \n     \\_(   ).   ↓ 17 km/h      \n     /(___(__)  10 km          \n                0.0 mm         \n</pre>"
          }
        },
        "0cabe81ca3cd4590b676202d9592d7cf": {
          "model_module": "@jupyter-widgets/base",
          "model_name": "LayoutModel",
          "model_module_version": "1.2.0",
          "state": {
            "_model_module": "@jupyter-widgets/base",
            "_model_module_version": "1.2.0",
            "_model_name": "LayoutModel",
            "_view_count": null,
            "_view_module": "@jupyter-widgets/base",
            "_view_module_version": "1.2.0",
            "_view_name": "LayoutView",
            "align_content": null,
            "align_items": null,
            "align_self": null,
            "border": null,
            "bottom": null,
            "display": null,
            "flex": null,
            "flex_flow": null,
            "grid_area": null,
            "grid_auto_columns": null,
            "grid_auto_flow": null,
            "grid_auto_rows": null,
            "grid_column": null,
            "grid_gap": null,
            "grid_row": null,
            "grid_template_areas": null,
            "grid_template_columns": null,
            "grid_template_rows": null,
            "height": null,
            "justify_content": null,
            "justify_items": null,
            "left": null,
            "margin": null,
            "max_height": null,
            "max_width": null,
            "min_height": null,
            "min_width": null,
            "object_fit": null,
            "object_position": null,
            "order": null,
            "overflow": null,
            "overflow_x": null,
            "overflow_y": null,
            "padding": null,
            "right": null,
            "top": null,
            "visibility": null,
            "width": null
          }
        },
        "51bbe1b59a5c463b94e4746ca3423fd6": {
          "model_module": "@jupyter-widgets/controls",
          "model_name": "DescriptionStyleModel",
          "model_module_version": "1.5.0",
          "state": {
            "_model_module": "@jupyter-widgets/controls",
            "_model_module_version": "1.5.0",
            "_model_name": "DescriptionStyleModel",
            "_view_count": null,
            "_view_module": "@jupyter-widgets/base",
            "_view_module_version": "1.2.0",
            "_view_name": "StyleView",
            "description_width": ""
          }
        },
        "3262b3ad647e498d9bb722ab3aa8f204": {
          "model_module": "@jupyter-widgets/controls",
          "model_name": "HTMLModel",
          "model_module_version": "1.5.0",
          "state": {
            "_dom_classes": [],
            "_model_module": "@jupyter-widgets/controls",
            "_model_module_version": "1.5.0",
            "_model_name": "HTMLModel",
            "_view_count": null,
            "_view_module": "@jupyter-widgets/controls",
            "_view_module_version": "1.5.0",
            "_view_name": "HTMLView",
            "description": "",
            "description_tooltip": null,
            "layout": "IPY_MODEL_fe7602b7b4e44c2484f8ff69e2ea4fda",
            "placeholder": "​",
            "style": "IPY_MODEL_400ffe4cbcf24739b9ee29cf56cd65d7",
            "value": "<pre>Weather for Paris:\nWeather report: Paris\n\n   _`/\"\".-.     Patchy rain nearby\n    ,\\_(   ).   +9(7) °C       \n     /(___(__)  ↓ 16 km/h      \n       ‘ ‘ ‘ ‘  10 km          \n      ‘ ‘ ‘ ‘   0.0 mm         \n\n\nWeather for Perth:\nWeather report: Perth\n\n      \\   /     Sunny\n       .-.      +23(24) °C     \n    ― (   ) ―   ↙ 15 km/h      \n       `-’      10 km          \n      /   \\     0.0 mm         \n</pre>"
          }
        },
        "fe7602b7b4e44c2484f8ff69e2ea4fda": {
          "model_module": "@jupyter-widgets/base",
          "model_name": "LayoutModel",
          "model_module_version": "1.2.0",
          "state": {
            "_model_module": "@jupyter-widgets/base",
            "_model_module_version": "1.2.0",
            "_model_name": "LayoutModel",
            "_view_count": null,
            "_view_module": "@jupyter-widgets/base",
            "_view_module_version": "1.2.0",
            "_view_name": "LayoutView",
            "align_content": null,
            "align_items": null,
            "align_self": null,
            "border": null,
            "bottom": null,
            "display": null,
            "flex": null,
            "flex_flow": null,
            "grid_area": null,
            "grid_auto_columns": null,
            "grid_auto_flow": null,
            "grid_auto_rows": null,
            "grid_column": null,
            "grid_gap": null,
            "grid_row": null,
            "grid_template_areas": null,
            "grid_template_columns": null,
            "grid_template_rows": null,
            "height": null,
            "justify_content": null,
            "justify_items": null,
            "left": null,
            "margin": null,
            "max_height": null,
            "max_width": null,
            "min_height": null,
            "min_width": null,
            "object_fit": null,
            "object_position": null,
            "order": null,
            "overflow": null,
            "overflow_x": null,
            "overflow_y": null,
            "padding": null,
            "right": null,
            "top": null,
            "visibility": null,
            "width": null
          }
        },
        "400ffe4cbcf24739b9ee29cf56cd65d7": {
          "model_module": "@jupyter-widgets/controls",
          "model_name": "DescriptionStyleModel",
          "model_module_version": "1.5.0",
          "state": {
            "_model_module": "@jupyter-widgets/controls",
            "_model_module_version": "1.5.0",
            "_model_name": "DescriptionStyleModel",
            "_view_count": null,
            "_view_module": "@jupyter-widgets/base",
            "_view_module_version": "1.2.0",
            "_view_name": "StyleView",
            "description_width": ""
          }
        },
        "67f19323c54245818d809971e2351c3b": {
          "model_module": "@jupyter-widgets/controls",
          "model_name": "TextModel",
          "model_module_version": "1.5.0",
          "state": {
            "_dom_classes": [],
            "_model_module": "@jupyter-widgets/controls",
            "_model_module_version": "1.5.0",
            "_model_name": "TextModel",
            "_view_count": null,
            "_view_module": "@jupyter-widgets/controls",
            "_view_module_version": "1.5.0",
            "_view_name": "TextView",
            "continuous_update": true,
            "description": "Cities:",
            "description_tooltip": null,
            "disabled": false,
            "layout": "IPY_MODEL_6e84388db0574da68dd3569fc4c03612",
            "placeholder": "Enter cities separated by commas",
            "style": "IPY_MODEL_9074db9bbd284d3b9bcb47c268c97b36",
            "value": ""
          }
        },
        "6e84388db0574da68dd3569fc4c03612": {
          "model_module": "@jupyter-widgets/base",
          "model_name": "LayoutModel",
          "model_module_version": "1.2.0",
          "state": {
            "_model_module": "@jupyter-widgets/base",
            "_model_module_version": "1.2.0",
            "_model_name": "LayoutModel",
            "_view_count": null,
            "_view_module": "@jupyter-widgets/base",
            "_view_module_version": "1.2.0",
            "_view_name": "LayoutView",
            "align_content": null,
            "align_items": null,
            "align_self": null,
            "border": null,
            "bottom": null,
            "display": null,
            "flex": null,
            "flex_flow": null,
            "grid_area": null,
            "grid_auto_columns": null,
            "grid_auto_flow": null,
            "grid_auto_rows": null,
            "grid_column": null,
            "grid_gap": null,
            "grid_row": null,
            "grid_template_areas": null,
            "grid_template_columns": null,
            "grid_template_rows": null,
            "height": null,
            "justify_content": null,
            "justify_items": null,
            "left": null,
            "margin": null,
            "max_height": null,
            "max_width": null,
            "min_height": null,
            "min_width": null,
            "object_fit": null,
            "object_position": null,
            "order": null,
            "overflow": null,
            "overflow_x": null,
            "overflow_y": null,
            "padding": null,
            "right": null,
            "top": null,
            "visibility": null,
            "width": null
          }
        },
        "9074db9bbd284d3b9bcb47c268c97b36": {
          "model_module": "@jupyter-widgets/controls",
          "model_name": "DescriptionStyleModel",
          "model_module_version": "1.5.0",
          "state": {
            "_model_module": "@jupyter-widgets/controls",
            "_model_module_version": "1.5.0",
            "_model_name": "DescriptionStyleModel",
            "_view_count": null,
            "_view_module": "@jupyter-widgets/base",
            "_view_module_version": "1.2.0",
            "_view_name": "StyleView",
            "description_width": ""
          }
        },
        "391144fe4e7c478eb03cd7093388c86d": {
          "model_module": "@jupyter-widgets/controls",
          "model_name": "ButtonModel",
          "model_module_version": "1.5.0",
          "state": {
            "_dom_classes": [],
            "_model_module": "@jupyter-widgets/controls",
            "_model_module_version": "1.5.0",
            "_model_name": "ButtonModel",
            "_view_count": null,
            "_view_module": "@jupyter-widgets/controls",
            "_view_module_version": "1.5.0",
            "_view_name": "ButtonView",
            "button_style": "",
            "description": "Get Weather",
            "disabled": false,
            "icon": "cloud",
            "layout": "IPY_MODEL_b631bdd6cb0449fa96a11c8c42aed390",
            "style": "IPY_MODEL_6ea41e5da199442299928c532f409739",
            "tooltip": "Click to get weather"
          }
        },
        "b631bdd6cb0449fa96a11c8c42aed390": {
          "model_module": "@jupyter-widgets/base",
          "model_name": "LayoutModel",
          "model_module_version": "1.2.0",
          "state": {
            "_model_module": "@jupyter-widgets/base",
            "_model_module_version": "1.2.0",
            "_model_name": "LayoutModel",
            "_view_count": null,
            "_view_module": "@jupyter-widgets/base",
            "_view_module_version": "1.2.0",
            "_view_name": "LayoutView",
            "align_content": null,
            "align_items": null,
            "align_self": null,
            "border": null,
            "bottom": null,
            "display": null,
            "flex": null,
            "flex_flow": null,
            "grid_area": null,
            "grid_auto_columns": null,
            "grid_auto_flow": null,
            "grid_auto_rows": null,
            "grid_column": null,
            "grid_gap": null,
            "grid_row": null,
            "grid_template_areas": null,
            "grid_template_columns": null,
            "grid_template_rows": null,
            "height": null,
            "justify_content": null,
            "justify_items": null,
            "left": null,
            "margin": null,
            "max_height": null,
            "max_width": null,
            "min_height": null,
            "min_width": null,
            "object_fit": null,
            "object_position": null,
            "order": null,
            "overflow": null,
            "overflow_x": null,
            "overflow_y": null,
            "padding": null,
            "right": null,
            "top": null,
            "visibility": null,
            "width": null
          }
        },
        "6ea41e5da199442299928c532f409739": {
          "model_module": "@jupyter-widgets/controls",
          "model_name": "ButtonStyleModel",
          "model_module_version": "1.5.0",
          "state": {
            "_model_module": "@jupyter-widgets/controls",
            "_model_module_version": "1.5.0",
            "_model_name": "ButtonStyleModel",
            "_view_count": null,
            "_view_module": "@jupyter-widgets/base",
            "_view_module_version": "1.2.0",
            "_view_name": "StyleView",
            "button_color": null,
            "font_weight": ""
          }
        },
        "b2b8cf9d4d5245649948a03b2b8c8dfb": {
          "model_module": "@jupyter-widgets/output",
          "model_name": "OutputModel",
          "model_module_version": "1.0.0",
          "state": {
            "_dom_classes": [],
            "_model_module": "@jupyter-widgets/output",
            "_model_module_version": "1.0.0",
            "_model_name": "OutputModel",
            "_view_count": null,
            "_view_module": "@jupyter-widgets/output",
            "_view_module_version": "1.0.0",
            "_view_name": "OutputView",
            "layout": "IPY_MODEL_b9775a6b06e34bbeaa45e01a74a54757",
            "msg_id": "",
            "outputs": []
          }
        },
        "b9775a6b06e34bbeaa45e01a74a54757": {
          "model_module": "@jupyter-widgets/base",
          "model_name": "LayoutModel",
          "model_module_version": "1.2.0",
          "state": {
            "_model_module": "@jupyter-widgets/base",
            "_model_module_version": "1.2.0",
            "_model_name": "LayoutModel",
            "_view_count": null,
            "_view_module": "@jupyter-widgets/base",
            "_view_module_version": "1.2.0",
            "_view_name": "LayoutView",
            "align_content": null,
            "align_items": null,
            "align_self": null,
            "border": null,
            "bottom": null,
            "display": null,
            "flex": null,
            "flex_flow": null,
            "grid_area": null,
            "grid_auto_columns": null,
            "grid_auto_flow": null,
            "grid_auto_rows": null,
            "grid_column": null,
            "grid_gap": null,
            "grid_row": null,
            "grid_template_areas": null,
            "grid_template_columns": null,
            "grid_template_rows": null,
            "height": null,
            "justify_content": null,
            "justify_items": null,
            "left": null,
            "margin": null,
            "max_height": null,
            "max_width": null,
            "min_height": null,
            "min_width": null,
            "object_fit": null,
            "object_position": null,
            "order": null,
            "overflow": null,
            "overflow_x": null,
            "overflow_y": null,
            "padding": null,
            "right": null,
            "top": null,
            "visibility": null,
            "width": null
          }
        }
      }
    }
  },
  "cells": [
    {
      "cell_type": "markdown",
      "metadata": {
        "id": "view-in-github",
        "colab_type": "text"
      },
      "source": [
        "<a href=\"https://colab.research.google.com/github/michael-adci/CSC101-Introduction-to-Programing/blob/main/fetch_my_weater_demo.ipynb\" target=\"_parent\"><img src=\"https://colab.research.google.com/assets/colab-badge.svg\" alt=\"Open In Colab\"/></a>"
      ]
    },
    {
      "cell_type": "markdown",
      "source": [
        "# Laring about the program"
      ],
      "metadata": {
        "id": "21g-9A3ktK0r"
      }
    },
    {
      "cell_type": "code",
      "source": [
        "!pip install fetch-my-weather"
      ],
      "metadata": {
        "colab": {
          "base_uri": "https://localhost:8080/"
        },
        "collapsed": true,
        "id": "cVkQSpOZnL_A",
        "outputId": "b2524829-378f-4858-f3a0-91cfeb667a92"
      },
      "execution_count": 2,
      "outputs": [
        {
          "output_type": "stream",
          "name": "stdout",
          "text": [
            "Collecting fetch-my-weather\n",
            "  Downloading fetch_my_weather-0.4.0-py3-none-any.whl.metadata (12 kB)\n",
            "Requirement already satisfied: requests>=2.25.0 in /usr/local/lib/python3.11/dist-packages (from fetch-my-weather) (2.32.3)\n",
            "Requirement already satisfied: pydantic>=1.8.0 in /usr/local/lib/python3.11/dist-packages (from fetch-my-weather) (2.11.4)\n",
            "Requirement already satisfied: annotated-types>=0.6.0 in /usr/local/lib/python3.11/dist-packages (from pydantic>=1.8.0->fetch-my-weather) (0.7.0)\n",
            "Requirement already satisfied: pydantic-core==2.33.2 in /usr/local/lib/python3.11/dist-packages (from pydantic>=1.8.0->fetch-my-weather) (2.33.2)\n",
            "Requirement already satisfied: typing-extensions>=4.12.2 in /usr/local/lib/python3.11/dist-packages (from pydantic>=1.8.0->fetch-my-weather) (4.13.2)\n",
            "Requirement already satisfied: typing-inspection>=0.4.0 in /usr/local/lib/python3.11/dist-packages (from pydantic>=1.8.0->fetch-my-weather) (0.4.0)\n",
            "Requirement already satisfied: charset-normalizer<4,>=2 in /usr/local/lib/python3.11/dist-packages (from requests>=2.25.0->fetch-my-weather) (3.4.1)\n",
            "Requirement already satisfied: idna<4,>=2.5 in /usr/local/lib/python3.11/dist-packages (from requests>=2.25.0->fetch-my-weather) (3.10)\n",
            "Requirement already satisfied: urllib3<3,>=1.21.1 in /usr/local/lib/python3.11/dist-packages (from requests>=2.25.0->fetch-my-weather) (2.4.0)\n",
            "Requirement already satisfied: certifi>=2017.4.17 in /usr/local/lib/python3.11/dist-packages (from requests>=2.25.0->fetch-my-weather) (2025.4.26)\n",
            "Downloading fetch_my_weather-0.4.0-py3-none-any.whl (17 kB)\n",
            "Installing collected packages: fetch-my-weather\n",
            "Successfully installed fetch-my-weather-0.4.0\n"
          ]
        }
      ]
    },
    {
      "cell_type": "code",
      "execution_count": 3,
      "metadata": {
        "colab": {
          "base_uri": "https://localhost:8080/"
        },
        "id": "cdTCJj3xc1Je",
        "outputId": "9c4b3771-916b-41ef-809e-c6a09fc7e8bf"
      },
      "outputs": [
        {
          "output_type": "stream",
          "name": "stdout",
          "text": [
            "Temperature: 19°C\n"
          ]
        }
      ],
      "source": [
        "import fetch_my_weather\n",
        "\n",
        "# Get weather for your current location (based on IP) as JSON\n",
        "current_weather = fetch_my_weather.get_weather()\n",
        "\n",
        "# Print the temperature in Celsius\n",
        "print(f\"Temperature: {current_weather.current_condition[0].temp_C}°C\")\n"
      ]
    },
    {
      "cell_type": "code",
      "source": [
        "import fetch_my_weather\n",
        "\n",
        "# Get weather for a specific city (e.g., Paris)\n",
        "current_weather = fetch_my_weather.get_weather(location=\"Paris\")\n",
        "\n",
        "# Print the temperature in Celsius\n",
        "print(f\"Temperature: {current_weather.current_condition[0].temp_C}°C\")\n"
      ],
      "metadata": {
        "colab": {
          "base_uri": "https://localhost:8080/"
        },
        "id": "cBVU7O_6njq3",
        "outputId": "883444b8-fc67-4286-a992-c98f057c3899"
      },
      "execution_count": 4,
      "outputs": [
        {
          "output_type": "stream",
          "name": "stdout",
          "text": [
            "Temperature: 9°C\n"
          ]
        }
      ]
    },
    {
      "cell_type": "code",
      "source": [
        "import fetch_my_weather\n",
        "\n",
        "# Get weather for your current location (based on IP) as JSON\n",
        "current_weather = fetch_my_weather.get_weather()\n",
        "\n",
        "# Print the location and temperature in Celsius\n",
        "location = current_weather.nearest_area[0].areaName[0].value\n",
        "country = current_weather.nearest_area[0].country[0].value\n",
        "print(f\"Location: {location}, {country}\")\n",
        "print(f\"Temperature: {current_weather.current_condition[0].temp_C}°C\")\n"
      ],
      "metadata": {
        "colab": {
          "base_uri": "https://localhost:8080/"
        },
        "id": "43k44q62nkTP",
        "outputId": "5a14d859-f9e7-45eb-dbf7-33b1929c7729"
      },
      "execution_count": 5,
      "outputs": [
        {
          "output_type": "stream",
          "name": "stdout",
          "text": [
            "Location: Coffee, United States of America\n",
            "Temperature: 19°C\n"
          ]
        }
      ]
    },
    {
      "cell_type": "code",
      "source": [
        "import fetch_my_weather\n",
        "\n",
        "# Disable mock mode for this request\n",
        "current_weather = fetch_my_weather.get_weather(location=\"Perth\", use_mock=False)\n",
        "\n",
        "# Print the location and temperature in Celsius\n",
        "location = current_weather.nearest_area[0].areaName[0].value\n",
        "country = current_weather.nearest_area[0].country[0].value\n",
        "print(f\"Location: {location}, {country}\")\n",
        "print(f\"Temperature: {current_weather.current_condition[0].temp_C}°C\")\n"
      ],
      "metadata": {
        "colab": {
          "base_uri": "https://localhost:8080/"
        },
        "id": "tAoY7Qj-nzGn",
        "outputId": "d2b6467b-9b28-4548-d7cb-7b7dd7fa60ac"
      },
      "execution_count": 7,
      "outputs": [
        {
          "output_type": "stream",
          "name": "stdout",
          "text": [
            "Location: Maylands, Australia\n",
            "Temperature: 21°C\n"
          ]
        }
      ]
    },
    {
      "cell_type": "code",
      "source": [
        "import fetch_my_weather\n",
        "from IPython.display import display, HTML\n",
        "import ipywidgets as widgets\n",
        "\n",
        "def get_weather_for_city(city):\n",
        "    weather = fetch_my_weather.get_weather(location=city, use_mock=False)\n",
        "    if weather.current_condition:\n",
        "        current = weather.current_condition[0]\n",
        "        return f\"{city}: {current.temp_C}°C, {current.weatherDesc[0].value}\"\n",
        "    else:\n",
        "        return f\"{city}: Weather data not available\"\n",
        "\n",
        "def display_weather(cities):\n",
        "    city_list = [city.strip() for city in cities.split(',')]\n",
        "    weather_info = [get_weather_for_city(city) for city in city_list]\n",
        "    display(HTML(\"<br>\".join(weather_info)))\n",
        "\n",
        "# Create a text input widget for cities\n",
        "city_input = widgets.Text(\n",
        "    value='',\n",
        "    placeholder='Enter cities separated by commas',\n",
        "    description='Cities:',\n",
        "    disabled=False\n",
        ")\n",
        "\n",
        "# Create a button to fetch and display weather\n",
        "fetch_button = widgets.Button(\n",
        "    description='Get Weather',\n",
        "    disabled=False,\n",
        "    button_style='',\n",
        "    tooltip='Click to get weather',\n",
        "    icon='cloud'\n",
        ")\n",
        "\n",
        "# Define the button click event handler\n",
        "def on_button_click(b):\n",
        "    display_weather(city_input.value)\n",
        "\n",
        "fetch_button.on_click(on_button_click)\n",
        "\n",
        "# Display the input widget and button\n",
        "display(city_input, fetch_button)\n"
      ],
      "metadata": {
        "colab": {
          "base_uri": "https://localhost:8080/",
          "height": 133,
          "referenced_widgets": [
            "e34035ac53ef4d6ab5464deb59f6a1cf",
            "a9498360422c4ee1bcfaa3b2b2746610",
            "c022886e141448dbbdcaa96a5d1d6618",
            "ed1a2734fdc544649c8f519aece82ca0",
            "4bb52bb1e7d14791bd2845445259fafe",
            "a75e077bc3f54757971c9d93ef472f2f"
          ]
        },
        "id": "OpixA5i2oY53",
        "outputId": "b3089078-ff71-43c4-b37d-3448e647e229"
      },
      "execution_count": 15,
      "outputs": [
        {
          "output_type": "display_data",
          "data": {
            "text/plain": [
              "Text(value='', description='Cities:', placeholder='Enter cities separated by commas')"
            ],
            "application/vnd.jupyter.widget-view+json": {
              "version_major": 2,
              "version_minor": 0,
              "model_id": "e34035ac53ef4d6ab5464deb59f6a1cf"
            }
          },
          "metadata": {}
        },
        {
          "output_type": "display_data",
          "data": {
            "text/plain": [
              "Button(description='Get Weather', icon='cloud', style=ButtonStyle(), tooltip='Click to get weather')"
            ],
            "application/vnd.jupyter.widget-view+json": {
              "version_major": 2,
              "version_minor": 0,
              "model_id": "ed1a2734fdc544649c8f519aece82ca0"
            }
          },
          "metadata": {}
        },
        {
          "output_type": "display_data",
          "data": {
            "text/plain": [
              "<IPython.core.display.HTML object>"
            ],
            "text/html": [
              "Perth: 21°C, Sunny"
            ]
          },
          "metadata": {}
        },
        {
          "output_type": "display_data",
          "data": {
            "text/plain": [
              "<IPython.core.display.HTML object>"
            ],
            "text/html": [
              "Perth: 21°C, Sunny<br>Paris: 9°C, Partly cloudy"
            ]
          },
          "metadata": {}
        }
      ]
    },
    {
      "cell_type": "code",
      "source": [
        "import fetch_my_weather\n",
        "from IPython.display import display, HTML, clear_output\n",
        "import ipywidgets as widgets\n",
        "\n",
        "def get_weather_for_city(city):\n",
        "    weather = fetch_my_weather.get_weather(location=city, use_mock=False)\n",
        "    if weather.current_condition:\n",
        "        current = weather.current_condition[0]\n",
        "        return f\"{city}: {current.temp_C}°C, {current.weatherDesc[0].value}\"\n",
        "    else:\n",
        "        return f\"{city}: Weather data not available\"\n",
        "\n",
        "def display_weather(cities):\n",
        "    city_list = [city.strip() for city in cities.split(',')]\n",
        "    weather_info = [get_weather_for_city(city) for city in city_list]\n",
        "    clear_output(wait=True)\n",
        "    display(HTML(\"<br>\".join(weather_info)))\n",
        "\n",
        "# Create a text input widget for cities\n",
        "city_input = widgets.Text(\n",
        "    value='',\n",
        "    placeholder='Enter cities separated by commas',\n",
        "    description='Cities:',\n",
        "    disabled=False\n",
        ")\n",
        "\n",
        "# Create a button to fetch and display weather\n",
        "fetch_button = widgets.Button(\n",
        "    description='Get Weather',\n",
        "    disabled=False,\n",
        "    button_style='',\n",
        "    tooltip='Click to get weather',\n",
        "    icon='cloud'\n",
        ")\n",
        "\n",
        "# Define the button click event handler\n",
        "def on_button_click(b):\n",
        "    display_weather(city_input.value)\n",
        "\n",
        "fetch_button.on_click(on_button_click)\n",
        "\n",
        "# Display the input widget and button\n",
        "display(city_input, fetch_button)\n"
      ],
      "metadata": {
        "colab": {
          "base_uri": "https://localhost:8080/",
          "height": 69,
          "referenced_widgets": [
            "bc6f37492c7841649883e2293814933e",
            "9e5ffc9ded4b48728dfa318d3cbd87ca",
            "09bd2a7f1c8e4dfa854187b3d8521b9d",
            "f62d21f3e4cd431d8113e0bb96cb6d76",
            "fd845fbd7111487ea1ac2e7d4a2c2a97",
            "f10c0694784148dca0d86607d577bdda"
          ]
        },
        "id": "-2pR5fWlqE9V",
        "outputId": "88bbea6f-68c1-4949-a718-ebec083377d6"
      },
      "execution_count": 9,
      "outputs": [
        {
          "output_type": "display_data",
          "data": {
            "text/plain": [
              "<IPython.core.display.HTML object>"
            ],
            "text/html": [
              "Paris: 9°C, Partly cloudy<br>London: 5°C, Partly cloudy<br>Brisbane: 25°C, Partly cloudy"
            ]
          },
          "metadata": {}
        }
      ]
    },
    {
      "cell_type": "code",
      "source": [
        "import fetch_my_weather\n",
        "from IPython.display import display, HTML, clear_output\n",
        "import ipywidgets as widgets\n",
        "\n",
        "def get_weather_for_city(city):\n",
        "    weather = fetch_my_weather.get_weather(location=city, use_mock=False)\n",
        "    if weather.current_condition:\n",
        "        current = weather.current_condition[0]\n",
        "        return f\"{city}: {current.temp_C}°C, {current.weatherDesc[0].value}\"\n",
        "    else:\n",
        "        return f\"{city}: Weather data not available\"\n",
        "\n",
        "def display_weather(cities):\n",
        "    city_list = [city.strip() for city in cities.split(',')]\n",
        "    weather_info = [get_weather_for_city(city) for city in city_list]\n",
        "    with output:\n",
        "        clear_output(wait=True)\n",
        "        display(HTML(\"<br>\".join(weather_info)))\n",
        "\n",
        "# Create a text input widget for cities\n",
        "city_input = widgets.Text(\n",
        "    value='',\n",
        "    placeholder='Enter cities separated by commas',\n",
        "    description='Cities:',\n",
        "    disabled=False\n",
        ")\n",
        "\n",
        "# Create a button to fetch and display weather\n",
        "fetch_button = widgets.Button(\n",
        "    description='Get Weather',\n",
        "    disabled=False,\n",
        "    button_style='',\n",
        "    tooltip='Click to get weather',\n",
        "    icon='cloud'\n",
        ")\n",
        "\n",
        "# Define the button click event handler\n",
        "def on_button_click(b):\n",
        "    display_weather(city_input.value)\n",
        "\n",
        "fetch_button.on_click(on_button_click)\n",
        "\n",
        "# Create an output widget to display the weather information\n",
        "output = widgets.Output()\n",
        "\n",
        "# Display the input widget, button, and output widget\n",
        "display(city_input, fetch_button, output)\n"
      ],
      "metadata": {
        "colab": {
          "base_uri": "https://localhost:8080/",
          "height": 133,
          "referenced_widgets": [
            "1b0b3f877b304198a1cd6120171c08ab",
            "858b698dcba2458db95fc3c92d672bca",
            "07623a0122f4416480f1a0a6bd56daa3",
            "ccf2573a11ce417896a7a689c967a237",
            "57ea8310524944398fc05e7ce9013c31",
            "93b6f5817c5b4b26a27bf2d5d950ffbe",
            "af35b0dcb8d24bfea5e3e3fe9a8c33f7",
            "00d740bc9150493d873be25d05be11cd"
          ]
        },
        "id": "PjEu7SABqf21",
        "outputId": "2a797bf3-99f1-4260-d46f-71dd3d554799"
      },
      "execution_count": 10,
      "outputs": [
        {
          "output_type": "display_data",
          "data": {
            "text/plain": [
              "Text(value='', description='Cities:', placeholder='Enter cities separated by commas')"
            ],
            "application/vnd.jupyter.widget-view+json": {
              "version_major": 2,
              "version_minor": 0,
              "model_id": "1b0b3f877b304198a1cd6120171c08ab"
            }
          },
          "metadata": {}
        },
        {
          "output_type": "display_data",
          "data": {
            "text/plain": [
              "Button(description='Get Weather', icon='cloud', style=ButtonStyle(), tooltip='Click to get weather')"
            ],
            "application/vnd.jupyter.widget-view+json": {
              "version_major": 2,
              "version_minor": 0,
              "model_id": "ccf2573a11ce417896a7a689c967a237"
            }
          },
          "metadata": {}
        },
        {
          "output_type": "display_data",
          "data": {
            "text/plain": [
              "Output()"
            ],
            "application/vnd.jupyter.widget-view+json": {
              "version_major": 2,
              "version_minor": 0,
              "model_id": "af35b0dcb8d24bfea5e3e3fe9a8c33f7"
            }
          },
          "metadata": {}
        }
      ]
    },
    {
      "cell_type": "code",
      "source": [
        "import fetch_my_weather\n",
        "from IPython.display import display, clear_output\n",
        "import ipywidgets as widgets\n",
        "\n",
        "def get_weather_for_city(city):\n",
        "    weather = fetch_my_weather.get_weather(location=city, format=\"text\", use_mock=False)\n",
        "    return f\"Weather for {city}:\\n{weather}\"\n",
        "\n",
        "def display_weather(cities):\n",
        "    city_list = [city.strip() for city in cities.split(',')]\n",
        "    weather_info = [get_weather_for_city(city) for city in city_list]\n",
        "    with output:\n",
        "        clear_output(wait=True)\n",
        "        display(widgets.HTML(\"<pre>\" + \"\\n\\n\".join(weather_info) + \"</pre>\"))\n",
        "\n",
        "# Create a text input widget for cities\n",
        "city_input = widgets.Text(\n",
        "    value='',\n",
        "    placeholder='Enter cities separated by commas',\n",
        "    description='Cities:',\n",
        "    disabled=False\n",
        ")\n",
        "\n",
        "# Create a button to fetch and display weather\n",
        "fetch_button = widgets.Button(\n",
        "    description='Get Weather',\n",
        "    disabled=False,\n",
        "    button_style='',\n",
        "    tooltip='Click to get weather',\n",
        "    icon='cloud'\n",
        ")\n",
        "\n",
        "# Define the button click event handler\n",
        "def on_button_click(b):\n",
        "    display_weather(city_input.value)\n",
        "\n",
        "fetch_button.on_click(on_button_click)\n",
        "\n",
        "# Create an output widget to display the weather information\n",
        "output = widgets.Output()\n",
        "\n",
        "# Display the input widget, button, and output widget\n",
        "display(city_input, fetch_button, output)\n"
      ],
      "metadata": {
        "colab": {
          "base_uri": "https://localhost:8080/",
          "height": 1000,
          "referenced_widgets": [
            "d50b81655de349b292ba7954512405b9",
            "35781631e4064dac81eb553946e73225",
            "ea3d146c23d8456080c474655dc33732",
            "a56c73c9e05b42ef8cf532de67444bff",
            "c6867b6db39b4bc3be23c82d9205cbbd",
            "3a04b0269d1e4393847755331b1a40ac",
            "10d9d68ac8fd44738ca54d1ee0a70068",
            "a5c1d2757b6e4ee38ba6f7b5feaf66d0",
            "920083e7dc234686ae476eaca5d861bc",
            "2b813016ec6e40ca814db861565c260a",
            "5035b78fd45b427da8cfee0d76d7cf50",
            "85ab8820ad464524a892fc813366c95a",
            "209cf324091340f48b0d2c5f30c897ec",
            "4f7d6ad4b2ac4e54af9078de66362786"
          ]
        },
        "collapsed": true,
        "id": "8A_wAZwXqvTd",
        "outputId": "8b71aae4-cb51-4505-876c-f839a0a19c76"
      },
      "execution_count": 11,
      "outputs": [
        {
          "output_type": "display_data",
          "data": {
            "text/plain": [
              "Text(value='', description='Cities:', placeholder='Enter cities separated by commas')"
            ],
            "application/vnd.jupyter.widget-view+json": {
              "version_major": 2,
              "version_minor": 0,
              "model_id": "d50b81655de349b292ba7954512405b9"
            }
          },
          "metadata": {}
        },
        {
          "output_type": "display_data",
          "data": {
            "text/plain": [
              "Button(description='Get Weather', icon='cloud', style=ButtonStyle(), tooltip='Click to get weather')"
            ],
            "application/vnd.jupyter.widget-view+json": {
              "version_major": 2,
              "version_minor": 0,
              "model_id": "a56c73c9e05b42ef8cf532de67444bff"
            }
          },
          "metadata": {}
        },
        {
          "output_type": "display_data",
          "data": {
            "text/plain": [
              "Output()"
            ],
            "application/vnd.jupyter.widget-view+json": {
              "version_major": 2,
              "version_minor": 0,
              "model_id": "10d9d68ac8fd44738ca54d1ee0a70068"
            }
          },
          "metadata": {}
        }
      ]
    },
    {
      "cell_type": "code",
      "source": [
        "import fetch_my_weather\n",
        "from IPython.display import display, clear_output\n",
        "import ipywidgets as widgets\n",
        "\n",
        "def get_weather_for_city(city):\n",
        "    weather = fetch_my_weather.get_weather(location=city, format=\"text\", view_options=\"0\", use_mock=False)\n",
        "    return f\"Weather for {city}:\\n{weather}\"\n",
        "\n",
        "def display_weather(cities):\n",
        "    city_list = [city.strip() for city in cities.split(',')]\n",
        "    weather_info = [get_weather_for_city(city) for city in city_list]\n",
        "    with output:\n",
        "        clear_output(wait=True)\n",
        "        display(widgets.HTML(\"<pre>\" + \"\\n\\n\".join(weather_info) + \"</pre>\"))\n",
        "\n",
        "# Create a text input widget for cities\n",
        "city_input = widgets.Text(\n",
        "    value='',\n",
        "    placeholder='Enter cities separated by commas',\n",
        "    description='Cities:',\n",
        "    disabled=False\n",
        ")\n",
        "\n",
        "# Create a button to fetch and display weather\n",
        "fetch_button = widgets.Button(\n",
        "    description='Get Weather',\n",
        "    disabled=False,\n",
        "    button_style='',\n",
        "    tooltip='Click to get weather',\n",
        "    icon='cloud'\n",
        ")\n",
        "\n",
        "# Define the button click event handler\n",
        "def on_button_click(b):\n",
        "    display_weather(city_input.value)\n",
        "\n",
        "fetch_button.on_click(on_button_click)\n",
        "\n",
        "# Create an output widget to display the weather information\n",
        "output = widgets.Output()\n",
        "\n",
        "# Display the input widget, button, and output widget\n",
        "display(city_input, fetch_button, output)\n"
      ],
      "metadata": {
        "colab": {
          "base_uri": "https://localhost:8080/",
          "height": 589,
          "referenced_widgets": [
            "a713b182f5c640f3bade22d6651853fd",
            "655df96d4e8641acb6e14598844b30e2",
            "51585d4aac1c496dad432dcf0afed8ed",
            "4516bf6f01484089a39cfee524fe64e0",
            "30e1f38bf49443a89d8b2259f8c7ff88",
            "433bf30b24be4bbd85ab523dd040d296",
            "adfc1831c6634eeea661db4d74b3d45d",
            "a4fd42038e5244ecb44be36cead10e73",
            "61d6ab106dfc4bb3b9e77581123d39d1",
            "50a65f44f4e6405ca16cc44d0b604f4f",
            "f2b7b8ae6381499c957e6b0e2dc5d1cd"
          ]
        },
        "id": "tVsr3BiFrA3V",
        "outputId": "e81c7395-be1e-4e0e-a8d1-116656748454"
      },
      "execution_count": 12,
      "outputs": [
        {
          "output_type": "display_data",
          "data": {
            "text/plain": [
              "Text(value='', description='Cities:', placeholder='Enter cities separated by commas')"
            ],
            "application/vnd.jupyter.widget-view+json": {
              "version_major": 2,
              "version_minor": 0,
              "model_id": "a713b182f5c640f3bade22d6651853fd"
            }
          },
          "metadata": {}
        },
        {
          "output_type": "display_data",
          "data": {
            "text/plain": [
              "Button(description='Get Weather', icon='cloud', style=ButtonStyle(), tooltip='Click to get weather')"
            ],
            "application/vnd.jupyter.widget-view+json": {
              "version_major": 2,
              "version_minor": 0,
              "model_id": "4516bf6f01484089a39cfee524fe64e0"
            }
          },
          "metadata": {}
        },
        {
          "output_type": "display_data",
          "data": {
            "text/plain": [
              "Output()"
            ],
            "application/vnd.jupyter.widget-view+json": {
              "version_major": 2,
              "version_minor": 0,
              "model_id": "adfc1831c6634eeea661db4d74b3d45d"
            }
          },
          "metadata": {}
        }
      ]
    },
    {
      "cell_type": "code",
      "source": [
        "import fetch_my_weather\n",
        "from IPython.display import display, clear_output\n",
        "import ipywidgets as widgets\n",
        "import re\n",
        "\n",
        "def strip_ansi_codes(text):\n",
        "    ansi_escape = re.compile(r'\\x1B[@-_][0-?]*[ -/]*[@-~]')\n",
        "    return ansi_escape.sub('', text)\n",
        "\n",
        "def get_weather_for_city(city):\n",
        "    weather = fetch_my_weather.get_weather(location=city, format=\"text\", view_options=\"0\", use_mock=False)\n",
        "    return f\"Weather for {city}:\\n{strip_ansi_codes(weather)}\"\n",
        "\n",
        "def display_weather(cities):\n",
        "    city_list = [city.strip() for city in cities.split(',')]\n",
        "    weather_info = [get_weather_for_city(city) for city in city_list]\n",
        "    with output:\n",
        "        clear_output(wait=True)\n",
        "        display(widgets.HTML(\"<pre>\" + \"\\n\\n\".join(weather_info) + \"</pre>\"))\n",
        "\n",
        "# Create a text input widget for cities\n",
        "city_input = widgets.Text(\n",
        "    value='',\n",
        "    placeholder='Enter cities separated by commas',\n",
        "    description='Cities:',\n",
        "    disabled=False\n",
        ")\n",
        "\n",
        "# Create a button to fetch and display weather\n",
        "fetch_button = widgets.Button(\n",
        "    description='Get Weather',\n",
        "    disabled=False,\n",
        "    button_style='',\n",
        "    tooltip='Click to get weather',\n",
        "    icon='cloud'\n",
        ")\n",
        "\n",
        "# Define the button click event handler\n",
        "def on_button_click(b):\n",
        "    display_weather(city_input.value)\n",
        "\n",
        "fetch_button.on_click(on_button_click)\n",
        "\n",
        "# Create an output widget to display the weather information\n",
        "output = widgets.Output()\n",
        "\n",
        "# Display the input widget, button, and output widget\n",
        "display(city_input, fetch_button, output)\n"
      ],
      "metadata": {
        "colab": {
          "base_uri": "https://localhost:8080/",
          "height": 589,
          "referenced_widgets": [
            "8b4ab2e366c04df7ac7dbf9b6c73adb1",
            "bd786eb76ffb4c55b1f5dcdc49f10689",
            "3453d33d3a1a4e2ea1eaba2237147afe",
            "b33cdb39c91141bd88432f0c1eedd112",
            "9355c1142e4e443595d85c35e3257dc5",
            "91cc91ce1fb34241845ac49ca9b7a28d",
            "bd30871270204ea0b6009dbfb09e1a65",
            "c7f0b57d04ed4f2a8a37ee53e72f666f",
            "495b5fd5ee7647c8bffd641a87170e0b",
            "0cabe81ca3cd4590b676202d9592d7cf",
            "51bbe1b59a5c463b94e4746ca3423fd6",
            "3262b3ad647e498d9bb722ab3aa8f204",
            "fe7602b7b4e44c2484f8ff69e2ea4fda",
            "400ffe4cbcf24739b9ee29cf56cd65d7"
          ]
        },
        "id": "Q6xrM0Xbrc1V",
        "outputId": "b1e96866-333d-4d7c-8e90-67ff1c0c4994"
      },
      "execution_count": 13,
      "outputs": [
        {
          "output_type": "display_data",
          "data": {
            "text/plain": [
              "Text(value='', description='Cities:', placeholder='Enter cities separated by commas')"
            ],
            "application/vnd.jupyter.widget-view+json": {
              "version_major": 2,
              "version_minor": 0,
              "model_id": "8b4ab2e366c04df7ac7dbf9b6c73adb1"
            }
          },
          "metadata": {}
        },
        {
          "output_type": "display_data",
          "data": {
            "text/plain": [
              "Button(description='Get Weather', icon='cloud', style=ButtonStyle(), tooltip='Click to get weather')"
            ],
            "application/vnd.jupyter.widget-view+json": {
              "version_major": 2,
              "version_minor": 0,
              "model_id": "b33cdb39c91141bd88432f0c1eedd112"
            }
          },
          "metadata": {}
        },
        {
          "output_type": "display_data",
          "data": {
            "text/plain": [
              "Output()"
            ],
            "application/vnd.jupyter.widget-view+json": {
              "version_major": 2,
              "version_minor": 0,
              "model_id": "bd30871270204ea0b6009dbfb09e1a65"
            }
          },
          "metadata": {}
        }
      ]
    },
    {
      "cell_type": "code",
      "source": [
        "# Run Program"
      ],
      "metadata": {
        "id": "uLKWr5gqtDB6"
      },
      "execution_count": null,
      "outputs": []
    },
    {
      "cell_type": "markdown",
      "source": [
        "# Run the Program"
      ],
      "metadata": {
        "id": "tTwqFGfFtFeS"
      }
    },
    {
      "cell_type": "code",
      "source": [
        "import fetch_my_weather\n",
        "from IPython.display import display, clear_output\n",
        "import ipywidgets as widgets\n",
        "import re\n",
        "\n",
        "def strip_ansi_codes(text):\n",
        "    ansi_escape = re.compile(r'\\x1B[@-_][0-?]*[ -/]*[@-~]')\n",
        "    return ansi_escape.sub('', text)\n",
        "\n",
        "def get_weather_for_city(city):\n",
        "    weather = fetch_my_weather.get_weather(location=city, format=\"text\", view_options=\"0\", use_mock=False)\n",
        "    return f\"<div style='display: inline-block; margin: 10px;'><pre>Weather for {city}:\\n{strip_ansi_codes(weather)}</pre></div>\"\n",
        "\n",
        "def display_weather(cities):\n",
        "    city_list = [city.strip() for city in cities.split(',')]\n",
        "    weather_info = [get_weather_for_city(city) for city in city_list]\n",
        "    with output:\n",
        "        clear_output(wait=True)\n",
        "        display(widgets.HTML(\"<div style='display: flex; flex-wrap: wrap;'>\" + \"\".join(weather_info) + \"</div>\"))\n",
        "\n",
        "# Create a text input widget for cities\n",
        "city_input = widgets.Text(\n",
        "    value='',\n",
        "    placeholder='Enter cities separated by commas',\n",
        "    description='Cities:',\n",
        "    disabled=False\n",
        ")\n",
        "\n",
        "# Create a button to fetch and display weather\n",
        "fetch_button = widgets.Button(\n",
        "    description='Get Weather',\n",
        "    disabled=False,\n",
        "    button_style='',\n",
        "    tooltip='Click to get weather',\n",
        "    icon='cloud'\n",
        ")\n",
        "\n",
        "# Define the button click event handler\n",
        "def on_button_click(b):\n",
        "    display_weather(city_input.value)\n",
        "\n",
        "fetch_button.on_click(on_button_click)\n",
        "\n",
        "# Create an output widget to display the weather information\n",
        "output = widgets.Output()\n",
        "\n",
        "# Display the input widget, button, and output widget\n",
        "display(city_input, fetch_button, output)\n"
      ],
      "metadata": {
        "colab": {
          "base_uri": "https://localhost:8080/",
          "height": 81,
          "referenced_widgets": [
            "67f19323c54245818d809971e2351c3b",
            "6e84388db0574da68dd3569fc4c03612",
            "9074db9bbd284d3b9bcb47c268c97b36",
            "391144fe4e7c478eb03cd7093388c86d",
            "b631bdd6cb0449fa96a11c8c42aed390",
            "6ea41e5da199442299928c532f409739",
            "b2b8cf9d4d5245649948a03b2b8c8dfb",
            "b9775a6b06e34bbeaa45e01a74a54757"
          ]
        },
        "id": "wvvDrsourt4U",
        "outputId": "c2c7f12e-5451-4bd9-c542-2356f8d74769"
      },
      "execution_count": 18,
      "outputs": [
        {
          "output_type": "display_data",
          "data": {
            "text/plain": [
              "Text(value='', description='Cities:', placeholder='Enter cities separated by commas')"
            ],
            "application/vnd.jupyter.widget-view+json": {
              "version_major": 2,
              "version_minor": 0,
              "model_id": "67f19323c54245818d809971e2351c3b"
            }
          },
          "metadata": {}
        },
        {
          "output_type": "display_data",
          "data": {
            "text/plain": [
              "Button(description='Get Weather', icon='cloud', style=ButtonStyle(), tooltip='Click to get weather')"
            ],
            "application/vnd.jupyter.widget-view+json": {
              "version_major": 2,
              "version_minor": 0,
              "model_id": "391144fe4e7c478eb03cd7093388c86d"
            }
          },
          "metadata": {}
        },
        {
          "output_type": "display_data",
          "data": {
            "text/plain": [
              "Output()"
            ],
            "application/vnd.jupyter.widget-view+json": {
              "version_major": 2,
              "version_minor": 0,
              "model_id": "b2b8cf9d4d5245649948a03b2b8c8dfb"
            }
          },
          "metadata": {}
        }
      ]
    },
    {
      "cell_type": "code",
      "source": [],
      "metadata": {
        "id": "iu-6mIIxr-r7"
      },
      "execution_count": 18,
      "outputs": []
    }
  ]
}