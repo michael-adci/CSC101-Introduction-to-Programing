{
  "cells": [
    {
      "cell_type": "markdown",
      "metadata": {
        "id": "view-in-github",
        "colab_type": "text"
      },
      "source": [
        "<a href=\"https://colab.research.google.com/github/michael-adci/CSC101-Introduction-to-Programing/blob/main/Week%205%20Notebooks/Activity_1_Pixel_Artists_Mastering_Loops_and_Lists_with_ColabTurtlePlus.ipynb\" target=\"_parent\"><img src=\"https://colab.research.google.com/assets/colab-badge.svg\" alt=\"Open In Colab\"/></a>"
      ]
    },
    {
      "cell_type": "markdown",
      "metadata": {
        "id": "aF9pTSxuWL_a"
      },
      "source": [
        "## 🎯 Learning Objectives\n",
        "\n",
        "By the end of this activity, you will be able to:\n",
        "* Use the ColabTurtlePlus library to create graphics through code\n",
        "* Apply loops to repeat drawing patterns efficiently\n",
        "* Utilize lists to store and access collections of data (colors, coordinates, shapes)\n",
        "* Combine loops and lists to create complex visual patterns\n",
        "\n",
        "## 🚀 Introduction\n",
        "\n",
        "ColabTurtlePlus is an extension of the Turtle graphics concept that works well in notebook environments. Like a digital pen that follows your commands, it creates drawings as SVG graphics. In this worksheet, you'll learn how to control this virtual artist using loops and lists—key programming concepts that help us efficiently repeat actions and organize data. These skills will serve as the foundation for the more advanced chatbot we'll build in the next activity.\n",
        "\n",
        "## 🧠 Key Concepts\n",
        "\n",
        "* **ColabTurtlePlus**: A Python library that creates SVG drawings based on commands\n",
        "* **Loop**: A programming structure that repeats code multiple times\n",
        "* **List**: An ordered collection of items that can be modified\n",
        "* **Iteration**: The process of repeatedly executing a set of statements\n",
        "* **Coordinate System**: In standard mode, (0,0) is the center of the screen\n",
        "\n",
        "## 🐢 Activity 1: Getting Started with ColabTurtlePlus\n",
        "\n",
        "Let's begin by importing the ColabTurtlePlus module and creating our first simple drawing."
      ]
    },
    {
      "cell_type": "code",
      "execution_count": null,
      "metadata": {
        "id": "g6Ghkbc5WL_c"
      },
      "outputs": [],
      "source": [
        "# Install the package if not already installed\n",
        "# !pip install ColabTurtlePlus\n",
        "\n",
        "# Import the module\n",
        "from ColabTurtlePlus.Turtle import *\n",
        "\n",
        "# Setup the drawing environment\n",
        "clearscreen()\n",
        "setup(400, 400)  # Set window size to 400x400 pixels\n",
        "showborder()     # Show a border around the drawing area\n",
        "\n",
        "# Create a new turtle\n",
        "t = Turtle()\n",
        "t.shape(\"turtle\")  # Make it look like a turtle\n",
        "t.speed(6)         # Set drawing speed (1-13)\n",
        "\n",
        "# Draw a simple square\n",
        "for i in range(4):\n",
        "    t.forward(100)\n",
        "    t.right(90)\n",
        "\n",
        "# Display the final result\n",
        "done()\n",
        "\n",
        "# Start fresh for the next activity\n",
        "clearscreen()\n",
        "setup(400, 400)\n",
        "showborder()\n",
        "t = Turtle()\n",
        "t.shape(\"turtle\")\n",
        "t.speed(6)"
      ]
    },
    {
      "cell_type": "markdown",
      "metadata": {
        "id": "Ydhk99_DWL_d"
      },
      "source": [
        "**Understanding the Code**:\n",
        "- We import everything from `ColabTurtlePlus.Turtle`\n",
        "- We set up a drawing area with `clearscreen()` and `setup(400, 400)`\n",
        "- We create a turtle object with `t = Turtle()`\n",
        "- The `for` loop repeats the forward and right turn commands 4 times\n",
        "- Each iteration, the turtle moves forward 100 pixels and turns right 90 degrees\n",
        "- At the end, we call `done()` to display the final result\n",
        "- Then we clear the screen for the next activity\n",
        "\n",
        "**Your Turn**: What shape would you draw if you changed the loop to run 3 times and turned 120 degrees each time? Try predicting, then modify the code to check your answer.\n",
        "\n",
        "## 🌈 Activity 2: Using Lists with ColabTurtlePlus\n",
        "\n",
        "Now let's explore how to use lists to store and use colors and coordinates."
      ]
    },
    {
      "cell_type": "code",
      "execution_count": null,
      "metadata": {
        "id": "d9Ku5VIuWL_d"
      },
      "outputs": [],
      "source": [
        "# Reset turtle position\n",
        "t.clear()\n",
        "t.penup()\n",
        "t.goto(-150, 0)  # Move left so we have room for multiple shapes\n",
        "t.pendown()\n",
        "\n",
        "# Create a list of colors\n",
        "colors = [\"red\", \"orange\", \"yellow\", \"green\", \"blue\", \"purple\"]\n",
        "\n",
        "# Draw a line in each color\n",
        "for color in colors:\n",
        "    t.color(color)\n",
        "    t.forward(50)\n",
        "\n",
        "# Move turtle to new position\n",
        "t.penup()\n",
        "t.goto(-150, -50)\n",
        "t.pendown()\n",
        "\n",
        "# Draw a series of squares in different colors\n",
        "for i in range(len(colors)):\n",
        "    t.color(colors[i])\n",
        "\n",
        "    # Draw a square\n",
        "    for j in range(4):\n",
        "        t.forward(30)\n",
        "        t.right(90)\n",
        "\n",
        "    # Move to position for next square\n",
        "    t.penup()\n",
        "    t.forward(50)\n",
        "    t.pendown()\n",
        "\n",
        "# Display the final result\n",
        "done()\n",
        "\n",
        "# Start fresh for the next activity\n",
        "clearscreen()\n",
        "setup(400, 400)\n",
        "showborder()\n",
        "t = Turtle()\n",
        "t.shape(\"turtle\")\n",
        "t.speed(6)"
      ]
    },
    {
      "cell_type": "markdown",
      "metadata": {
        "id": "SVnOl5voWL_e"
      },
      "source": [
        "**Understanding Lists**:\n",
        "- `colors = [\"red\", \"orange\", \"yellow\", \"green\", \"blue\", \"purple\"]` creates a list of colors\n",
        "- `for color in colors:` iterates through each color in the list\n",
        "- `t.color(color)` sets the current color to the one from the list\n",
        "- `len(colors)` returns the length of the list (6 in this case)\n",
        "- `colors[i]` accesses the color at position `i` in the list\n",
        "\n",
        "## 🧩 Activity 3: Nested Loops and Patterns\n",
        "\n",
        "Let's combine loops and lists to create more complex patterns!"
      ]
    },
    {
      "cell_type": "code",
      "execution_count": null,
      "metadata": {
        "id": "agXFmIHcWL_e"
      },
      "outputs": [],
      "source": [
        "# Draw a colorful spiral\n",
        "t.speed(10)  # Faster speed\n",
        "\n",
        "# List of colors for our spiral\n",
        "spiral_colors = [\"blue\", \"green\", \"red\", \"yellow\"]\n",
        "size = 5\n",
        "\n",
        "# Create spiral using a loop\n",
        "for i in range(60):\n",
        "    # Use modulo to cycle through the colors\n",
        "    t.color(spiral_colors[i % len(spiral_colors)])\n",
        "    t.forward(size)\n",
        "    t.right(91)  # Not quite 90° creates a spiral effect\n",
        "    size += 2  # Increase size each iteration\n",
        "\n",
        "done()\n",
        "clearscreen()\n",
        "setup(400, 400)\n",
        "showborder()\n",
        "t = Turtle()\n",
        "t.shape(\"turtle\")\n",
        "t.speed(6)\n",
        "\n",
        "# Now let's create a pattern of circles\n",
        "positions = [(-100, 0), (0, 0), (100, 0), (-50, -70), (50, -70)]\n",
        "circle_colors = [\"red\", \"yellow\", \"blue\", \"green\", \"purple\"]\n",
        "\n",
        "for i in range(len(positions)):\n",
        "    # Move to the position from our list\n",
        "    t.penup()\n",
        "    t.goto(positions[i])\n",
        "    t.pendown()\n",
        "\n",
        "    # Draw filled circle\n",
        "    t.color(circle_colors[i])\n",
        "    t.begin_fill()\n",
        "    t.circle(30)  # Circle with radius 30\n",
        "    t.end_fill()\n",
        "\n",
        "done()\n",
        "clearscreen()\n",
        "setup(400, 400)\n",
        "showborder()\n",
        "t = Turtle()\n",
        "t.shape(\"turtle\")\n",
        "t.speed(6)"
      ]
    },
    {
      "cell_type": "markdown",
      "metadata": {
        "id": "1SOT05YnWL_e"
      },
      "source": [
        "**Understanding Nested Patterns**:\n",
        "- We use the modulo operator `%` to cycle through our color list\n",
        "- The expression `i % len(spiral_colors)` gives us numbers 0, 1, 2, 3, 0, 1, ... to index our colors\n",
        "- For the circles, we store coordinates in a list of tuples: `positions = [(-100, 0), ...]`\n",
        "- We iterate through positions and colors simultaneously using their indices\n",
        "\n",
        "## 🚀 Activity 4: Create Your Own Pattern\n",
        "\n",
        "Now it's your turn to create a pattern! Use what you've learned about loops and lists to make something unique."
      ]
    },
    {
      "cell_type": "code",
      "execution_count": null,
      "metadata": {
        "id": "AgKhTv_YWL_f"
      },
      "outputs": [],
      "source": [
        "# Your pattern here!\n",
        "clearscreen()\n",
        "setup(400, 400)\n",
        "showborder()\n",
        "t = Turtle()\n",
        "t.shape(\"turtle\")\n",
        "t.speed(6)\n",
        "\n",
        "# Create your lists (colors, positions, sizes, etc.)\n",
        "# Example:\n",
        "my_colors = [\"blue\", \"purple\", \"teal\"]\n",
        "my_sizes = [20, 40, 60, 80, 100]\n",
        "\n",
        "# Write your loops to create a pattern\n",
        "# Example starter code:\n",
        "for size in my_sizes:\n",
        "    # Choose a color (you can pick colors however you like)\n",
        "    t.color(my_colors[size // 20 - 1])  # This picks a color based on the size\n",
        "\n",
        "    # Create a shape or pattern\n",
        "    # ...\n",
        "\n",
        "    # Move to next position\n",
        "    # ...\n",
        "\n",
        "# Display your final pattern\n",
        "done()"
      ]
    },
    {
      "cell_type": "markdown",
      "metadata": {
        "id": "tKKTjszjWL_f"
      },
      "source": [
        "**Challenge Ideas**:\n",
        "1. Create a flower with petals of different colors\n",
        "2. Draw a row of houses with different colored roofs\n",
        "3. Make a pattern that uses both circles and squares\n",
        "4. Create a star pattern with increasing size\n",
        "\n",
        "## 🌟 Extension: Multiple Turtles and Shapes\n",
        "\n",
        "For those who finish early, try using multiple turtles and drawing more complex shapes using lists of coordinates."
      ]
    },
    {
      "cell_type": "code",
      "execution_count": null,
      "metadata": {
        "id": "_AB-sUY7WL_g"
      },
      "outputs": [],
      "source": [
        "clearscreen()\n",
        "setup(400, 400)\n",
        "showborder()\n",
        "\n",
        "# Create two turtles\n",
        "t1 = Turtle()\n",
        "t1.shape(\"turtle\")\n",
        "t1.color(\"blue\")\n",
        "t1.speed(6)\n",
        "\n",
        "t2 = Turtle()\n",
        "t2.shape(\"arrow\")\n",
        "t2.color(\"red\")\n",
        "t2.speed(6)\n",
        "\n",
        "# A star shape defined by coordinates\n",
        "star_points = [(0, 85), (75, -75), (-100, 25), (100, 25), (-75, -75), (0, 85)]\n",
        "t1.penup()\n",
        "t1.goto(star_points[0])  # Move to first point\n",
        "t1.pendown()\n",
        "\n",
        "# Draw by connecting the dots\n",
        "for point in star_points:\n",
        "    t1.goto(point)\n",
        "\n",
        "# Fill with color\n",
        "t1.color(\"gold\")\n",
        "t1.begin_fill()\n",
        "for point in star_points:\n",
        "    t1.goto(point)\n",
        "t1.end_fill()\n",
        "\n",
        "# Create a function that can draw any shape from a list of points\n",
        "def draw_shape(turtle, points_list, fill_color=None):\n",
        "    turtle.penup()\n",
        "    turtle.goto(points_list[0])\n",
        "    turtle.pendown()\n",
        "\n",
        "    if fill_color:\n",
        "        turtle.color(fill_color)\n",
        "        turtle.begin_fill()\n",
        "\n",
        "    for point in points_list:\n",
        "        turtle.goto(point)\n",
        "\n",
        "    if fill_color:\n",
        "        turtle.end_fill()\n",
        "\n",
        "# Try the function with a different shape and turtle\n",
        "triangle = [(0, 0), (50, 86), (100, 0), (0, 0)]\n",
        "draw_shape(t2, triangle, \"forest green\")\n",
        "\n",
        "# Show the final drawing\n",
        "done()"
      ]
    },
    {
      "cell_type": "markdown",
      "metadata": {
        "id": "PFjbTtb0WL_g"
      },
      "source": [
        "## 🤔 Reflection\n",
        "\n",
        "Take a moment to reflect on what you've learned:\n",
        "\n",
        "1. How did using loops make your turtle drawings more efficient?\n",
        "2. How did lists help you organize information (colors, coordinates) in your programs?\n",
        "3. Can you think of other applications where combining loops and lists would be useful?\n",
        "\n",
        "## 🌠 Challenge: Create Something Artistic\n",
        "\n",
        "Here's one more challenge for those who want to try something artistic! This example creates a flower pattern with multiple colors."
      ]
    },
    {
      "cell_type": "code",
      "execution_count": null,
      "metadata": {
        "id": "BlEurKkhWL_g"
      },
      "outputs": [],
      "source": [
        "clearscreen()\n",
        "setup(400, 400)\n",
        "showborder()\n",
        "t = Turtle()\n",
        "t.shape(\"turtle\")\n",
        "t.speed(10)\n",
        "\n",
        "# Create a list of colors for our flower petals\n",
        "petal_colors = [\"red\", \"orange\", \"yellow\", \"pink\", \"purple\", \"blue\"]\n",
        "\n",
        "# Draw a flower with petals\n",
        "t.penup()\n",
        "t.goto(0, 0)\n",
        "t.pendown()\n",
        "\n",
        "# Use a loop to create the petals\n",
        "for i in range(12):\n",
        "    # Pick a color using modulo to cycle through our list\n",
        "    t.color(petal_colors[i % len(petal_colors)])\n",
        "\n",
        "    # Start filling to create a colored petal\n",
        "    t.begin_fill()\n",
        "\n",
        "    # Draw a circle for the petal\n",
        "    t.circle(70, 60)\n",
        "    t.left(120)\n",
        "    t.circle(70, 60)\n",
        "    t.left(120)\n",
        "\n",
        "    # Complete the fill\n",
        "    t.end_fill()\n",
        "\n",
        "    # Rotate for the next petal\n",
        "    t.left(30)\n",
        "\n",
        "# Draw the center of the flower\n",
        "t.penup()\n",
        "t.goto(0, 0)\n",
        "t.pendown()\n",
        "t.color(\"brown\", \"yellow\")\n",
        "t.begin_fill()\n",
        "t.circle(20)\n",
        "t.end_fill()\n",
        "\n",
        "# Display the final image\n",
        "done()"
      ]
    },
    {
      "cell_type": "markdown",
      "metadata": {
        "id": "nqKWIItEWL_g"
      },
      "source": [
        "## 🚀 Going Further\n",
        "\n",
        "You've completed the ColabTurtlePlus Graphics portion of our workshop! Next, we'll apply these same concepts of loops and lists to create a conversational AI bot.\n",
        "\n",
        "Some ideas to explore further with ColabTurtlePlus:\n",
        "- Create functions that generate specific patterns you can reuse\n",
        "- Explore all the shapes available in ColabTurtlePlus: 'classic', 'arrow', 'turtle', 'circle', etc.\n",
        "- Use the different fill rules ColabTurtlePlus offers for interesting effects\n",
        "- Save your SVG creations using `saveSVG()` to use them elsewhere\n",
        "\n",
        "## 🔄 Transition to Next Activity\n",
        "\n",
        "In the next worksheet, we'll continue exploring loops and lists, but instead of creating visual art, we'll use these concepts to build a simple AI chatbot. You'll see how the same fundamental programming concepts can be applied to very different applications!"
      ]
    }
  ],
  "metadata": {
    "kernelspec": {
      "display_name": "Python 3 (ipykernel)",
      "language": "python",
      "name": "python3"
    },
    "colab": {
      "provenance": [],
      "include_colab_link": true
    }
  },
  "nbformat": 4,
  "nbformat_minor": 0
}