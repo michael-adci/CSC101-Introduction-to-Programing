{
  "cells": [
    {
      "cell_type": "markdown",
      "metadata": {
        "id": "view-in-github",
        "colab_type": "text"
      },
      "source": [
        "<a href=\"https://colab.research.google.com/github/michael-adci/CSC101-Introduction-to-Programing/blob/main/Week%205%20Notebooks/Activity_2_Build_A_Bot_Mastering_Loops_and_Lists_in_Python.ipynb\" target=\"_parent\"><img src=\"https://colab.research.google.com/assets/colab-badge.svg\" alt=\"Open In Colab\"/></a>"
      ]
    },
    {
      "cell_type": "markdown",
      "metadata": {
        "id": "TLTZMvrKW3wO"
      },
      "source": [
        "## 🎯 Learning Objectives\n",
        "\n",
        "By the end of this activity, you will be able to:\n",
        "* Create and use loops to repeat code execution multiple times\n",
        "* Build and manipulate lists to store and access collections of data\n",
        "* Apply loops and lists together to build a simple interactive chatbot\n",
        "\n",
        "## 🚀 Introduction\n",
        "\n",
        "Loops and lists are fundamental building blocks in programming that allow us to work with collections of data and repeat actions efficiently. In today's digital world, these concepts power everything from social media feeds to recommendation systems. This worksheet will guide you through building your own simple chatbot using these powerful tools.\n",
        "\n",
        "## 🧠 Key Concepts\n",
        "\n",
        "* **Loop**: A programming structure that repeats a sequence of instructions until a specific condition is met\n",
        "* **List**: An ordered collection of items that can be changed or modified\n",
        "* **Iteration**: The process of repeatedly executing a set of statements\n",
        "* **Selection**: Using conditional statements to choose different paths in your program\n",
        "* **Index**: A position number used to access items in a list (starting from 0)\n",
        "\n",
        "## 🤖 Activity 1: One-Shot Bot Response (Sequence)\n",
        "\n",
        "Let's start by creating a simple bot that can respond to a single question. This helps us understand the basic flow before adding loops and lists."
      ]
    },
    {
      "cell_type": "code",
      "source": [
        "!wget https://github.com/teaching-repositories/ISYS2001-ISYS5002/raw/refs/heads/main/libs/simple_bot-0.1-cp311-cp311-linux_x86_64.whl\n",
        "!pip install simple_bot-0.1-cp311-cp311-linux_x86_64.whl"
      ],
      "metadata": {
        "id": "9lDDjELsW5EK"
      },
      "execution_count": null,
      "outputs": []
    },
    {
      "cell_type": "code",
      "execution_count": null,
      "metadata": {
        "id": "MzujSd1eW3wP"
      },
      "outputs": [],
      "source": [
        "# Import the simple_bot package that connects to a local Ollama server\n",
        "from simple_bot import get_response\n",
        "\n",
        "# Try it out with a single question\n",
        "question = input(\"Ask the bot something: \")\n",
        "print(\"Bot:\", get_response(question))"
      ]
    },
    {
      "cell_type": "markdown",
      "metadata": {
        "id": "98KmJCieW3wQ"
      },
      "source": [
        "**Your Turn**: What other keywords could you add to the response function? Write down two more keywords and responses you'd like to add:\n",
        "\n",
        "1. Keyword: ________________ Response: ________________________________\n",
        "2. Keyword: ________________ Response: ________________________________\n",
        "\n",
        "## 🔄 Activity 2: Creating a Looping Bot (Repetition)\n",
        "\n",
        "Now, let's enhance our bot to continue the conversation using a loop! This will allow the bot to keep responding until the user decides to end the conversation."
      ]
    },
    {
      "cell_type": "code",
      "execution_count": null,
      "metadata": {
        "id": "REF2ta49W3wQ"
      },
      "outputs": [],
      "source": [
        "print(\"\\nWelcome to LoopBot! Ask me anything! Type 'bye' to quit.\")\n",
        "\n",
        "# Create a loop that continues until the user says 'bye'\n",
        "while True:\n",
        "    user_input = input(\"You: \")\n",
        "\n",
        "    # Check if the user wants to exit\n",
        "    if user_input.lower() in [\"bye\", \"quit\", \"exit\"]:\n",
        "        print(\"Bot: Goodbye! 👋\")\n",
        "        break  # Exit the loop\n",
        "\n",
        "    # Get and display the bot's response\n",
        "    reply = get_response(user_input)\n",
        "    print(\"Bot:\", reply)"
      ]
    },
    {
      "cell_type": "markdown",
      "metadata": {
        "id": "XDml6ZNjW3wQ"
      },
      "source": [
        "**Understanding the Code**:\n",
        "- `while True:` creates an infinite loop that will keep running until we explicitly break out of it\n",
        "- `break` is used to exit the loop when the user types 'bye', 'quit', or 'exit'\n",
        "- The loop allows continuous interaction between the user and bot\n",
        "\n",
        "## 📋 Activity 3: Adding Memory with Lists\n",
        "\n",
        "Let's make our bot smarter by giving it a memory! We'll use a list to store the conversation history."
      ]
    },
    {
      "cell_type": "code",
      "execution_count": null,
      "metadata": {
        "id": "0ofuVAbwW3wR"
      },
      "outputs": [],
      "source": [
        "print(\"\\nWelcome to MemoryBot! I'll try to remember what you say.\")\n",
        "\n",
        "# Create an empty list to store the conversation history\n",
        "memory = []\n",
        "\n",
        "while True:\n",
        "    user_input = input(\"You: \")\n",
        "\n",
        "    # Check if the user wants to exit\n",
        "    if user_input.lower() in [\"bye\", \"quit\", \"exit\"]:\n",
        "        print(\"Bot: Chat ended. I remembered\", len(memory), \"messages. Bye! 👋\")\n",
        "        break\n",
        "\n",
        "    # Add the user's input to our memory list\n",
        "    memory.append(user_input)\n",
        "\n",
        "    # Display the bot's response\n",
        "    response = get_response(user_input)\n",
        "    print(\"Bot:\", response)\n",
        "\n",
        "    # Show the user what's in the bot's memory if they ask\n",
        "    if \"what do you remember\" in user_input.lower():\n",
        "        print(\"Bot memory contains:\")\n",
        "        for i, message in enumerate(memory):\n",
        "            print(f\"  {i+1}. {message}\")"
      ]
    },
    {
      "cell_type": "markdown",
      "metadata": {
        "id": "KLvkwD8lW3wR"
      },
      "source": [
        "**List Operations Explained**:\n",
        "- `memory = []` creates an empty list\n",
        "- `memory.append(user_input)` adds the user's input to the end of the list\n",
        "- `len(memory)` returns the number of items in the list\n",
        "- `for i, message in enumerate(memory):` iterates through each item in the list with its position\n",
        "\n",
        "## 🧪 Activity 4: Enhanced Memory Bot Challenge\n",
        "\n",
        "Now let's create a more sophisticated bot that:\n",
        "1. Remembers only the last 3 messages (to avoid memory overload)\n",
        "2. Provides context to the AI by sending previous messages\n",
        "3. Provides a help menu with commands\n",
        "\n",
        "```python\n",
        "# This is example code - study it and then implement your own version below\n",
        "print(\"\\nAdvanced MemoryBot Example (non-executable)\")\n",
        "\n",
        "memory = []  # List to store messages\n",
        "commands = [\"help\", \"memory\", \"clear\", \"bye\"]  # List of available commands\n",
        "\n",
        "while True:\n",
        "    user_input = input(\"You: \")\n",
        "    \n",
        "    if user_input.lower() == \"bye\":\n",
        "        print(\"Bot: Goodbye!\")\n",
        "        break\n",
        "    elif user_input.lower() == \"help\":\n",
        "        print(\"Available commands:\", \", \".join(commands))\n",
        "    elif user_input.lower() == \"memory\":\n",
        "        print(\"I remember:\", memory)\n",
        "    elif user_input.lower() == \"clear\":\n",
        "        memory = []  # Clear the list\n",
        "        print(\"Memory cleared!\")\n",
        "    else:\n",
        "        memory.append(user_input)\n",
        "        # Keep only the last 3 items\n",
        "        if len(memory) > 3:\n",
        "            memory = memory[-3:]  # List slicing to keep only the last 3 items\n",
        "        \n",
        "        # Join the memory items with newlines to create context\n",
        "        context = \"\\n\".join(memory)\n",
        "        \n",
        "        # Send the context to get a more informed response\n",
        "        print(\"Bot:\", get_response(context))\n",
        "        print(\"(Memory size:\", len(memory), \"messages)\")\n",
        "```\n",
        "\n",
        "**Your Implementation**: Now create your own enhanced memory bot below:"
      ]
    },
    {
      "cell_type": "code",
      "execution_count": null,
      "metadata": {
        "id": "P3BEmWVQW3wR"
      },
      "outputs": [],
      "source": [
        "# Your enhanced memory bot implementation\n",
        "print(\"\\nYour Advanced MemoryBot! Type 'help' for commands.\")\n",
        "\n",
        "# Import the needed package\n",
        "from simple_bot import get_response\n",
        "\n",
        "# Create your lists and initialize variables here\n",
        "memory = []\n",
        "commands = [\"help\", \"memory\", \"clear\", \"bye\"]\n",
        "\n",
        "# Write your loop here\n",
        "while True:\n",
        "    user_input = input(\"You: \")\n",
        "\n",
        "    # Implement the command handling and memory management\n",
        "    # ...\n",
        "\n",
        "    # Don't forget to test your code!"
      ]
    },
    {
      "cell_type": "markdown",
      "metadata": {
        "id": "zugyJD_vW3wR"
      },
      "source": [
        "## 🌟 Extension: Personality Bot Challenge\n",
        "\n",
        "For those who finish early, try creating a bot with different personalities! The `simple_bot` package includes some personality options like `pirate_bot` and `emoji_bot`. Use a list to store multiple personality options and let the user choose between them."
      ]
    },
    {
      "cell_type": "code",
      "execution_count": null,
      "metadata": {
        "id": "wLtetEsJW3wR"
      },
      "outputs": [],
      "source": [
        "# Import personality bots from the simple_bot package\n",
        "from simple_bot import get_response, pirate_bot, emoji_bot\n",
        "\n",
        "# Define an additional personality option\n",
        "def formal_bot(message):\n",
        "    return \"I must say, \" + get_response(message) + \" Most certainly.\"\n",
        "\n",
        "# List of available personalities\n",
        "personalities = [\"regular\", \"pirate\", \"emoji\", \"formal\"]\n",
        "current_personality = \"regular\"\n",
        "\n",
        "print(\"\\nMulti-Personality Bot! Type 'personalities' to see options.\")\n",
        "\n",
        "while True:\n",
        "    user_input = input(\"You: \")\n",
        "\n",
        "    if user_input.lower() == \"bye\":\n",
        "        print(\"Bot: Until next time!\")\n",
        "        break\n",
        "    elif user_input.lower() == \"personalities\":\n",
        "        print(\"Available personalities:\", \", \".join(personalities))\n",
        "        print(\"To change, type 'switch to [personality]'\")\n",
        "    elif user_input.lower().startswith(\"switch to \"):\n",
        "        # Extract the requested personality from the user input\n",
        "        requested = user_input.lower().replace(\"switch to \", \"\")\n",
        "        if requested in personalities:\n",
        "            current_personality = requested\n",
        "            print(f\"Bot: Switched to {current_personality} personality!\")\n",
        "        else:\n",
        "            print(\"Bot: I don't know that personality yet.\")\n",
        "    else:\n",
        "        # Respond based on the current personality\n",
        "        if current_personality == \"regular\":\n",
        "            print(\"Bot:\", get_response(user_input))\n",
        "        elif current_personality == \"pirate\":\n",
        "            print(\"PirateBot:\", pirate_bot(user_input))\n",
        "        elif current_personality == \"emoji\":\n",
        "            print(\"EmojiBot:\", emoji_bot(user_input))\n",
        "        elif current_personality == \"formal\":\n",
        "            print(\"FormalBot:\", formal_bot(user_input))"
      ]
    },
    {
      "cell_type": "markdown",
      "metadata": {
        "id": "9DrZohswW3wS"
      },
      "source": [
        "## 🤔 Reflection\n",
        "\n",
        "Take a moment to reflect on what you've learned:\n",
        "\n",
        "1. How could loops make your programs more efficient?\n",
        "2. What types of data would be useful to store in lists in your everyday applications?\n",
        "3. How could you further enhance your bot using the concepts learned today?\n",
        "\n",
        "## 🚀 Going Further\n",
        "\n",
        "As you continue learning, consider these additional features you could add to your bot:\n",
        "- Using nested lists to organize different categories of responses\n",
        "- Creating a custom bot personality with a special system prompt\n",
        "- Implementing file I/O to save your bot's memory between sessions\n",
        "- Exploring dictionaries as another way to store data\n",
        "\n",
        "```python\n",
        "# Example of creating a custom bot personality with a system prompt\n",
        "def my_bot(prompt):\n",
        "    return get_response(prompt, system=\"You are a wise old dragon who answers questions in riddles and ancient wisdom.\")\n",
        "\n",
        "print(my_bot(\"How do I debug my code?\"))\n",
        "```\n",
        "\n",
        "Remember: loops and lists are fundamental concepts that will appear in virtually every Python program you write throughout your programming journey!"
      ]
    }
  ],
  "metadata": {
    "kernelspec": {
      "display_name": "Python 3 (ipykernel)",
      "language": "python",
      "name": "python3"
    },
    "colab": {
      "provenance": [],
      "include_colab_link": true
    }
  },
  "nbformat": 4,
  "nbformat_minor": 0
}