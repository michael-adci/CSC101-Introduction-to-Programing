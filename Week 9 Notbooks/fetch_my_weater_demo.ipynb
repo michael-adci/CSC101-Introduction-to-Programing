{
  "nbformat": 4,
  "nbformat_minor": 0,
  "metadata": {
    "colab": {
      "provenance": [],
      "authorship_tag": "ABX9TyPAegrsZNGe5aqSs9wRCUwi",
      "include_colab_link": true
    },
    "kernelspec": {
      "name": "python3",
      "display_name": "Python 3"
    },
    "language_info": {
      "name": "python"
    }
  },
  "cells": [
    {
      "cell_type": "markdown",
      "metadata": {
        "id": "view-in-github",
        "colab_type": "text"
      },
      "source": [
        "<a href=\"https://colab.research.google.com/github/michael-adci/CSC101-Introduction-to-Programing/blob/main/Week%209%20Notbooks/fetch_my_weater_demo.ipynb\" target=\"_parent\"><img src=\"https://colab.research.google.com/assets/colab-badge.svg\" alt=\"Open In Colab\"/></a>"
      ]
    },
    {
      "cell_type": "markdown",
      "source": [
        "# Learning about the program"
      ],
      "metadata": {
        "id": "21g-9A3ktK0r"
      }
    },
    {
      "cell_type": "code",
      "source": [
        "!pip install fetch-my-weather"
      ],
      "metadata": {
        "collapsed": true,
        "id": "cVkQSpOZnL_A"
      },
      "execution_count": null,
      "outputs": []
    },
    {
      "cell_type": "code",
      "execution_count": null,
      "metadata": {
        "id": "cdTCJj3xc1Je"
      },
      "outputs": [],
      "source": [
        "import fetch_my_weather\n",
        "\n",
        "# Get weather for your current location (based on IP) as JSON\n",
        "current_weather = fetch_my_weather.get_weather()\n",
        "\n",
        "# Print the temperature in Celsius\n",
        "print(f\"Temperature: {current_weather.current_condition[0].temp_C}°C\")\n"
      ]
    },
    {
      "cell_type": "code",
      "source": [
        "import fetch_my_weather\n",
        "\n",
        "# Get weather for a specific city (e.g., Paris)\n",
        "current_weather = fetch_my_weather.get_weather(location=\"Paris\")\n",
        "\n",
        "# Print the temperature in Celsius\n",
        "print(f\"Temperature: {current_weather.current_condition[0].temp_C}°C\")\n"
      ],
      "metadata": {
        "id": "cBVU7O_6njq3"
      },
      "execution_count": null,
      "outputs": []
    },
    {
      "cell_type": "code",
      "source": [
        "import fetch_my_weather\n",
        "\n",
        "# Get weather for your current location (based on IP) as JSON\n",
        "current_weather = fetch_my_weather.get_weather()\n",
        "\n",
        "# Print the location and temperature in Celsius\n",
        "location = current_weather.nearest_area[0].areaName[0].value\n",
        "country = current_weather.nearest_area[0].country[0].value\n",
        "print(f\"Location: {location}, {country}\")\n",
        "print(f\"Temperature: {current_weather.current_condition[0].temp_C}°C\")\n"
      ],
      "metadata": {
        "id": "43k44q62nkTP"
      },
      "execution_count": null,
      "outputs": []
    },
    {
      "cell_type": "code",
      "source": [
        "import fetch_my_weather\n",
        "\n",
        "# Disable mock mode for this request\n",
        "current_weather = fetch_my_weather.get_weather(location=\"Perth\", use_mock=False)\n",
        "\n",
        "# Print the location and temperature in Celsius\n",
        "location = current_weather.nearest_area[0].areaName[0].value\n",
        "country = current_weather.nearest_area[0].country[0].value\n",
        "print(f\"Location: {location}, {country}\")\n",
        "print(f\"Temperature: {current_weather.current_condition[0].temp_C}°C\")\n"
      ],
      "metadata": {
        "id": "tAoY7Qj-nzGn"
      },
      "execution_count": null,
      "outputs": []
    },
    {
      "cell_type": "code",
      "source": [
        "import fetch_my_weather\n",
        "from IPython.display import display, HTML\n",
        "import ipywidgets as widgets\n",
        "\n",
        "def get_weather_for_city(city):\n",
        "    weather = fetch_my_weather.get_weather(location=city, use_mock=False)\n",
        "    if weather.current_condition:\n",
        "        current = weather.current_condition[0]\n",
        "        return f\"{city}: {current.temp_C}°C, {current.weatherDesc[0].value}\"\n",
        "    else:\n",
        "        return f\"{city}: Weather data not available\"\n",
        "\n",
        "def display_weather(cities):\n",
        "    city_list = [city.strip() for city in cities.split(',')]\n",
        "    weather_info = [get_weather_for_city(city) for city in city_list]\n",
        "    display(HTML(\"<br>\".join(weather_info)))\n",
        "\n",
        "# Create a text input widget for cities\n",
        "city_input = widgets.Text(\n",
        "    value='',\n",
        "    placeholder='Enter cities separated by commas',\n",
        "    description='Cities:',\n",
        "    disabled=False\n",
        ")\n",
        "\n",
        "# Create a button to fetch and display weather\n",
        "fetch_button = widgets.Button(\n",
        "    description='Get Weather',\n",
        "    disabled=False,\n",
        "    button_style='',\n",
        "    tooltip='Click to get weather',\n",
        "    icon='cloud'\n",
        ")\n",
        "\n",
        "# Define the button click event handler\n",
        "def on_button_click(b):\n",
        "    display_weather(city_input.value)\n",
        "\n",
        "fetch_button.on_click(on_button_click)\n",
        "\n",
        "# Display the input widget and button\n",
        "display(city_input, fetch_button)\n"
      ],
      "metadata": {
        "id": "OpixA5i2oY53"
      },
      "execution_count": null,
      "outputs": []
    },
    {
      "cell_type": "code",
      "source": [
        "import fetch_my_weather\n",
        "from IPython.display import display, HTML, clear_output\n",
        "import ipywidgets as widgets\n",
        "\n",
        "def get_weather_for_city(city):\n",
        "    weather = fetch_my_weather.get_weather(location=city, use_mock=False)\n",
        "    if weather.current_condition:\n",
        "        current = weather.current_condition[0]\n",
        "        return f\"{city}: {current.temp_C}°C, {current.weatherDesc[0].value}\"\n",
        "    else:\n",
        "        return f\"{city}: Weather data not available\"\n",
        "\n",
        "def display_weather(cities):\n",
        "    city_list = [city.strip() for city in cities.split(',')]\n",
        "    weather_info = [get_weather_for_city(city) for city in city_list]\n",
        "    clear_output(wait=True)\n",
        "    display(HTML(\"<br>\".join(weather_info)))\n",
        "\n",
        "# Create a text input widget for cities\n",
        "city_input = widgets.Text(\n",
        "    value='',\n",
        "    placeholder='Enter cities separated by commas',\n",
        "    description='Cities:',\n",
        "    disabled=False\n",
        ")\n",
        "\n",
        "# Create a button to fetch and display weather\n",
        "fetch_button = widgets.Button(\n",
        "    description='Get Weather',\n",
        "    disabled=False,\n",
        "    button_style='',\n",
        "    tooltip='Click to get weather',\n",
        "    icon='cloud'\n",
        ")\n",
        "\n",
        "# Define the button click event handler\n",
        "def on_button_click(b):\n",
        "    display_weather(city_input.value)\n",
        "\n",
        "fetch_button.on_click(on_button_click)\n",
        "\n",
        "# Display the input widget and button\n",
        "display(city_input, fetch_button)\n"
      ],
      "metadata": {
        "id": "-2pR5fWlqE9V"
      },
      "execution_count": null,
      "outputs": []
    },
    {
      "cell_type": "code",
      "source": [
        "import fetch_my_weather\n",
        "from IPython.display import display, HTML, clear_output\n",
        "import ipywidgets as widgets\n",
        "\n",
        "def get_weather_for_city(city):\n",
        "    weather = fetch_my_weather.get_weather(location=city, use_mock=False)\n",
        "    if weather.current_condition:\n",
        "        current = weather.current_condition[0]\n",
        "        return f\"{city}: {current.temp_C}°C, {current.weatherDesc[0].value}\"\n",
        "    else:\n",
        "        return f\"{city}: Weather data not available\"\n",
        "\n",
        "def display_weather(cities):\n",
        "    city_list = [city.strip() for city in cities.split(',')]\n",
        "    weather_info = [get_weather_for_city(city) for city in city_list]\n",
        "    with output:\n",
        "        clear_output(wait=True)\n",
        "        display(HTML(\"<br>\".join(weather_info)))\n",
        "\n",
        "# Create a text input widget for cities\n",
        "city_input = widgets.Text(\n",
        "    value='',\n",
        "    placeholder='Enter cities separated by commas',\n",
        "    description='Cities:',\n",
        "    disabled=False\n",
        ")\n",
        "\n",
        "# Create a button to fetch and display weather\n",
        "fetch_button = widgets.Button(\n",
        "    description='Get Weather',\n",
        "    disabled=False,\n",
        "    button_style='',\n",
        "    tooltip='Click to get weather',\n",
        "    icon='cloud'\n",
        ")\n",
        "\n",
        "# Define the button click event handler\n",
        "def on_button_click(b):\n",
        "    display_weather(city_input.value)\n",
        "\n",
        "fetch_button.on_click(on_button_click)\n",
        "\n",
        "# Create an output widget to display the weather information\n",
        "output = widgets.Output()\n",
        "\n",
        "# Display the input widget, button, and output widget\n",
        "display(city_input, fetch_button, output)\n"
      ],
      "metadata": {
        "id": "PjEu7SABqf21"
      },
      "execution_count": null,
      "outputs": []
    },
    {
      "cell_type": "code",
      "source": [
        "import fetch_my_weather\n",
        "from IPython.display import display, clear_output\n",
        "import ipywidgets as widgets\n",
        "\n",
        "def get_weather_for_city(city):\n",
        "    weather = fetch_my_weather.get_weather(location=city, format=\"text\", use_mock=False)\n",
        "    return f\"Weather for {city}:\\n{weather}\"\n",
        "\n",
        "def display_weather(cities):\n",
        "    city_list = [city.strip() for city in cities.split(',')]\n",
        "    weather_info = [get_weather_for_city(city) for city in city_list]\n",
        "    with output:\n",
        "        clear_output(wait=True)\n",
        "        display(widgets.HTML(\"<pre>\" + \"\\n\\n\".join(weather_info) + \"</pre>\"))\n",
        "\n",
        "# Create a text input widget for cities\n",
        "city_input = widgets.Text(\n",
        "    value='',\n",
        "    placeholder='Enter cities separated by commas',\n",
        "    description='Cities:',\n",
        "    disabled=False\n",
        ")\n",
        "\n",
        "# Create a button to fetch and display weather\n",
        "fetch_button = widgets.Button(\n",
        "    description='Get Weather',\n",
        "    disabled=False,\n",
        "    button_style='',\n",
        "    tooltip='Click to get weather',\n",
        "    icon='cloud'\n",
        ")\n",
        "\n",
        "# Define the button click event handler\n",
        "def on_button_click(b):\n",
        "    display_weather(city_input.value)\n",
        "\n",
        "fetch_button.on_click(on_button_click)\n",
        "\n",
        "# Create an output widget to display the weather information\n",
        "output = widgets.Output()\n",
        "\n",
        "# Display the input widget, button, and output widget\n",
        "display(city_input, fetch_button, output)\n"
      ],
      "metadata": {
        "collapsed": true,
        "id": "8A_wAZwXqvTd"
      },
      "execution_count": null,
      "outputs": []
    },
    {
      "cell_type": "code",
      "source": [
        "import fetch_my_weather\n",
        "from IPython.display import display, clear_output\n",
        "import ipywidgets as widgets\n",
        "\n",
        "def get_weather_for_city(city):\n",
        "    weather = fetch_my_weather.get_weather(location=city, format=\"text\", view_options=\"0\", use_mock=False)\n",
        "    return f\"Weather for {city}:\\n{weather}\"\n",
        "\n",
        "def display_weather(cities):\n",
        "    city_list = [city.strip() for city in cities.split(',')]\n",
        "    weather_info = [get_weather_for_city(city) for city in city_list]\n",
        "    with output:\n",
        "        clear_output(wait=True)\n",
        "        display(widgets.HTML(\"<pre>\" + \"\\n\\n\".join(weather_info) + \"</pre>\"))\n",
        "\n",
        "# Create a text input widget for cities\n",
        "city_input = widgets.Text(\n",
        "    value='',\n",
        "    placeholder='Enter cities separated by commas',\n",
        "    description='Cities:',\n",
        "    disabled=False\n",
        ")\n",
        "\n",
        "# Create a button to fetch and display weather\n",
        "fetch_button = widgets.Button(\n",
        "    description='Get Weather',\n",
        "    disabled=False,\n",
        "    button_style='',\n",
        "    tooltip='Click to get weather',\n",
        "    icon='cloud'\n",
        ")\n",
        "\n",
        "# Define the button click event handler\n",
        "def on_button_click(b):\n",
        "    display_weather(city_input.value)\n",
        "\n",
        "fetch_button.on_click(on_button_click)\n",
        "\n",
        "# Create an output widget to display the weather information\n",
        "output = widgets.Output()\n",
        "\n",
        "# Display the input widget, button, and output widget\n",
        "display(city_input, fetch_button, output)\n"
      ],
      "metadata": {
        "id": "tVsr3BiFrA3V"
      },
      "execution_count": null,
      "outputs": []
    },
    {
      "cell_type": "code",
      "source": [
        "import fetch_my_weather\n",
        "from IPython.display import display, clear_output\n",
        "import ipywidgets as widgets\n",
        "import re\n",
        "\n",
        "def strip_ansi_codes(text):\n",
        "    ansi_escape = re.compile(r'\\x1B[@-_][0-?]*[ -/]*[@-~]')\n",
        "    return ansi_escape.sub('', text)\n",
        "\n",
        "def get_weather_for_city(city):\n",
        "    weather = fetch_my_weather.get_weather(location=city, format=\"text\", view_options=\"0\", use_mock=False)\n",
        "    return f\"Weather for {city}:\\n{strip_ansi_codes(weather)}\"\n",
        "\n",
        "def display_weather(cities):\n",
        "    city_list = [city.strip() for city in cities.split(',')]\n",
        "    weather_info = [get_weather_for_city(city) for city in city_list]\n",
        "    with output:\n",
        "        clear_output(wait=True)\n",
        "        display(widgets.HTML(\"<pre>\" + \"\\n\\n\".join(weather_info) + \"</pre>\"))\n",
        "\n",
        "# Create a text input widget for cities\n",
        "city_input = widgets.Text(\n",
        "    value='',\n",
        "    placeholder='Enter cities separated by commas',\n",
        "    description='Cities:',\n",
        "    disabled=False\n",
        ")\n",
        "\n",
        "# Create a button to fetch and display weather\n",
        "fetch_button = widgets.Button(\n",
        "    description='Get Weather',\n",
        "    disabled=False,\n",
        "    button_style='',\n",
        "    tooltip='Click to get weather',\n",
        "    icon='cloud'\n",
        ")\n",
        "\n",
        "# Define the button click event handler\n",
        "def on_button_click(b):\n",
        "    display_weather(city_input.value)\n",
        "\n",
        "fetch_button.on_click(on_button_click)\n",
        "\n",
        "# Create an output widget to display the weather information\n",
        "output = widgets.Output()\n",
        "\n",
        "# Display the input widget, button, and output widget\n",
        "display(city_input, fetch_button, output)\n"
      ],
      "metadata": {
        "id": "Q6xrM0Xbrc1V"
      },
      "execution_count": null,
      "outputs": []
    },
    {
      "cell_type": "code",
      "source": [
        "import fetch_my_weather\n",
        "from IPython.display import display, clear_output\n",
        "import ipywidgets as widgets\n",
        "import re\n",
        "\n",
        "def strip_ansi_codes(text):\n",
        "    ansi_escape = re.compile(r'\\x1B[@-_][0-?]*[ -/]*[@-~]')\n",
        "    return ansi_escape.sub('', text)\n",
        "\n",
        "def get_weather_for_city(city):\n",
        "    weather = fetch_my_weather.get_weather(location=city, format=\"text\", view_options=\"0\", use_mock=False)\n",
        "    return f\"<div style='display: inline-block; margin: 10px;'><pre>Weather for {city}:\\n{strip_ansi_codes(weather)}</pre></div>\"\n",
        "\n",
        "def display_weather(cities):\n",
        "    city_list = [city.strip() for city in cities.split(',')]\n",
        "    weather_info = [get_weather_for_city(city) for city in city_list]\n",
        "    with output:\n",
        "        clear_output(wait=True)\n",
        "        display(widgets.HTML(\"<div style='display: flex; flex-wrap: wrap;'>\" + \"\".join(weather_info) + \"</div>\"))\n",
        "\n",
        "def main():\n",
        "    # Create a text input widget for cities\n",
        "    city_input = widgets.Text(\n",
        "        value='',\n",
        "        placeholder='Enter cities separated by commas',\n",
        "        description='Cities:',\n",
        "        disabled=False\n",
        "    )\n",
        "\n",
        "    # Create a button to fetch and display weather\n",
        "    fetch_button = widgets.Button(\n",
        "        description='Get Weather',\n",
        "        disabled=False,\n",
        "        button_style='',\n",
        "        tooltip='Click to get weather',\n",
        "        icon='cloud'\n",
        "    )\n",
        "\n",
        "    # Define the button click event handler\n",
        "    def on_button_click(b):\n",
        "        display_weather(city_input.value)\n",
        "\n",
        "    fetch_button.on_click(on_button_click)\n",
        "\n",
        "    # Create an output widget to display the weather information\n",
        "    output = widgets.Output()\n",
        "\n",
        "    # Display the input widget, button, and output widget\n",
        "    display(city_input, fetch_button, output)\n",
        "\n"
      ],
      "metadata": {
        "id": "wvvDrsourt4U"
      },
      "execution_count": null,
      "outputs": []
    },
    {
      "cell_type": "markdown",
      "source": [
        "# Run the Program"
      ],
      "metadata": {
        "id": "tTwqFGfFtFeS"
      }
    },
    {
      "cell_type": "code",
      "source": [
        "# Run the main function\n",
        "main()\n"
      ],
      "metadata": {
        "id": "iu-6mIIxr-r7"
      },
      "execution_count": null,
      "outputs": []
    }
  ]
}