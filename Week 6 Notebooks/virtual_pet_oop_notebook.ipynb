{
  "cells": [
    {
      "cell_type": "markdown",
      "metadata": {
        "id": "view-in-github",
        "colab_type": "text"
      },
      "source": [
        "<a href=\"https://colab.research.google.com/github/michael-adci/CSC101-Introduction-to-Programing/blob/main/Week%206%20Notebooks/virtual_pet_oop_notebook.ipynb\" target=\"_parent\"><img src=\"https://colab.research.google.com/assets/colab-badge.svg\" alt=\"Open In Colab\"/></a>"
      ]
    },
    {
      "cell_type": "markdown",
      "metadata": {
        "id": "0KjStvU6S5Sa"
      },
      "source": [
        "# 🐾 Virtual Pet Game: OOP in Python\n",
        "\n",
        "Welcome to the **Tamagotchi-style Pet Game**! In this notebook, you'll learn how to use **Object-Oriented Programming (OOP)** to simulate a virtual pet that you can feed, play with, and take care of.\n",
        "\n",
        "By the end of this notebook, you will:\n",
        "- Understand classes, attributes, and methods\n",
        "- Build a `Pet` class\n",
        "- Create a game loop using your class\n",
        "- Use your code to interact with your virtual pet\n",
        "\n",
        "---"
      ],
      "id": "0KjStvU6S5Sa"
    },
    {
      "cell_type": "markdown",
      "metadata": {
        "id": "PGst12iOS5Sb"
      },
      "source": [
        "## 🎯 Step 1: Understand the Problem\n",
        "\n",
        "You're designing a virtual pet. It starts happy and healthy, but you must take care of it!\n",
        "\n",
        "**Your pet can:**\n",
        "- `eat()` to gain energy\n",
        "- `sleep()` to restore health\n",
        "- `play()` to stay happy\n",
        "- `get_sick()` if it's neglected\n",
        "- `status()` to see how it's doing\n",
        "\n",
        "If your pet’s `health`, `happiness`, or `energy` drops to 0, it may get sick or die."
      ],
      "id": "PGst12iOS5Sb"
    },
    {
      "cell_type": "markdown",
      "metadata": {
        "id": "ohRW69BBS5Sb"
      },
      "source": [
        "## 🔨 Step 2: Define the Pet Class\n",
        "\n",
        "Let’s start by defining a simple `Pet` class with attributes and methods."
      ],
      "id": "ohRW69BBS5Sb"
    },
    {
      "cell_type": "code",
      "metadata": {
        "id": "6iV7B-4pS5Sc"
      },
      "execution_count": null,
      "outputs": [],
      "source": [
        "class Pet:\n",
        "    def __init__(self, name):\n",
        "        self.name = name\n",
        "        self.health = 10\n",
        "        self.energy = 10\n",
        "        self.happiness = 10\n",
        "        self.is_alive = True\n",
        "\n",
        "    def eat(self):\n",
        "        self.energy += 2\n",
        "        print(f\"{self.name} eats and gains energy!\")\n",
        "\n",
        "    def sleep(self):\n",
        "        self.health += 2\n",
        "        print(f\"{self.name} sleeps and feels healthier.\")\n",
        "\n",
        "    def play(self):\n",
        "        self.happiness += 2\n",
        "        self.energy -= 1\n",
        "        print(f\"{self.name} plays and feels happy!\")\n",
        "\n",
        "    def get_sick(self):\n",
        "        self.health -= 3\n",
        "        print(f\"Oh no! {self.name} is sick.\")\n",
        "\n",
        "    def status(self):\n",
        "        print(f\"{self.name} - Health: {self.health}, Energy: {self.energy}, Happiness: {self.happiness}\")\n",
        "        if self.health <= 0 or self.energy <= 0 or self.happiness <= 0:\n",
        "            self.is_alive = False\n",
        "            print(f\"Sadly, {self.name} has passed away.\")"
      ],
      "id": "6iV7B-4pS5Sc"
    },
    {
      "cell_type": "markdown",
      "metadata": {
        "id": "w3NGuor4S5Sc"
      },
      "source": [
        "## 🔁 Step 3: Create a Game Loop\n",
        "\n",
        "Let’s interact with your pet using a loop. You can:\n",
        "- feed it\n",
        "- put it to sleep\n",
        "- play with it\n",
        "- check its status"
      ],
      "id": "w3NGuor4S5Sc"
    },
    {
      "cell_type": "code",
      "metadata": {
        "id": "A-7FRvGDS5Sc"
      },
      "execution_count": null,
      "outputs": [],
      "source": [
        "my_pet = Pet(\"Fluffy\")\n",
        "\n",
        "while my_pet.is_alive:\n",
        "    action = input(\"What would you like Fluffy to do? (eat/sleep/play/status/quit): \").lower()\n",
        "    if action == \"eat\":\n",
        "        my_pet.eat()\n",
        "    elif action == \"sleep\":\n",
        "        my_pet.sleep()\n",
        "    elif action == \"play\":\n",
        "        my_pet.play()\n",
        "    elif action == \"status\":\n",
        "        my_pet.status()\n",
        "    elif action == \"quit\":\n",
        "        print(\"Thanks for playing!\")\n",
        "        break\n",
        "    else:\n",
        "        print(\"Invalid action. Try again.\")\n",
        "\n",
        "    # Random sickness if energy or happiness is low\n",
        "    if my_pet.energy < 3 or my_pet.happiness < 3:\n",
        "        my_pet.get_sick()\n",
        "\n",
        "    my_pet.status()"
      ],
      "id": "A-7FRvGDS5Sc"
    },
    {
      "cell_type": "markdown",
      "metadata": {
        "id": "81oNUDoMS5Sc"
      },
      "source": [
        "## 🚀 Challenge: Add More Features\n",
        "\n",
        "1. Add a `treat()` method that increases health.\n",
        "2. Add a `days_survived` counter.\n",
        "3. Prevent stats from going above 10.\n",
        "4. Add levels or aging!\n",
        "\n",
        "Want help? Ask your AI assistant for ideas and code!"
      ],
      "id": "81oNUDoMS5Sc"
    },
    {
      "cell_type": "code",
      "source": [
        "import random\n",
        "\n",
        "def create_pet(name):\n",
        "    \"\"\"Create a new pet with the given name.\"\"\"\n",
        "    return {\n",
        "        \"name\": name,\n",
        "        \"health\": 10,\n",
        "        \"energy\": 10,\n",
        "        \"happiness\": 10,\n",
        "        \"is_alive\": True\n",
        "    }\n",
        "\n",
        "def eat(pet):\n",
        "    \"\"\"Feed the pet and increase its energy.\"\"\"\n",
        "    pet[\"energy\"] += 2\n",
        "    print(f\"{pet['name']} eats and gains energy!\")\n",
        "\n",
        "def sleep(pet):\n",
        "    \"\"\"Put the pet to sleep and increase its health.\"\"\"\n",
        "    pet[\"health\"] += 2\n",
        "    print(f\"{pet['name']} sleeps and feels healthier.\")\n",
        "\n",
        "def play(pet):\n",
        "    \"\"\"Play with the pet and increase its happiness.\"\"\"\n",
        "    pet[\"happiness\"] += 2\n",
        "    pet[\"energy\"] -= 1\n",
        "    print(f\"{pet['name']} plays and feels happy!\")\n",
        "\n",
        "def get_sick(pet):\n",
        "    \"\"\"Make the pet sick and decrease its health.\"\"\"\n",
        "    pet[\"health\"] -= 3\n",
        "    print(f\"Oh no! {pet['name']} is sick.\")\n",
        "\n",
        "def status(pet):\n",
        "    \"\"\"Print the pet's status and check if it's alive.\"\"\"\n",
        "    print(f\"{pet['name']} - Health: {pet['health']}, Energy: {pet['energy']}, Happiness: {pet['happiness']}\")\n",
        "    if pet[\"health\"] <= 0 or pet[\"energy\"] <= 0 or pet[\"happiness\"] <= 0:\n",
        "        pet[\"is_alive\"] = False\n",
        "        print(f\"Sadly, {pet['name']} has passed away.\")\n",
        "\n",
        "def main():\n",
        "    pet_name = \"Fluffy\"\n",
        "    pet = create_pet(pet_name)\n",
        "\n",
        "    while pet[\"is_alive\"]:\n",
        "        action = input(f\"What would you like {pet_name} to do? (eat/sleep/play/status/quit): \").lower()\n",
        "        if action == \"eat\":\n",
        "            eat(pet)\n",
        "        elif action == \"sleep\":\n",
        "            sleep(pet)\n",
        "        elif action == \"play\":\n",
        "            play(pet)\n",
        "        elif action == \"status\":\n",
        "            status(pet)\n",
        "        elif action == \"quit\":\n",
        "            print(\"Thanks for playing!\")\n",
        "            break\n",
        "        else:\n",
        "            print(\"Invalid action. Try again.\")\n",
        "\n",
        "        # Random sickness if energy or happiness is low\n",
        "        if pet[\"energy\"] < 3 or pet[\"happiness\"] < 3:\n",
        "            if random.random() < 0.5:  # 50% chance of getting sick\n",
        "                get_sick(pet)\n",
        "\n",
        "        status(pet)\n",
        "\n",
        "if __name__ == \"__main__\":\n",
        "    main()"
      ],
      "metadata": {
        "colab": {
          "base_uri": "https://localhost:8080/",
          "height": 443
        },
        "id": "rA2csYLnWiiV",
        "outputId": "656738fc-8258-48dc-b358-0620975d268c"
      },
      "id": "rA2csYLnWiiV",
      "execution_count": 1,
      "outputs": [
        {
          "output_type": "stream",
          "name": "stdout",
          "text": [
            "What would you like Fluffy to do? (eat/sleep/play/status/quit): eat\n",
            "Fluffy eats and gains energy!\n",
            "Fluffy - Health: 10, Energy: 12, Happiness: 10\n",
            "What would you like Fluffy to do? (eat/sleep/play/status/quit): sleep\n",
            "Fluffy sleeps and feels healthier.\n",
            "Fluffy - Health: 12, Energy: 12, Happiness: 10\n"
          ]
        },
        {
          "output_type": "error",
          "ename": "KeyboardInterrupt",
          "evalue": "Interrupted by user",
          "traceback": [
            "\u001b[0;31m---------------------------------------------------------------------------\u001b[0m",
            "\u001b[0;31mKeyboardInterrupt\u001b[0m                         Traceback (most recent call last)",
            "\u001b[0;32m<ipython-input-1-51ce6b1bad67>\u001b[0m in \u001b[0;36m<cell line: 0>\u001b[0;34m()\u001b[0m\n\u001b[1;32m     67\u001b[0m \u001b[0;34m\u001b[0m\u001b[0m\n\u001b[1;32m     68\u001b[0m \u001b[0;32mif\u001b[0m \u001b[0m__name__\u001b[0m \u001b[0;34m==\u001b[0m \u001b[0;34m\"__main__\"\u001b[0m\u001b[0;34m:\u001b[0m\u001b[0;34m\u001b[0m\u001b[0;34m\u001b[0m\u001b[0m\n\u001b[0;32m---> 69\u001b[0;31m     \u001b[0mmain\u001b[0m\u001b[0;34m(\u001b[0m\u001b[0;34m)\u001b[0m\u001b[0;34m\u001b[0m\u001b[0;34m\u001b[0m\u001b[0m\n\u001b[0m",
            "\u001b[0;32m<ipython-input-1-51ce6b1bad67>\u001b[0m in \u001b[0;36mmain\u001b[0;34m()\u001b[0m\n\u001b[1;32m     44\u001b[0m \u001b[0;34m\u001b[0m\u001b[0m\n\u001b[1;32m     45\u001b[0m     \u001b[0;32mwhile\u001b[0m \u001b[0mpet\u001b[0m\u001b[0;34m[\u001b[0m\u001b[0;34m\"is_alive\"\u001b[0m\u001b[0;34m]\u001b[0m\u001b[0;34m:\u001b[0m\u001b[0;34m\u001b[0m\u001b[0;34m\u001b[0m\u001b[0m\n\u001b[0;32m---> 46\u001b[0;31m         \u001b[0maction\u001b[0m \u001b[0;34m=\u001b[0m \u001b[0minput\u001b[0m\u001b[0;34m(\u001b[0m\u001b[0;34mf\"What would you like {pet_name} to do? (eat/sleep/play/status/quit): \"\u001b[0m\u001b[0;34m)\u001b[0m\u001b[0;34m.\u001b[0m\u001b[0mlower\u001b[0m\u001b[0;34m(\u001b[0m\u001b[0;34m)\u001b[0m\u001b[0;34m\u001b[0m\u001b[0;34m\u001b[0m\u001b[0m\n\u001b[0m\u001b[1;32m     47\u001b[0m         \u001b[0;32mif\u001b[0m \u001b[0maction\u001b[0m \u001b[0;34m==\u001b[0m \u001b[0;34m\"eat\"\u001b[0m\u001b[0;34m:\u001b[0m\u001b[0;34m\u001b[0m\u001b[0;34m\u001b[0m\u001b[0m\n\u001b[1;32m     48\u001b[0m             \u001b[0meat\u001b[0m\u001b[0;34m(\u001b[0m\u001b[0mpet\u001b[0m\u001b[0;34m)\u001b[0m\u001b[0;34m\u001b[0m\u001b[0;34m\u001b[0m\u001b[0m\n",
            "\u001b[0;32m/usr/local/lib/python3.11/dist-packages/ipykernel/kernelbase.py\u001b[0m in \u001b[0;36mraw_input\u001b[0;34m(self, prompt)\u001b[0m\n\u001b[1;32m   1175\u001b[0m                 \u001b[0;34m\"raw_input was called, but this frontend does not support input requests.\"\u001b[0m\u001b[0;34m\u001b[0m\u001b[0;34m\u001b[0m\u001b[0m\n\u001b[1;32m   1176\u001b[0m             )\n\u001b[0;32m-> 1177\u001b[0;31m         return self._input_request(\n\u001b[0m\u001b[1;32m   1178\u001b[0m             \u001b[0mstr\u001b[0m\u001b[0;34m(\u001b[0m\u001b[0mprompt\u001b[0m\u001b[0;34m)\u001b[0m\u001b[0;34m,\u001b[0m\u001b[0;34m\u001b[0m\u001b[0;34m\u001b[0m\u001b[0m\n\u001b[1;32m   1179\u001b[0m             \u001b[0mself\u001b[0m\u001b[0;34m.\u001b[0m\u001b[0m_parent_ident\u001b[0m\u001b[0;34m[\u001b[0m\u001b[0;34m\"shell\"\u001b[0m\u001b[0;34m]\u001b[0m\u001b[0;34m,\u001b[0m\u001b[0;34m\u001b[0m\u001b[0;34m\u001b[0m\u001b[0m\n",
            "\u001b[0;32m/usr/local/lib/python3.11/dist-packages/ipykernel/kernelbase.py\u001b[0m in \u001b[0;36m_input_request\u001b[0;34m(self, prompt, ident, parent, password)\u001b[0m\n\u001b[1;32m   1217\u001b[0m             \u001b[0;32mexcept\u001b[0m \u001b[0mKeyboardInterrupt\u001b[0m\u001b[0;34m:\u001b[0m\u001b[0;34m\u001b[0m\u001b[0;34m\u001b[0m\u001b[0m\n\u001b[1;32m   1218\u001b[0m                 \u001b[0;31m# re-raise KeyboardInterrupt, to truncate traceback\u001b[0m\u001b[0;34m\u001b[0m\u001b[0;34m\u001b[0m\u001b[0m\n\u001b[0;32m-> 1219\u001b[0;31m                 \u001b[0;32mraise\u001b[0m \u001b[0mKeyboardInterrupt\u001b[0m\u001b[0;34m(\u001b[0m\u001b[0;34m\"Interrupted by user\"\u001b[0m\u001b[0;34m)\u001b[0m \u001b[0;32mfrom\u001b[0m \u001b[0;32mNone\u001b[0m\u001b[0;34m\u001b[0m\u001b[0;34m\u001b[0m\u001b[0m\n\u001b[0m\u001b[1;32m   1220\u001b[0m             \u001b[0;32mexcept\u001b[0m \u001b[0mException\u001b[0m\u001b[0;34m:\u001b[0m\u001b[0;34m\u001b[0m\u001b[0;34m\u001b[0m\u001b[0m\n\u001b[1;32m   1221\u001b[0m                 \u001b[0mself\u001b[0m\u001b[0;34m.\u001b[0m\u001b[0mlog\u001b[0m\u001b[0;34m.\u001b[0m\u001b[0mwarning\u001b[0m\u001b[0;34m(\u001b[0m\u001b[0;34m\"Invalid Message:\"\u001b[0m\u001b[0;34m,\u001b[0m \u001b[0mexc_info\u001b[0m\u001b[0;34m=\u001b[0m\u001b[0;32mTrue\u001b[0m\u001b[0;34m)\u001b[0m\u001b[0;34m\u001b[0m\u001b[0;34m\u001b[0m\u001b[0m\n",
            "\u001b[0;31mKeyboardInterrupt\u001b[0m: Interrupted by user"
          ]
        }
      ]
    },
    {
      "cell_type": "code",
      "source": [
        "def create_pet(name):\n",
        "    return {\"name\": name, \"health\": 10, \"energy\": 10, \"happiness\": 10, \"is_alive\": True}\n",
        "\n",
        "def eat(pet):\n",
        "    return {\"name\": pet[\"name\"], \"health\": pet[\"health\"], \"energy\": pet[\"energy\"] + 2, \"happiness\": pet[\"happiness\"], \"is_alive\": pet[\"is_alive\"]}\n",
        "\n",
        "def sleep(pet):\n",
        "    return {\"name\": pet[\"name\"], \"health\": pet[\"health\"] + 2, \"energy\": pet[\"energy\"], \"happiness\": pet[\"happiness\"], \"is_alive\": pet[\"is_alive\"]}\n",
        "\n",
        "def play(pet):\n",
        "    return {\"name\": pet[\"name\"], \"health\": pet[\"health\"], \"energy\": pet[\"energy\"] - 1, \"happiness\": pet[\"happiness\"] + 2, \"is_alive\": pet[\"is_alive\"]}\n",
        "\n",
        "def get_sick(pet):\n",
        "    return {\"name\": pet[\"name\"], \"health\": pet[\"health\"] - 3, \"energy\": pet[\"energy\"], \"happiness\": pet[\"happiness\"], \"is_alive\": pet[\"is_alive\"]}\n",
        "\n",
        "def status(pet):\n",
        "    print(f\"{pet['name']} - Health: {pet['health']}, Energy: {pet['energy']}, Happiness: {pet['happiness']}\")\n",
        "    if pet[\"health\"] <= 0 or pet[\"energy\"] <= 0 or pet[\"happiness\"] <= 0:\n",
        "        print(f\"Sadly, {pet['name']} has passed away.\")\n",
        "        return False\n",
        "    return True\n",
        "\n",
        "def main():\n",
        "    pet_name = \"Fluffy\"\n",
        "    pet = create_pet(pet_name)\n",
        "    while True:\n",
        "        action = input(f\"What would you like {pet_name} to do? (eat/sleep/play/status/quit): \").lower()\n",
        "        if action == \"eat\":\n",
        "            pet = eat(pet)\n",
        "        elif action == \"sleep\":\n",
        "            pet = sleep(pet)\n",
        "        elif action == \"play\":\n",
        "            pet = play(pet)\n",
        "        elif action == \"status\":\n",
        "            status(pet)\n",
        "        elif action == \"quit\":\n",
        "            print(\"Thanks for playing!\")\n",
        "            break\n",
        "        else:\n",
        "            print(\"Invalid action. Try again.\")\n",
        "\n",
        "        # Random sickness if energy or happiness is low\n",
        "        if pet[\"energy\"] < 3 or pet[\"happiness\"] < 3:\n",
        "            pet = get_sick(pet)\n",
        "\n",
        "        if not status(pet):\n",
        "            break\n",
        "\n",
        "if __name__ == \"__main__\":\n",
        "    main()"
      ],
      "metadata": {
        "colab": {
          "base_uri": "https://localhost:8080/",
          "height": 443
        },
        "id": "RqMTZxjIWjk-",
        "outputId": "65908621-6a32-4f4c-92e0-c909a42f6c3c"
      },
      "id": "RqMTZxjIWjk-",
      "execution_count": 2,
      "outputs": [
        {
          "output_type": "stream",
          "name": "stdout",
          "text": [
            "What would you like Fluffy to do? (eat/sleep/play/status/quit): eat\n",
            "Fluffy - Health: 10, Energy: 12, Happiness: 10\n",
            "What would you like Fluffy to do? (eat/sleep/play/status/quit): sleep\n",
            "Fluffy - Health: 12, Energy: 12, Happiness: 10\n",
            "What would you like Fluffy to do? (eat/sleep/play/status/quit): sleep\n",
            "Fluffy - Health: 14, Energy: 12, Happiness: 10\n"
          ]
        },
        {
          "output_type": "error",
          "ename": "KeyboardInterrupt",
          "evalue": "Interrupted by user",
          "traceback": [
            "\u001b[0;31m---------------------------------------------------------------------------\u001b[0m",
            "\u001b[0;31mKeyboardInterrupt\u001b[0m                         Traceback (most recent call last)",
            "\u001b[0;32m<ipython-input-2-c98046d1069b>\u001b[0m in \u001b[0;36m<cell line: 0>\u001b[0;34m()\u001b[0m\n\u001b[1;32m     48\u001b[0m \u001b[0;34m\u001b[0m\u001b[0m\n\u001b[1;32m     49\u001b[0m \u001b[0;32mif\u001b[0m \u001b[0m__name__\u001b[0m \u001b[0;34m==\u001b[0m \u001b[0;34m\"__main__\"\u001b[0m\u001b[0;34m:\u001b[0m\u001b[0;34m\u001b[0m\u001b[0;34m\u001b[0m\u001b[0m\n\u001b[0;32m---> 50\u001b[0;31m     \u001b[0mmain\u001b[0m\u001b[0;34m(\u001b[0m\u001b[0;34m)\u001b[0m\u001b[0;34m\u001b[0m\u001b[0;34m\u001b[0m\u001b[0m\n\u001b[0m",
            "\u001b[0;32m<ipython-input-2-c98046d1069b>\u001b[0m in \u001b[0;36mmain\u001b[0;34m()\u001b[0m\n\u001b[1;32m     25\u001b[0m     \u001b[0mpet\u001b[0m \u001b[0;34m=\u001b[0m \u001b[0mcreate_pet\u001b[0m\u001b[0;34m(\u001b[0m\u001b[0mpet_name\u001b[0m\u001b[0;34m)\u001b[0m\u001b[0;34m\u001b[0m\u001b[0;34m\u001b[0m\u001b[0m\n\u001b[1;32m     26\u001b[0m     \u001b[0;32mwhile\u001b[0m \u001b[0;32mTrue\u001b[0m\u001b[0;34m:\u001b[0m\u001b[0;34m\u001b[0m\u001b[0;34m\u001b[0m\u001b[0m\n\u001b[0;32m---> 27\u001b[0;31m         \u001b[0maction\u001b[0m \u001b[0;34m=\u001b[0m \u001b[0minput\u001b[0m\u001b[0;34m(\u001b[0m\u001b[0;34mf\"What would you like {pet_name} to do? (eat/sleep/play/status/quit): \"\u001b[0m\u001b[0;34m)\u001b[0m\u001b[0;34m.\u001b[0m\u001b[0mlower\u001b[0m\u001b[0;34m(\u001b[0m\u001b[0;34m)\u001b[0m\u001b[0;34m\u001b[0m\u001b[0;34m\u001b[0m\u001b[0m\n\u001b[0m\u001b[1;32m     28\u001b[0m         \u001b[0;32mif\u001b[0m \u001b[0maction\u001b[0m \u001b[0;34m==\u001b[0m \u001b[0;34m\"eat\"\u001b[0m\u001b[0;34m:\u001b[0m\u001b[0;34m\u001b[0m\u001b[0;34m\u001b[0m\u001b[0m\n\u001b[1;32m     29\u001b[0m             \u001b[0mpet\u001b[0m \u001b[0;34m=\u001b[0m \u001b[0meat\u001b[0m\u001b[0;34m(\u001b[0m\u001b[0mpet\u001b[0m\u001b[0;34m)\u001b[0m\u001b[0;34m\u001b[0m\u001b[0;34m\u001b[0m\u001b[0m\n",
            "\u001b[0;32m/usr/local/lib/python3.11/dist-packages/ipykernel/kernelbase.py\u001b[0m in \u001b[0;36mraw_input\u001b[0;34m(self, prompt)\u001b[0m\n\u001b[1;32m   1175\u001b[0m                 \u001b[0;34m\"raw_input was called, but this frontend does not support input requests.\"\u001b[0m\u001b[0;34m\u001b[0m\u001b[0;34m\u001b[0m\u001b[0m\n\u001b[1;32m   1176\u001b[0m             )\n\u001b[0;32m-> 1177\u001b[0;31m         return self._input_request(\n\u001b[0m\u001b[1;32m   1178\u001b[0m             \u001b[0mstr\u001b[0m\u001b[0;34m(\u001b[0m\u001b[0mprompt\u001b[0m\u001b[0;34m)\u001b[0m\u001b[0;34m,\u001b[0m\u001b[0;34m\u001b[0m\u001b[0;34m\u001b[0m\u001b[0m\n\u001b[1;32m   1179\u001b[0m             \u001b[0mself\u001b[0m\u001b[0;34m.\u001b[0m\u001b[0m_parent_ident\u001b[0m\u001b[0;34m[\u001b[0m\u001b[0;34m\"shell\"\u001b[0m\u001b[0;34m]\u001b[0m\u001b[0;34m,\u001b[0m\u001b[0;34m\u001b[0m\u001b[0;34m\u001b[0m\u001b[0m\n",
            "\u001b[0;32m/usr/local/lib/python3.11/dist-packages/ipykernel/kernelbase.py\u001b[0m in \u001b[0;36m_input_request\u001b[0;34m(self, prompt, ident, parent, password)\u001b[0m\n\u001b[1;32m   1217\u001b[0m             \u001b[0;32mexcept\u001b[0m \u001b[0mKeyboardInterrupt\u001b[0m\u001b[0;34m:\u001b[0m\u001b[0;34m\u001b[0m\u001b[0;34m\u001b[0m\u001b[0m\n\u001b[1;32m   1218\u001b[0m                 \u001b[0;31m# re-raise KeyboardInterrupt, to truncate traceback\u001b[0m\u001b[0;34m\u001b[0m\u001b[0;34m\u001b[0m\u001b[0m\n\u001b[0;32m-> 1219\u001b[0;31m                 \u001b[0;32mraise\u001b[0m \u001b[0mKeyboardInterrupt\u001b[0m\u001b[0;34m(\u001b[0m\u001b[0;34m\"Interrupted by user\"\u001b[0m\u001b[0;34m)\u001b[0m \u001b[0;32mfrom\u001b[0m \u001b[0;32mNone\u001b[0m\u001b[0;34m\u001b[0m\u001b[0;34m\u001b[0m\u001b[0m\n\u001b[0m\u001b[1;32m   1220\u001b[0m             \u001b[0;32mexcept\u001b[0m \u001b[0mException\u001b[0m\u001b[0;34m:\u001b[0m\u001b[0;34m\u001b[0m\u001b[0;34m\u001b[0m\u001b[0m\n\u001b[1;32m   1221\u001b[0m                 \u001b[0mself\u001b[0m\u001b[0;34m.\u001b[0m\u001b[0mlog\u001b[0m\u001b[0;34m.\u001b[0m\u001b[0mwarning\u001b[0m\u001b[0;34m(\u001b[0m\u001b[0;34m\"Invalid Message:\"\u001b[0m\u001b[0;34m,\u001b[0m \u001b[0mexc_info\u001b[0m\u001b[0;34m=\u001b[0m\u001b[0;32mTrue\u001b[0m\u001b[0;34m)\u001b[0m\u001b[0;34m\u001b[0m\u001b[0;34m\u001b[0m\u001b[0m\n",
            "\u001b[0;31mKeyboardInterrupt\u001b[0m: Interrupted by user"
          ]
        }
      ]
    },
    {
      "cell_type": "code",
      "source": [],
      "metadata": {
        "id": "WE2mutJfZEq8"
      },
      "id": "WE2mutJfZEq8",
      "execution_count": null,
      "outputs": []
    }
  ],
  "metadata": {
    "kernelspec": {
      "display_name": "Python 3",
      "language": "python",
      "name": "python3"
    },
    "language_info": {
      "name": "python",
      "version": ""
    },
    "colab": {
      "provenance": [],
      "include_colab_link": true
    }
  },
  "nbformat": 4,
  "nbformat_minor": 5
}