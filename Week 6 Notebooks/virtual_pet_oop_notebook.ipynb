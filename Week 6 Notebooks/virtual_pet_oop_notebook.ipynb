{
  "cells": [
    {
      "cell_type": "markdown",
      "metadata": {
        "id": "view-in-github",
        "colab_type": "text"
      },
      "source": [
        "<a href=\"https://colab.research.google.com/github/michael-adci/CSC101-Introduction-to-Programing/blob/main/Week%206%20Notebooks/virtual_pet_oop_notebook.ipynb\" target=\"_parent\"><img src=\"https://colab.research.google.com/assets/colab-badge.svg\" alt=\"Open In Colab\"/></a>"
      ]
    },
    {
      "cell_type": "markdown",
      "metadata": {
        "id": "0KjStvU6S5Sa"
      },
      "source": [
        "# 🐾 Virtual Pet Game: OOP in Python\n",
        "\n",
        "Welcome to the **Tamagotchi-style Pet Game**! In this notebook, you'll learn how to use **Object-Oriented Programming (OOP)** to simulate a virtual pet that you can feed, play with, and take care of.\n",
        "\n",
        "By the end of this notebook, you will:\n",
        "- Understand classes, attributes, and methods\n",
        "- Build a `Pet` class\n",
        "- Create a game loop using your class\n",
        "- Use your code to interact with your virtual pet\n",
        "\n",
        "---"
      ],
      "id": "0KjStvU6S5Sa"
    },
    {
      "cell_type": "markdown",
      "source": [
        "## 💬 Ask an AI Assistant\n",
        "\n",
        "Use ChatGPT or another LLM to brainstorm ideas.\n",
        "\n",
        "### Example Prompts:\n",
        "- \"Help me list nouns and verbs for a virtual pet simulator.\"\n",
        "- \"What objects and actions would be part of a pet care game?\"\n",
        "- \"I want to design a game with a digital creature that needs food, sleep, and play. What classes and methods might I need?\"\n",
        "\n",
        "### Example Output:\n",
        "- **Nouns**: `Pet`, `Toy`, `Food`, `Player`, `Vet`\n",
        "- **Verbs**: `eat()`, `sleep()`, `play()`, `heal()`, `get_sick()`\n",
        "\n",
        "👉 Try coming up with your own prompt and asking the AI!"
      ],
      "metadata": {
        "id": "QrBCcYoXesIQ"
      },
      "id": "QrBCcYoXesIQ"
    },
    {
      "cell_type": "markdown",
      "source": [
        "# 🧠 Nouns and Verbs in OOP: Design Your World\n",
        "\n",
        "Before writing any code, let’s use our imagination — and AI — to help us design!\n",
        "\n",
        "Object-Oriented Programming (OOP) works really well when you think about:\n",
        "- 🟡 **Nouns** as **objects** or **classes** (like `Pet`, `Toy`, `Player`)\n",
        "- 🔵 **Verbs** as **actions** or **methods** (like `eat()`, `sleep()`, `play()`)\n",
        "\n",
        "---"
      ],
      "metadata": {
        "id": "rH-cELs2edPj"
      },
      "id": "rH-cELs2edPj"
    },
    {
      "cell_type": "markdown",
      "source": [
        "## 🎨 Choose Your Own Theme (Optional)\n",
        "\n",
        "Want to do something *other than* a pet game?\n",
        "\n",
        "Try using AI to brainstorm classes and methods for one of these themes:\n",
        "- A space explorer\n",
        "- A coffee shop simulator\n",
        "- A haunted house\n",
        "- A robot chef\n",
        "\n",
        "💬 Example Prompt:\n",
        "> \"I want to make a haunted house game using object-oriented programming. What classes and methods should I create?\"\n",
        "\n",
        "🎯 **Task:**\n",
        "1. Choose a theme you like.\n",
        "2. Ask an AI to help you design it.\n",
        "3. Pick one idea and sketch out your class and method plan!"
      ],
      "metadata": {
        "id": "2N7U6yDde1NU"
      },
      "id": "2N7U6yDde1NU"
    },
    {
      "cell_type": "markdown",
      "metadata": {
        "id": "PGst12iOS5Sb"
      },
      "source": [
        "*Lets get back to our game....*\n",
        "\n",
        "## 🎯 Step 1: Understand the Problem\n",
        "\n",
        "You're designing a virtual pet. It starts happy and healthy, but you must take care of it!\n",
        "\n",
        "**Your pet can:**\n",
        "- `eat()` to gain energy\n",
        "- `sleep()` to restore health\n",
        "- `play()` to stay happy\n",
        "- `get_sick()` if it's neglected\n",
        "- `status()` to see how it's doing\n",
        "\n",
        "If your pet’s `health`, `happiness`, or `energy` drops to 0, it may get sick or die."
      ],
      "id": "PGst12iOS5Sb"
    },
    {
      "cell_type": "markdown",
      "metadata": {
        "id": "ohRW69BBS5Sb"
      },
      "source": [
        "## 🔨 Step 2: Define the Pet Class\n",
        "\n",
        "Let’s start by defining a simple `Pet` class with attributes and methods."
      ],
      "id": "ohRW69BBS5Sb"
    },
    {
      "cell_type": "code",
      "metadata": {
        "id": "6iV7B-4pS5Sc"
      },
      "execution_count": null,
      "outputs": [],
      "source": [
        "class Pet:\n",
        "    def __init__(self, name):\n",
        "        self.name = name\n",
        "        self.health = 10\n",
        "        self.energy = 10\n",
        "        self.happiness = 10\n",
        "        self.is_alive = True\n",
        "\n",
        "    def eat(self):\n",
        "        self.energy += 2\n",
        "        print(f\"{self.name} eats and gains energy!\")\n",
        "\n",
        "    def sleep(self):\n",
        "        self.health += 2\n",
        "        print(f\"{self.name} sleeps and feels healthier.\")\n",
        "\n",
        "    def play(self):\n",
        "        self.happiness += 2\n",
        "        self.energy -= 1\n",
        "        print(f\"{self.name} plays and feels happy!\")\n",
        "\n",
        "    def get_sick(self):\n",
        "        self.health -= 3\n",
        "        print(f\"Oh no! {self.name} is sick.\")\n",
        "\n",
        "    def status(self):\n",
        "        print(f\"{self.name} - Health: {self.health}, Energy: {self.energy}, Happiness: {self.happiness}\")\n",
        "        if self.health <= 0 or self.energy <= 0 or self.happiness <= 0:\n",
        "            self.is_alive = False\n",
        "            print(f\"Sadly, {self.name} has passed away.\")"
      ],
      "id": "6iV7B-4pS5Sc"
    },
    {
      "cell_type": "markdown",
      "metadata": {
        "id": "w3NGuor4S5Sc"
      },
      "source": [
        "## 🔁 Step 3: Create a Game Loop\n",
        "\n",
        "Let’s interact with your pet using a loop. You can:\n",
        "- feed it\n",
        "- put it to sleep\n",
        "- play with it\n",
        "- check its status"
      ],
      "id": "w3NGuor4S5Sc"
    },
    {
      "cell_type": "code",
      "metadata": {
        "id": "A-7FRvGDS5Sc"
      },
      "execution_count": null,
      "outputs": [],
      "source": [
        "my_pet = Pet(\"Fluffy\")\n",
        "\n",
        "while my_pet.is_alive:\n",
        "    action = input(\"What would you like Fluffy to do? (eat/sleep/play/status/quit): \").lower()\n",
        "    if action == \"eat\":\n",
        "        my_pet.eat()\n",
        "    elif action == \"sleep\":\n",
        "        my_pet.sleep()\n",
        "    elif action == \"play\":\n",
        "        my_pet.play()\n",
        "    elif action == \"status\":\n",
        "        my_pet.status()\n",
        "    elif action == \"quit\":\n",
        "        print(\"Thanks for playing!\")\n",
        "        break\n",
        "    else:\n",
        "        print(\"Invalid action. Try again.\")\n",
        "\n",
        "    # Random sickness if energy or happiness is low\n",
        "    if my_pet.energy < 3 or my_pet.happiness < 3:\n",
        "        my_pet.get_sick()\n",
        "\n",
        "    my_pet.status()"
      ],
      "id": "A-7FRvGDS5Sc"
    },
    {
      "cell_type": "markdown",
      "metadata": {
        "id": "81oNUDoMS5Sc"
      },
      "source": [
        "## 🚀 Challenge: Add More Features\n",
        "\n",
        "1. Add a `treat()` method that increases health.\n",
        "2. Add a `days_survived` counter.\n",
        "3. Prevent stats from going above 10.\n",
        "4. Add levels or aging!\n",
        "\n",
        "Want help? Ask your AI assistant for ideas and code!"
      ],
      "id": "81oNUDoMS5Sc"
    },
    {
      "cell_type": "markdown",
      "metadata": {
        "id": "-6BWCp1NlKsU"
      },
      "source": [
        "## 🧪 Different Programming Styles\n",
        "\n",
        "This notebook explores **three different ways** to implement the virtual pet game:\n",
        "\n",
        "### 1. 🧱 Object-Oriented Programming (OOP)\n",
        "- Uses a `Pet` class to group data (attributes) and behavior (methods)\n",
        "- Models real-world concepts using objects\n",
        "- Great for reuse, extension, and organizing code logically\n",
        "\n",
        "### 2. 🧰 Using Functions (Structured Programming)\n",
        "- Uses functions to manipulate a dictionary or other data structure representing the pet\n",
        "- Keeps logic modular without requiring classes\n",
        "- Easier transition for students new to OOP\n",
        "\n",
        "### 3. 🔄 Functional Programming Style\n",
        "- Treats the pet's state as immutable data\n",
        "- Functions return **new versions** of the pet state instead of changing it in-place\n",
        "- Emphasizes **pure functions** and stateless operations\n",
        "\n",
        "These versions may **differ slightly in behavior** — and that's okay!\n",
        "The goal is to show how the same problem can be solved using different programming **paradigms** or **mindsets**.\n",
        "\n",
        "Try comparing them: What’s easier to read? What’s easier to extend or maintain?"
      ],
      "id": "-6BWCp1NlKsU"
    },
    {
      "cell_type": "markdown",
      "source": [
        "## Using Functions\n",
        "\n",
        "What abut the other paridigms we discussed.  irst lets lok as using function, and thn we will ook at fuctional version."
      ],
      "metadata": {
        "id": "XVpqVrm2fuCp"
      },
      "id": "XVpqVrm2fuCp"
    },
    {
      "cell_type": "code",
      "source": [
        "import random\n",
        "\n",
        "def create_pet(name):\n",
        "    \"\"\"Create a new pet with the given name.\"\"\"\n",
        "    return {\n",
        "        \"name\": name,\n",
        "        \"health\": 10,\n",
        "        \"energy\": 10,\n",
        "        \"happiness\": 10,\n",
        "        \"is_alive\": True\n",
        "    }\n",
        "\n",
        "def eat(pet):\n",
        "    \"\"\"Feed the pet and increase its energy.\"\"\"\n",
        "    pet[\"energy\"] += 2\n",
        "    print(f\"{pet['name']} eats and gains energy!\")\n",
        "\n",
        "def sleep(pet):\n",
        "    \"\"\"Put the pet to sleep and increase its health.\"\"\"\n",
        "    pet[\"health\"] += 2\n",
        "    print(f\"{pet['name']} sleeps and feels healthier.\")\n",
        "\n",
        "def play(pet):\n",
        "    \"\"\"Play with the pet and increase its happiness.\"\"\"\n",
        "    pet[\"happiness\"] += 2\n",
        "    pet[\"energy\"] -= 1\n",
        "    print(f\"{pet['name']} plays and feels happy!\")\n",
        "\n",
        "def get_sick(pet):\n",
        "    \"\"\"Make the pet sick and decrease its health.\"\"\"\n",
        "    pet[\"health\"] -= 3\n",
        "    print(f\"Oh no! {pet['name']} is sick.\")\n",
        "\n",
        "def status(pet):\n",
        "    \"\"\"Print the pet's status and check if it's alive.\"\"\"\n",
        "    print(f\"{pet['name']} - Health: {pet['health']}, Energy: {pet['energy']}, Happiness: {pet['happiness']}\")\n",
        "    if pet[\"health\"] <= 0 or pet[\"energy\"] <= 0 or pet[\"happiness\"] <= 0:\n",
        "        pet[\"is_alive\"] = False\n",
        "        print(f\"Sadly, {pet['name']} has passed away.\")\n",
        "\n",
        "def main():\n",
        "    pet_name = \"Fluffy\"\n",
        "    pet = create_pet(pet_name)\n",
        "\n",
        "    while pet[\"is_alive\"]:\n",
        "        action = input(f\"What would you like {pet_name} to do? (eat/sleep/play/status/quit): \").lower()\n",
        "        if action == \"eat\":\n",
        "            eat(pet)\n",
        "        elif action == \"sleep\":\n",
        "            sleep(pet)\n",
        "        elif action == \"play\":\n",
        "            play(pet)\n",
        "        elif action == \"status\":\n",
        "            status(pet)\n",
        "        elif action == \"quit\":\n",
        "            print(\"Thanks for playing!\")\n",
        "            break\n",
        "        else:\n",
        "            print(\"Invalid action. Try again.\")\n",
        "\n",
        "        # Random sickness if energy or happiness is low\n",
        "        if pet[\"energy\"] < 3 or pet[\"happiness\"] < 3:\n",
        "            if random.random() < 0.5:  # 50% chance of getting sick\n",
        "                get_sick(pet)\n",
        "\n",
        "        status(pet)\n",
        "\n",
        "if __name__ == \"__main__\":\n",
        "    main()"
      ],
      "metadata": {
        "id": "rA2csYLnWiiV"
      },
      "id": "rA2csYLnWiiV",
      "execution_count": null,
      "outputs": []
    },
    {
      "cell_type": "markdown",
      "source": [
        "## Function Programming Version"
      ],
      "metadata": {
        "id": "xgucQctPgBIR"
      },
      "id": "xgucQctPgBIR"
    },
    {
      "cell_type": "code",
      "source": [
        "def create_pet(name):\n",
        "    return {\"name\": name, \"health\": 10, \"energy\": 10, \"happiness\": 10, \"is_alive\": True}\n",
        "\n",
        "def eat(pet):\n",
        "    return {\"name\": pet[\"name\"], \"health\": pet[\"health\"], \"energy\": pet[\"energy\"] + 2, \"happiness\": pet[\"happiness\"], \"is_alive\": pet[\"is_alive\"]}\n",
        "\n",
        "def sleep(pet):\n",
        "    return {\"name\": pet[\"name\"], \"health\": pet[\"health\"] + 2, \"energy\": pet[\"energy\"], \"happiness\": pet[\"happiness\"], \"is_alive\": pet[\"is_alive\"]}\n",
        "\n",
        "def play(pet):\n",
        "    return {\"name\": pet[\"name\"], \"health\": pet[\"health\"], \"energy\": pet[\"energy\"] - 1, \"happiness\": pet[\"happiness\"] + 2, \"is_alive\": pet[\"is_alive\"]}\n",
        "\n",
        "def get_sick(pet):\n",
        "    return {\"name\": pet[\"name\"], \"health\": pet[\"health\"] - 3, \"energy\": pet[\"energy\"], \"happiness\": pet[\"happiness\"], \"is_alive\": pet[\"is_alive\"]}\n",
        "\n",
        "def status(pet):\n",
        "    print(f\"{pet['name']} - Health: {pet['health']}, Energy: {pet['energy']}, Happiness: {pet['happiness']}\")\n",
        "    if pet[\"health\"] <= 0 or pet[\"energy\"] <= 0 or pet[\"happiness\"] <= 0:\n",
        "        print(f\"Sadly, {pet['name']} has passed away.\")\n",
        "        return False\n",
        "    return True\n",
        "\n",
        "def main():\n",
        "    pet_name = \"Fluffy\"\n",
        "    pet = create_pet(pet_name)\n",
        "    while True:\n",
        "        action = input(f\"What would you like {pet_name} to do? (eat/sleep/play/status/quit): \").lower()\n",
        "        if action == \"eat\":\n",
        "            pet = eat(pet)\n",
        "        elif action == \"sleep\":\n",
        "            pet = sleep(pet)\n",
        "        elif action == \"play\":\n",
        "            pet = play(pet)\n",
        "        elif action == \"status\":\n",
        "            status(pet)\n",
        "        elif action == \"quit\":\n",
        "            print(\"Thanks for playing!\")\n",
        "            break\n",
        "        else:\n",
        "            print(\"Invalid action. Try again.\")\n",
        "\n",
        "        # Random sickness if energy or happiness is low\n",
        "        if pet[\"energy\"] < 3 or pet[\"happiness\"] < 3:\n",
        "            pet = get_sick(pet)\n",
        "\n",
        "        if not status(pet):\n",
        "            break\n",
        "\n",
        "if __name__ == \"__main__\":\n",
        "    main()"
      ],
      "metadata": {
        "id": "RqMTZxjIWjk-"
      },
      "id": "RqMTZxjIWjk-",
      "execution_count": null,
      "outputs": []
    },
    {
      "cell_type": "markdown",
      "metadata": {
        "id": "CFzVdRx9lKsU"
      },
      "source": [
        "## 🔍 Comparing the Versions\n",
        "\n",
        "Here’s a quick summary comparing the three programming styles used in this notebook:\n",
        "\n",
        "| Feature / Style           | Object-Oriented (OOP)          | Structured (Using Functions)         | Functional Programming             |\n",
        "|---------------------------|--------------------------------|--------------------------------------|------------------------------------|\n",
        "| **Main unit**             | `class Pet`                    | Functions + mutable dictionary       | Pure functions + immutable dict    |\n",
        "| **Modifies data?**        | Yes (via methods)              | Yes (mutates a shared structure)     | No (returns a new copy each time)  |\n",
        "| **Code organization**     | Behaviors grouped in class     | Functions act on shared state        | Functions transform state          |\n",
        "| **State management**      | Internal to object             | External and shared                  | External and passed explicitly     |\n",
        "| **Best for...**           | Complex systems, reuse         | Simpler programs, beginners          | Predictable logic, testability     |\n",
        "\n",
        "---\n",
        "\n",
        "## 🧠 Reflection Prompts\n",
        "\n",
        "Try answering a few of these questions:\n",
        "\n",
        "1. Which version was **easiest to understand**? Why?\n",
        "2. Which version would be **easier to extend**, for example to add aging or illness effects?\n",
        "3. How did the use of **state** differ between the styles?\n",
        "4. Which style feels more like **real-world modeling**?\n",
        "5. Which version might be better for a **multiplayer pet game** with lots of interacting pets?\n",
        "6. How does each style make **bugs or mistakes** easier/harder to find?\n",
        "\n",
        "Take notes or discuss your answers with a peer!"
      ],
      "id": "CFzVdRx9lKsU"
    },
    {
      "cell_type": "markdown",
      "metadata": {
        "id": "SU2A8gMLlKsW"
      },
      "source": [
        "## 🕹️ Bonus: Interactive Pet with Buttons (ipywidgets)\n",
        "\n",
        "This version uses **ipywidgets** to let you interact with your pet using buttons!\n",
        "\n",
        "- Click **Eat**, **Sleep**, or **Play** to take care of your pet\n",
        "- View your pet's current status using emojis for health, energy, and happiness\n",
        "- Try letting your pet get low on energy or happiness to see what happens!\n",
        "\n",
        "⚠️ You must run this notebook in **Jupyter Notebook** or **JupyterLab** for the buttons to work."
      ],
      "id": "SU2A8gMLlKsW"
    },
    {
      "cell_type": "markdown",
      "metadata": {
        "id": "OSPHPHnllKsW"
      },
      "source": [
        "## 💡 What's Going On Behind the Scenes?\n",
        "\n",
        "The buttons you're clicking — `Eat`, `Sleep`, and `Play` — are actually **Python objects** too!\n",
        "\n",
        "- They're created using `ipywidgets.Button(...)`\n",
        "- Each button has **attributes**, like `description`, which sets the text on the button\n",
        "- They have **methods**, like `.on_click(...)`, which let you attach functions to respond to clicks\n",
        "\n",
        "```python\n",
        "eat_button = Button(description=\"🍽️ Eat\")\n",
        "eat_button.on_click(on_eat_clicked)\n",
        "```\n",
        "\n",
        "You don’t need to understand all the details right now, but just know:\n",
        "> These buttons are **objects**, just like your `Pet`. They have data and behavior bundled together.\n",
        "\n",
        "This is a small preview of how **Object-Oriented Programming** is used in real-world Python tools like GUIs and data apps!"
      ],
      "id": "OSPHPHnllKsW"
    },
    {
      "cell_type": "code",
      "metadata": {
        "id": "qhjsqVSAlKsX"
      },
      "execution_count": null,
      "outputs": [],
      "source": [
        "from ipywidgets import Button, HBox, VBox, Output\n",
        "import IPython.display as display\n",
        "\n",
        "class Pet:\n",
        "    def __init__(self, name):\n",
        "        self.name = name\n",
        "        self.health = 10\n",
        "        self.energy = 10\n",
        "        self.happiness = 10\n",
        "        self.is_alive = True\n",
        "\n",
        "    def eat(self):\n",
        "        if self.is_alive:\n",
        "            self.energy += 2\n",
        "            self._check_alive()\n",
        "\n",
        "    def sleep(self):\n",
        "        if self.is_alive:\n",
        "            self.health += 2\n",
        "            self._check_alive()\n",
        "\n",
        "    def play(self):\n",
        "        if self.is_alive:\n",
        "            self.happiness += 2\n",
        "            self.energy -= 1\n",
        "            self._check_alive()\n",
        "\n",
        "    def get_sick(self):\n",
        "        self.health -= 3\n",
        "\n",
        "    def _check_alive(self):\n",
        "        if self.health <= 0 or self.energy <= 0 or self.happiness <= 0:\n",
        "            self.is_alive = False\n",
        "\n",
        "    def get_status(self):\n",
        "        return (\n",
        "            f\"{self.name} Status:\\n\"\n",
        "            f\"Health     : {'❤️' * max(0, min(10, self.health))}\\n\"\n",
        "            f\"Energy     : {'⚡' * max(0, min(10, self.energy))}\\n\"\n",
        "            f\"Happiness  : {'😊' * max(0, min(10, self.happiness))}\\n\"\n",
        "            + (\"💀 Your pet has passed away.\" if not self.is_alive else \"\")\n",
        "        )\n",
        "\n",
        "# Create widgets\n",
        "pet = Pet(\"Fluffy\")\n",
        "output = Output()\n",
        "\n",
        "def update_status():\n",
        "    output.clear_output()\n",
        "    with output:\n",
        "        print(pet.get_status())\n",
        "\n",
        "def on_eat_clicked(b):\n",
        "    pet.eat()\n",
        "    update_status()\n",
        "\n",
        "def on_sleep_clicked(b):\n",
        "    pet.sleep()\n",
        "    update_status()\n",
        "\n",
        "def on_play_clicked(b):\n",
        "    pet.play()\n",
        "    if pet.energy < 3 or pet.happiness < 3:\n",
        "        pet.get_sick()\n",
        "    update_status()\n",
        "\n",
        "eat_button = Button(description=\"🍽️ Eat\")\n",
        "sleep_button = Button(description=\"😴 Sleep\")\n",
        "play_button = Button(description=\"🎮 Play\")\n",
        "\n",
        "eat_button.on_click(on_eat_clicked)\n",
        "sleep_button.on_click(on_sleep_clicked)\n",
        "play_button.on_click(on_play_clicked)\n",
        "\n",
        "# Display UI\n",
        "update_status()\n",
        "VBox([HBox([eat_button, sleep_button, play_button]), output])"
      ],
      "id": "qhjsqVSAlKsX"
    }
  ],
  "metadata": {
    "kernelspec": {
      "display_name": "Python 3",
      "language": "python",
      "name": "python3"
    },
    "language_info": {
      "name": "python",
      "version": ""
    },
    "colab": {
      "provenance": [],
      "include_colab_link": true
    }
  },
  "nbformat": 4,
  "nbformat_minor": 5
}