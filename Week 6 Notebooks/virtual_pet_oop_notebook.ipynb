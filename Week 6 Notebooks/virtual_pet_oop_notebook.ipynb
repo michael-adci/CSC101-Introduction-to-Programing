{
  "cells": [
    {
      "cell_type": "markdown",
      "metadata": {
        "id": "view-in-github",
        "colab_type": "text"
      },
      "source": [
        "<a href=\"https://colab.research.google.com/github/michael-adci/CSC101-Introduction-to-Programing/blob/main/Week%206%20Notebooks/virtual_pet_oop_notebook.ipynb\" target=\"_parent\"><img src=\"https://colab.research.google.com/assets/colab-badge.svg\" alt=\"Open In Colab\"/></a>"
      ]
    },
    {
      "cell_type": "markdown",
      "metadata": {
        "id": "0KjStvU6S5Sa"
      },
      "source": [
        "# 🐾 Virtual Pet Game: OOP in Python\n",
        "\n",
        "Welcome to the **Tamagotchi-style Pet Game**! In this notebook, you'll learn how to use **Object-Oriented Programming (OOP)** to simulate a virtual pet that you can feed, play with, and take care of.\n",
        "\n",
        "By the end of this notebook, you will:\n",
        "- Understand classes, attributes, and methods\n",
        "- Build a `Pet` class\n",
        "- Create a game loop using your class\n",
        "- Use your code to interact with your virtual pet\n",
        "\n",
        "---"
      ],
      "id": "0KjStvU6S5Sa"
    },
    {
      "cell_type": "markdown",
      "metadata": {
        "id": "PGst12iOS5Sb"
      },
      "source": [
        "## 🎯 Step 1: Understand the Problem\n",
        "\n",
        "You're designing a virtual pet. It starts happy and healthy, but you must take care of it!\n",
        "\n",
        "**Your pet can:**\n",
        "- `eat()` to gain energy\n",
        "- `sleep()` to restore health\n",
        "- `play()` to stay happy\n",
        "- `get_sick()` if it's neglected\n",
        "- `status()` to see how it's doing\n",
        "\n",
        "If your pet’s `health`, `happiness`, or `energy` drops to 0, it may get sick or die."
      ],
      "id": "PGst12iOS5Sb"
    },
    {
      "cell_type": "markdown",
      "metadata": {
        "id": "ohRW69BBS5Sb"
      },
      "source": [
        "## 🔨 Step 2: Define the Pet Class\n",
        "\n",
        "Let’s start by defining a simple `Pet` class with attributes and methods."
      ],
      "id": "ohRW69BBS5Sb"
    },
    {
      "cell_type": "code",
      "metadata": {
        "id": "6iV7B-4pS5Sc"
      },
      "execution_count": null,
      "outputs": [],
      "source": [
        "class Pet:\n",
        "    def __init__(self, name):\n",
        "        self.name = name\n",
        "        self.health = 10\n",
        "        self.energy = 10\n",
        "        self.happiness = 10\n",
        "        self.is_alive = True\n",
        "\n",
        "    def eat(self):\n",
        "        self.energy += 2\n",
        "        print(f\"{self.name} eats and gains energy!\")\n",
        "\n",
        "    def sleep(self):\n",
        "        self.health += 2\n",
        "        print(f\"{self.name} sleeps and feels healthier.\")\n",
        "\n",
        "    def play(self):\n",
        "        self.happiness += 2\n",
        "        self.energy -= 1\n",
        "        print(f\"{self.name} plays and feels happy!\")\n",
        "\n",
        "    def get_sick(self):\n",
        "        self.health -= 3\n",
        "        print(f\"Oh no! {self.name} is sick.\")\n",
        "\n",
        "    def status(self):\n",
        "        print(f\"{self.name} - Health: {self.health}, Energy: {self.energy}, Happiness: {self.happiness}\")\n",
        "        if self.health <= 0 or self.energy <= 0 or self.happiness <= 0:\n",
        "            self.is_alive = False\n",
        "            print(f\"Sadly, {self.name} has passed away.\")"
      ],
      "id": "6iV7B-4pS5Sc"
    },
    {
      "cell_type": "markdown",
      "metadata": {
        "id": "w3NGuor4S5Sc"
      },
      "source": [
        "## 🔁 Step 3: Create a Game Loop\n",
        "\n",
        "Let’s interact with your pet using a loop. You can:\n",
        "- feed it\n",
        "- put it to sleep\n",
        "- play with it\n",
        "- check its status"
      ],
      "id": "w3NGuor4S5Sc"
    },
    {
      "cell_type": "code",
      "metadata": {
        "id": "A-7FRvGDS5Sc"
      },
      "execution_count": null,
      "outputs": [],
      "source": [
        "my_pet = Pet(\"Fluffy\")\n",
        "\n",
        "while my_pet.is_alive:\n",
        "    action = input(\"What would you like Fluffy to do? (eat/sleep/play/status/quit): \").lower()\n",
        "    if action == \"eat\":\n",
        "        my_pet.eat()\n",
        "    elif action == \"sleep\":\n",
        "        my_pet.sleep()\n",
        "    elif action == \"play\":\n",
        "        my_pet.play()\n",
        "    elif action == \"status\":\n",
        "        my_pet.status()\n",
        "    elif action == \"quit\":\n",
        "        print(\"Thanks for playing!\")\n",
        "        break\n",
        "    else:\n",
        "        print(\"Invalid action. Try again.\")\n",
        "\n",
        "    # Random sickness if energy or happiness is low\n",
        "    if my_pet.energy < 3 or my_pet.happiness < 3:\n",
        "        my_pet.get_sick()\n",
        "\n",
        "    my_pet.status()"
      ],
      "id": "A-7FRvGDS5Sc"
    },
    {
      "cell_type": "markdown",
      "metadata": {
        "id": "81oNUDoMS5Sc"
      },
      "source": [
        "## 🚀 Challenge: Add More Features\n",
        "\n",
        "1. Add a `treat()` method that increases health.\n",
        "2. Add a `days_survived` counter.\n",
        "3. Prevent stats from going above 10.\n",
        "4. Add levels or aging!\n",
        "\n",
        "Want help? Ask your AI assistant for ideas and code!"
      ],
      "id": "81oNUDoMS5Sc"
    }
  ],
  "metadata": {
    "kernelspec": {
      "display_name": "Python 3",
      "language": "python",
      "name": "python3"
    },
    "language_info": {
      "name": "python",
      "version": ""
    },
    "colab": {
      "provenance": [],
      "include_colab_link": true
    }
  },
  "nbformat": 4,
  "nbformat_minor": 5
}